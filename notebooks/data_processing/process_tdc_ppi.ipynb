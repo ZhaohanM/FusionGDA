{
 "cells": [
  {
   "cell_type": "code",
   "execution_count": 41,
   "id": "c3c9e390-fee1-4fd5-802b-13a4397d5713",
   "metadata": {},
   "outputs": [
    {
     "name": "stderr",
     "output_type": "stream",
     "text": [
      "Found local copy...\n",
      "Loading...\n",
      "Done!\n"
     ]
    }
   ],
   "source": [
    "from tdc.multi_pred import PPI\n",
    "import random\n",
    "import numpy as np\n",
    "np.random.seed(2022) \n",
    "random.seed(2022)\n",
    "data = PPI(name = 'HuRI')\n",
    "data = data.neg_sample(frac = 1)\n",
    "split = data.get_split(seed=2022)"
   ]
  },
  {
   "cell_type": "code",
   "execution_count": 56,
   "id": "2316d3fa-fa07-40c5-b02c-2bc9f3514c2c",
   "metadata": {},
   "outputs": [],
   "source": [
    "split['train'].sample(4096, random_state=2022).to_csv(\"../../data/downstream/tdc_ppi_6k_train.csv\")"
   ]
  },
  {
   "cell_type": "code",
   "execution_count": 57,
   "id": "3ceeff40-7210-4b0a-9c30-0d47234f5bec",
   "metadata": {},
   "outputs": [],
   "source": [
    "split['valid'].sample(1024, random_state=2022).to_csv(\"../../data/downstream/tdc_ppi_6k_valid.csv\")"
   ]
  },
  {
   "cell_type": "code",
   "execution_count": 58,
   "id": "2fcd5aec-aa3b-4a7b-8d73-d85ab3979037",
   "metadata": {},
   "outputs": [],
   "source": [
    "split['test'].sample(1024, random_state=2022).to_csv(\"../../data/downstream/tdc_ppi_6k_test.csv\")"
   ]
  },
  {
   "cell_type": "code",
   "execution_count": 2,
   "id": "2ab03e34-b7ec-4e8b-ac2d-a98f55b25dab",
   "metadata": {},
   "outputs": [],
   "source": [
    "import pandas as pd\n",
    "df = pd.read_csv(\"../../data/downstream/tdc_ppi_6k_test.csv\")"
   ]
  },
  {
   "cell_type": "code",
   "execution_count": null,
   "id": "b71441ee-1e63-4b67-9553-60e7e0464219",
   "metadata": {},
   "outputs": [],
   "source": [
    "df[\"Protein1\"].apply(lambda x:\" \".join(x)).values[:100]\n",
    "sequences_Example = [re.sub(r\"[UZOB]\", \"X\", sequence) for sequence in sequences_Example]"
   ]
  },
  {
   "cell_type": "code",
   "execution_count": 64,
   "id": "dccb067a-186e-4947-8eed-dec348954246",
   "metadata": {},
   "outputs": [
    {
     "name": "stdout",
     "output_type": "stream",
     "text": [
      "README.txt\t  disgenet_gda.csv  string_ppi_900_2m.csv\n",
      "disgenet_dda.csv  string_ppi.csv    string_ppi_920_300k.csv\n"
     ]
    }
   ],
   "source": [
    "!ls ../../data/pretrain"
   ]
  },
  {
   "cell_type": "code",
   "execution_count": 75,
   "id": "3c6fa07a-2b30-42c1-9a32-9d6f200f9bc5",
   "metadata": {},
   "outputs": [
    {
     "data": {
      "text/html": [
       "<div>\n",
       "<style scoped>\n",
       "    .dataframe tbody tr th:only-of-type {\n",
       "        vertical-align: middle;\n",
       "    }\n",
       "\n",
       "    .dataframe tbody tr th {\n",
       "        vertical-align: top;\n",
       "    }\n",
       "\n",
       "    .dataframe thead th {\n",
       "        text-align: right;\n",
       "    }\n",
       "</style>\n",
       "<table border=\"1\" class=\"dataframe\">\n",
       "  <thead>\n",
       "    <tr style=\"text-align: right;\">\n",
       "      <th></th>\n",
       "      <th>diseaseId2</th>\n",
       "      <th>diseaseId1</th>\n",
       "      <th>source</th>\n",
       "      <th>Ngenes</th>\n",
       "      <th>NgenesD1</th>\n",
       "      <th>NgenesD2</th>\n",
       "      <th>union_genes</th>\n",
       "      <th>jaccard_genes</th>\n",
       "      <th>Nvariants</th>\n",
       "      <th>NvariantsD1</th>\n",
       "      <th>NvariantsD2</th>\n",
       "      <th>union_variant</th>\n",
       "      <th>jaccard_variant</th>\n",
       "      <th>diseaseId1_name</th>\n",
       "      <th>diseaseId2_name</th>\n",
       "      <th>diseaseDes1</th>\n",
       "      <th>diseaseDes2</th>\n",
       "    </tr>\n",
       "  </thead>\n",
       "  <tbody>\n",
       "    <tr>\n",
       "      <th>0</th>\n",
       "      <td>C0000731</td>\n",
       "      <td>C0000737</td>\n",
       "      <td>CURATED</td>\n",
       "      <td>0.0</td>\n",
       "      <td>0.0</td>\n",
       "      <td>0.0</td>\n",
       "      <td>0.0</td>\n",
       "      <td>0.0</td>\n",
       "      <td>1.0</td>\n",
       "      <td>11.0</td>\n",
       "      <td>6.0</td>\n",
       "      <td>16.0</td>\n",
       "      <td>0.062500</td>\n",
       "      <td>Abdominal Pain</td>\n",
       "      <td>Abdomen distended</td>\n",
       "      <td>An unpleasant sensation characterized by physi...</td>\n",
       "      <td>Distention of the abdomen.</td>\n",
       "    </tr>\n",
       "    <tr>\n",
       "      <th>1</th>\n",
       "      <td>C0000731</td>\n",
       "      <td>C0005745</td>\n",
       "      <td>CURATED</td>\n",
       "      <td>0.0</td>\n",
       "      <td>0.0</td>\n",
       "      <td>0.0</td>\n",
       "      <td>0.0</td>\n",
       "      <td>0.0</td>\n",
       "      <td>1.0</td>\n",
       "      <td>49.0</td>\n",
       "      <td>6.0</td>\n",
       "      <td>54.0</td>\n",
       "      <td>0.018519</td>\n",
       "      <td>Blepharoptosis</td>\n",
       "      <td>Abdomen distended</td>\n",
       "      <td>The upper eyelid margin is positioned 3 mm or ...</td>\n",
       "      <td>Distention of the abdomen.</td>\n",
       "    </tr>\n",
       "    <tr>\n",
       "      <th>2</th>\n",
       "      <td>C0000731</td>\n",
       "      <td>C0006325</td>\n",
       "      <td>CURATED</td>\n",
       "      <td>0.0</td>\n",
       "      <td>0.0</td>\n",
       "      <td>0.0</td>\n",
       "      <td>0.0</td>\n",
       "      <td>0.0</td>\n",
       "      <td>1.0</td>\n",
       "      <td>6.0</td>\n",
       "      <td>6.0</td>\n",
       "      <td>11.0</td>\n",
       "      <td>0.090909</td>\n",
       "      <td>Bruxism</td>\n",
       "      <td>Abdomen distended</td>\n",
       "      <td>Bruxism is characterized by the grinding of th...</td>\n",
       "      <td>Distention of the abdomen.</td>\n",
       "    </tr>\n",
       "    <tr>\n",
       "      <th>3</th>\n",
       "      <td>C0000731</td>\n",
       "      <td>C0007642</td>\n",
       "      <td>CURATED</td>\n",
       "      <td>0.0</td>\n",
       "      <td>0.0</td>\n",
       "      <td>0.0</td>\n",
       "      <td>0.0</td>\n",
       "      <td>0.0</td>\n",
       "      <td>1.0</td>\n",
       "      <td>1.0</td>\n",
       "      <td>6.0</td>\n",
       "      <td>6.0</td>\n",
       "      <td>0.166667</td>\n",
       "      <td>Cellulitis</td>\n",
       "      <td>Abdomen distended</td>\n",
       "      <td>A bacterial infection and inflammation of the ...</td>\n",
       "      <td>Distention of the abdomen.</td>\n",
       "    </tr>\n",
       "    <tr>\n",
       "      <th>4</th>\n",
       "      <td>C0000731</td>\n",
       "      <td>C0009806</td>\n",
       "      <td>CURATED</td>\n",
       "      <td>0.0</td>\n",
       "      <td>0.0</td>\n",
       "      <td>0.0</td>\n",
       "      <td>0.0</td>\n",
       "      <td>0.0</td>\n",
       "      <td>1.0</td>\n",
       "      <td>49.0</td>\n",
       "      <td>6.0</td>\n",
       "      <td>54.0</td>\n",
       "      <td>0.018519</td>\n",
       "      <td>Constipation</td>\n",
       "      <td>Abdomen distended</td>\n",
       "      <td>Infrequent or difficult evacuation of feces.</td>\n",
       "      <td>Distention of the abdomen.</td>\n",
       "    </tr>\n",
       "  </tbody>\n",
       "</table>\n",
       "</div>"
      ],
      "text/plain": [
       "  diseaseId2 diseaseId1   source  Ngenes  NgenesD1  NgenesD2  union_genes  \\\n",
       "0   C0000731   C0000737  CURATED     0.0       0.0       0.0          0.0   \n",
       "1   C0000731   C0005745  CURATED     0.0       0.0       0.0          0.0   \n",
       "2   C0000731   C0006325  CURATED     0.0       0.0       0.0          0.0   \n",
       "3   C0000731   C0007642  CURATED     0.0       0.0       0.0          0.0   \n",
       "4   C0000731   C0009806  CURATED     0.0       0.0       0.0          0.0   \n",
       "\n",
       "   jaccard_genes  Nvariants  NvariantsD1  NvariantsD2  union_variant  \\\n",
       "0            0.0        1.0         11.0          6.0           16.0   \n",
       "1            0.0        1.0         49.0          6.0           54.0   \n",
       "2            0.0        1.0          6.0          6.0           11.0   \n",
       "3            0.0        1.0          1.0          6.0            6.0   \n",
       "4            0.0        1.0         49.0          6.0           54.0   \n",
       "\n",
       "   jaccard_variant diseaseId1_name    diseaseId2_name  \\\n",
       "0         0.062500  Abdominal Pain  Abdomen distended   \n",
       "1         0.018519  Blepharoptosis  Abdomen distended   \n",
       "2         0.090909         Bruxism  Abdomen distended   \n",
       "3         0.166667      Cellulitis  Abdomen distended   \n",
       "4         0.018519    Constipation  Abdomen distended   \n",
       "\n",
       "                                         diseaseDes1  \\\n",
       "0  An unpleasant sensation characterized by physi...   \n",
       "1  The upper eyelid margin is positioned 3 mm or ...   \n",
       "2  Bruxism is characterized by the grinding of th...   \n",
       "3  A bacterial infection and inflammation of the ...   \n",
       "4       Infrequent or difficult evacuation of feces.   \n",
       "\n",
       "                  diseaseDes2  \n",
       "0  Distention of the abdomen.  \n",
       "1  Distention of the abdomen.  \n",
       "2  Distention of the abdomen.  \n",
       "3  Distention of the abdomen.  \n",
       "4  Distention of the abdomen.  "
      ]
     },
     "execution_count": 75,
     "metadata": {},
     "output_type": "execute_result"
    }
   ],
   "source": [
    "base_url = \"../../data/pretrain/\"\n",
    "file_name = \"disgenet_dda.csv\"\n",
    "df = pd.read_csv(base_url+file_name, index_col=None).dropna()\n",
    "df.head()"
   ]
  },
  {
   "cell_type": "code",
   "execution_count": 76,
   "id": "8c4b7909-5099-45dd-b3f9-8535bb40fe31",
   "metadata": {},
   "outputs": [],
   "source": [
    "df[\"len1\"] =df[\"diseaseDes1\"].apply(lambda x: len(x.split(\" \")))\n",
    "df[\"len2\"] =df[\"diseaseDes2\"].apply(lambda x: len(x.split(\" \")))"
   ]
  },
  {
   "cell_type": "code",
   "execution_count": 80,
   "id": "8d8ef7d6-b3bd-4b95-9686-4042d94288eb",
   "metadata": {},
   "outputs": [
    {
     "data": {
      "text/plain": [
       "<AxesSubplot:>"
      ]
     },
     "execution_count": 80,
     "metadata": {},
     "output_type": "execute_result"
    },
    {
     "data": {
      "image/png": "[encoded data removed]",
      "text/plain": [
       "<Figure size 432x288 with 1 Axes>"
      ]
     },
     "metadata": {
      "needs_background": "light"
     },
     "output_type": "display_data"
    }
   ],
   "source": [
    "df[\"len1\"].hist()"
   ]
  },
  {
   "cell_type": "code",
   "execution_count": 22,
   "id": "d07b5bda-e95d-486f-8754-2953273a4e13",
   "metadata": {},
   "outputs": [],
   "source": [
    "import pandas as pd\n",
    "import re\n",
    "\n",
    "def format_seq(x):\n",
    "    x = re.sub(r\"[UZOB\\*]\", \"X\", x)\n",
    "    if \" \" not in x:\n",
    "        x= \" \".join(x)\n",
    "    return x\n",
    "\n",
    "def process_col(df,cols):\n",
    "    for col in cols:\n",
    "        df[col] = df[col].apply(format_seq)\n",
    "    return df"
   ]
  },
  {
   "cell_type": "code",
   "execution_count": 70,
   "id": "fd74bc08-8686-4949-83b7-c083512cdc92",
   "metadata": {},
   "outputs": [
    {
     "data": {
      "text/html": [
       "<div>\n",
       "<style scoped>\n",
       "    .dataframe tbody tr th:only-of-type {\n",
       "        vertical-align: middle;\n",
       "    }\n",
       "\n",
       "    .dataframe tbody tr th {\n",
       "        vertical-align: top;\n",
       "    }\n",
       "\n",
       "    .dataframe thead th {\n",
       "        text-align: right;\n",
       "    }\n",
       "</style>\n",
       "<table border=\"1\" class=\"dataframe\">\n",
       "  <thead>\n",
       "    <tr style=\"text-align: right;\">\n",
       "      <th></th>\n",
       "      <th>item_id_a</th>\n",
       "      <th>item_id_b</th>\n",
       "      <th>mode</th>\n",
       "      <th>action</th>\n",
       "      <th>is_directional</th>\n",
       "      <th>a_is_acting</th>\n",
       "      <th>score</th>\n",
       "      <th>item_seq_a</th>\n",
       "      <th>item_seq_b</th>\n",
       "    </tr>\n",
       "  </thead>\n",
       "  <tbody>\n",
       "    <tr>\n",
       "      <th>0</th>\n",
       "      <td>9606.ENSP00000000233</td>\n",
       "      <td>9606.ENSP00000216366</td>\n",
       "      <td>binding</td>\n",
       "      <td>NaN</td>\n",
       "      <td>f</td>\n",
       "      <td>f</td>\n",
       "      <td>165</td>\n",
       "      <td>MGLTVSALFSRIFGKKQMRILMVGLDAAGKTTILYKLKLGEIVTTI...</td>\n",
       "      <td>MIKFFLMVNKQGQTRLSKYYEHVDINKRTLLETEVIKSCLSRSNEQ...</td>\n",
       "    </tr>\n",
       "    <tr>\n",
       "      <th>1</th>\n",
       "      <td>9606.ENSP00000000233</td>\n",
       "      <td>9606.ENSP00000216366</td>\n",
       "      <td>reaction</td>\n",
       "      <td>NaN</td>\n",
       "      <td>f</td>\n",
       "      <td>f</td>\n",
       "      <td>165</td>\n",
       "      <td>MGLTVSALFSRIFGKKQMRILMVGLDAAGKTTILYKLKLGEIVTTI...</td>\n",
       "      <td>MIKFFLMVNKQGQTRLSKYYEHVDINKRTLLETEVIKSCLSRSNEQ...</td>\n",
       "    </tr>\n",
       "    <tr>\n",
       "      <th>2</th>\n",
       "      <td>9606.ENSP00000000233</td>\n",
       "      <td>9606.ENSP00000216366</td>\n",
       "      <td>reaction</td>\n",
       "      <td>NaN</td>\n",
       "      <td>t</td>\n",
       "      <td>f</td>\n",
       "      <td>165</td>\n",
       "      <td>MGLTVSALFSRIFGKKQMRILMVGLDAAGKTTILYKLKLGEIVTTI...</td>\n",
       "      <td>MIKFFLMVNKQGQTRLSKYYEHVDINKRTLLETEVIKSCLSRSNEQ...</td>\n",
       "    </tr>\n",
       "    <tr>\n",
       "      <th>3</th>\n",
       "      <td>9606.ENSP00000000233</td>\n",
       "      <td>9606.ENSP00000216366</td>\n",
       "      <td>reaction</td>\n",
       "      <td>NaN</td>\n",
       "      <td>t</td>\n",
       "      <td>t</td>\n",
       "      <td>165</td>\n",
       "      <td>MGLTVSALFSRIFGKKQMRILMVGLDAAGKTTILYKLKLGEIVTTI...</td>\n",
       "      <td>MIKFFLMVNKQGQTRLSKYYEHVDINKRTLLETEVIKSCLSRSNEQ...</td>\n",
       "    </tr>\n",
       "    <tr>\n",
       "      <th>4</th>\n",
       "      <td>9606.ENSP00000000233</td>\n",
       "      <td>9606.ENSP00000222547</td>\n",
       "      <td>binding</td>\n",
       "      <td>NaN</td>\n",
       "      <td>f</td>\n",
       "      <td>f</td>\n",
       "      <td>913</td>\n",
       "      <td>MGLTVSALFSRIFGKKQMRILMVGLDAAGKTTILYKLKLGEIVTTI...</td>\n",
       "      <td>MRRAGLGEGVPPGNYGNYGYANSGYSACEEENERLTESLRSKVTAI...</td>\n",
       "    </tr>\n",
       "  </tbody>\n",
       "</table>\n",
       "</div>"
      ],
      "text/plain": [
       "              item_id_a             item_id_b      mode action is_directional  \\\n",
       "0  9606.ENSP00000000233  9606.ENSP00000216366   binding    NaN              f   \n",
       "1  9606.ENSP00000000233  9606.ENSP00000216366  reaction    NaN              f   \n",
       "2  9606.ENSP00000000233  9606.ENSP00000216366  reaction    NaN              t   \n",
       "3  9606.ENSP00000000233  9606.ENSP00000216366  reaction    NaN              t   \n",
       "4  9606.ENSP00000000233  9606.ENSP00000222547   binding    NaN              f   \n",
       "\n",
       "  a_is_acting  score                                         item_seq_a  \\\n",
       "0           f    165  MGLTVSALFSRIFGKKQMRILMVGLDAAGKTTILYKLKLGEIVTTI...   \n",
       "1           f    165  MGLTVSALFSRIFGKKQMRILMVGLDAAGKTTILYKLKLGEIVTTI...   \n",
       "2           f    165  MGLTVSALFSRIFGKKQMRILMVGLDAAGKTTILYKLKLGEIVTTI...   \n",
       "3           t    165  MGLTVSALFSRIFGKKQMRILMVGLDAAGKTTILYKLKLGEIVTTI...   \n",
       "4           f    913  MGLTVSALFSRIFGKKQMRILMVGLDAAGKTTILYKLKLGEIVTTI...   \n",
       "\n",
       "                                          item_seq_b  \n",
       "0  MIKFFLMVNKQGQTRLSKYYEHVDINKRTLLETEVIKSCLSRSNEQ...  \n",
       "1  MIKFFLMVNKQGQTRLSKYYEHVDINKRTLLETEVIKSCLSRSNEQ...  \n",
       "2  MIKFFLMVNKQGQTRLSKYYEHVDINKRTLLETEVIKSCLSRSNEQ...  \n",
       "3  MIKFFLMVNKQGQTRLSKYYEHVDINKRTLLETEVIKSCLSRSNEQ...  \n",
       "4  MRRAGLGEGVPPGNYGNYGYANSGYSACEEENERLTESLRSKVTAI...  "
      ]
     },
     "execution_count": 70,
     "metadata": {},
     "output_type": "execute_result"
    }
   ],
   "source": [
    "base_url = \"../../data/pretrain/\"\n",
    "file_name = \"string_ppi.csv\"\n",
    "df = pd.read_csv(base_url+file_name, index_col=None)\n",
    "df.head()"
   ]
  },
  {
   "cell_type": "code",
   "execution_count": 71,
   "id": "8cf46b4e-e39e-4e36-86b3-175f5fe6fa84",
   "metadata": {},
   "outputs": [],
   "source": [
    "df = process_col(df,['item_seq_a','item_seq_b'])\n",
    "df.to_csv(base_url+file_name,index=None)"
   ]
  },
  {
   "cell_type": "code",
   "execution_count": 72,
   "id": "700c478f-6a6c-45a7-85e8-5fd3f0be566b",
   "metadata": {},
   "outputs": [],
   "source": [
    "base_url = \"../../data/pretrain/\"\n",
    "file_name = \"string_ppi_920_300k.csv\"\n",
    "df = pd.read_csv(base_url+file_name, index_col=None)\n",
    "df = process_col(df,['item_seq_a','item_seq_b'])\n",
    "df.to_csv(base_url+file_name,index=None)"
   ]
  },
  {
   "cell_type": "code",
   "execution_count": null,
   "id": "99ec08cf-7fdb-4219-8a99-5923afc14a3d",
   "metadata": {},
   "outputs": [],
   "source": []
  }
 ],
 "metadata": {
  "kernelspec": {
   "display_name": "Python 3 (ipykernel)",
   "language": "python",
   "name": "python3"
  },
  "language_info": {
   "codemirror_mode": {
    "name": "ipython",
    "version": 3
   },
   "file_extension": ".py",
   "mimetype": "text/x-python",
   "name": "python",
   "nbconvert_exporter": "python",
   "pygments_lexer": "ipython3",
   "version": "3.9.7"
  }
 },
 "nbformat": 4,
 "nbformat_minor": 5
}
