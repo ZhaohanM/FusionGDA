{
 "cells": [
  {
   "cell_type": "code",
   "execution_count": 12,
   "id": "86618174-a38d-4e08-be73-736ab1efb306",
   "metadata": {},
   "outputs": [],
   "source": [
    "raw_dda_dir = \"../../data/raw/disease_to_disease_CURATED.tsv\""
   ]
  },
  {
   "cell_type": "code",
   "execution_count": 13,
   "id": "7ce26ed4-c06f-40c3-b6b7-93269b41a821",
   "metadata": {},
   "outputs": [],
   "source": [
    "import pandas as pd\n",
    "raw_dda_df = pd.read_csv(raw_dda_dir,sep='\\t')"
   ]
  },
  {
   "cell_type": "code",
   "execution_count": 14,
   "id": "45c90e2a-4e82-4804-a01b-a6ee20ac6176",
   "metadata": {},
   "outputs": [
    {
     "data": {
      "text/html": [
       "<div>\n",
       "<style scoped>\n",
       "    .dataframe tbody tr th:only-of-type {\n",
       "        vertical-align: middle;\n",
       "    }\n",
       "\n",
       "    .dataframe tbody tr th {\n",
       "        vertical-align: top;\n",
       "    }\n",
       "\n",
       "    .dataframe thead th {\n",
       "        text-align: right;\n",
       "    }\n",
       "</style>\n",
       "<table border=\"1\" class=\"dataframe\">\n",
       "  <thead>\n",
       "    <tr style=\"text-align: right;\">\n",
       "      <th></th>\n",
       "      <th>diseaseId2</th>\n",
       "      <th>diseaseId1</th>\n",
       "      <th>source</th>\n",
       "      <th>Ngenes</th>\n",
       "      <th>NgenesD1</th>\n",
       "      <th>NgenesD2</th>\n",
       "      <th>union_genes</th>\n",
       "      <th>jaccard_genes</th>\n",
       "      <th>Nvariants</th>\n",
       "      <th>NvariantsD1</th>\n",
       "      <th>NvariantsD2</th>\n",
       "      <th>union_variant</th>\n",
       "      <th>jaccard_variant</th>\n",
       "      <th>diseaseId1_name</th>\n",
       "      <th>diseaseId2_name</th>\n",
       "    </tr>\n",
       "  </thead>\n",
       "  <tbody>\n",
       "    <tr>\n",
       "      <th>0</th>\n",
       "      <td>C0000731</td>\n",
       "      <td>C0000737</td>\n",
       "      <td>CURATED</td>\n",
       "      <td>0</td>\n",
       "      <td>0</td>\n",
       "      <td>0</td>\n",
       "      <td>0</td>\n",
       "      <td>0.0</td>\n",
       "      <td>1</td>\n",
       "      <td>11</td>\n",
       "      <td>6</td>\n",
       "      <td>16</td>\n",
       "      <td>0.062500</td>\n",
       "      <td>Abdominal Pain</td>\n",
       "      <td>Abdomen distended</td>\n",
       "    </tr>\n",
       "    <tr>\n",
       "      <th>1</th>\n",
       "      <td>C0000731</td>\n",
       "      <td>C0005745</td>\n",
       "      <td>CURATED</td>\n",
       "      <td>0</td>\n",
       "      <td>0</td>\n",
       "      <td>0</td>\n",
       "      <td>0</td>\n",
       "      <td>0.0</td>\n",
       "      <td>1</td>\n",
       "      <td>49</td>\n",
       "      <td>6</td>\n",
       "      <td>54</td>\n",
       "      <td>0.018519</td>\n",
       "      <td>Blepharoptosis</td>\n",
       "      <td>Abdomen distended</td>\n",
       "    </tr>\n",
       "    <tr>\n",
       "      <th>2</th>\n",
       "      <td>C0000731</td>\n",
       "      <td>C0006325</td>\n",
       "      <td>CURATED</td>\n",
       "      <td>0</td>\n",
       "      <td>0</td>\n",
       "      <td>0</td>\n",
       "      <td>0</td>\n",
       "      <td>0.0</td>\n",
       "      <td>1</td>\n",
       "      <td>6</td>\n",
       "      <td>6</td>\n",
       "      <td>11</td>\n",
       "      <td>0.090909</td>\n",
       "      <td>Bruxism</td>\n",
       "      <td>Abdomen distended</td>\n",
       "    </tr>\n",
       "    <tr>\n",
       "      <th>3</th>\n",
       "      <td>C0000731</td>\n",
       "      <td>C0007642</td>\n",
       "      <td>CURATED</td>\n",
       "      <td>0</td>\n",
       "      <td>0</td>\n",
       "      <td>0</td>\n",
       "      <td>0</td>\n",
       "      <td>0.0</td>\n",
       "      <td>1</td>\n",
       "      <td>1</td>\n",
       "      <td>6</td>\n",
       "      <td>6</td>\n",
       "      <td>0.166667</td>\n",
       "      <td>Cellulitis</td>\n",
       "      <td>Abdomen distended</td>\n",
       "    </tr>\n",
       "    <tr>\n",
       "      <th>4</th>\n",
       "      <td>C0000731</td>\n",
       "      <td>C0009806</td>\n",
       "      <td>CURATED</td>\n",
       "      <td>0</td>\n",
       "      <td>0</td>\n",
       "      <td>0</td>\n",
       "      <td>0</td>\n",
       "      <td>0.0</td>\n",
       "      <td>1</td>\n",
       "      <td>49</td>\n",
       "      <td>6</td>\n",
       "      <td>54</td>\n",
       "      <td>0.018519</td>\n",
       "      <td>Constipation</td>\n",
       "      <td>Abdomen distended</td>\n",
       "    </tr>\n",
       "  </tbody>\n",
       "</table>\n",
       "</div>"
      ],
      "text/plain": [
       "  diseaseId2 diseaseId1   source  Ngenes  NgenesD1  NgenesD2  union_genes  \\\n",
       "0   C0000731   C0000737  CURATED       0         0         0            0   \n",
       "1   C0000731   C0005745  CURATED       0         0         0            0   \n",
       "2   C0000731   C0006325  CURATED       0         0         0            0   \n",
       "3   C0000731   C0007642  CURATED       0         0         0            0   \n",
       "4   C0000731   C0009806  CURATED       0         0         0            0   \n",
       "\n",
       "   jaccard_genes  Nvariants  NvariantsD1  NvariantsD2  union_variant  \\\n",
       "0            0.0          1           11            6             16   \n",
       "1            0.0          1           49            6             54   \n",
       "2            0.0          1            6            6             11   \n",
       "3            0.0          1            1            6              6   \n",
       "4            0.0          1           49            6             54   \n",
       "\n",
       "   jaccard_variant diseaseId1_name    diseaseId2_name  \n",
       "0         0.062500  Abdominal Pain  Abdomen distended  \n",
       "1         0.018519  Blepharoptosis  Abdomen distended  \n",
       "2         0.090909         Bruxism  Abdomen distended  \n",
       "3         0.166667      Cellulitis  Abdomen distended  \n",
       "4         0.018519    Constipation  Abdomen distended  "
      ]
     },
     "execution_count": 14,
     "metadata": {},
     "output_type": "execute_result"
    }
   ],
   "source": [
    "raw_dda_df.head()"
   ]
  },
  {
   "cell_type": "markdown",
   "id": "d17fbdf4-3d42-4f15-9eca-7ed09ca1d80e",
   "metadata": {},
   "source": [
    "### Read Disease Description"
   ]
  },
  {
   "cell_type": "code",
   "execution_count": 15,
   "id": "d82457f3-bb0f-4450-a10b-47194165a035",
   "metadata": {},
   "outputs": [],
   "source": [
    "disease_def_df = pd.read_csv(\"../../data/raw/MGDEF.csv\")\n",
    "disease_def_df.head()\n",
    "disease_des_dict = {}\n",
    "for _, item in raw_dda_df.iterrows():\n",
    "    disease_des_dict[item[\"diseaseId1\"]] = item[\n",
    "        \"diseaseId1_name\"\n",
    "    ]  ## Default disease description is disease name\n",
    "for _, item in raw_dda_df.iterrows():\n",
    "    disease_des_dict[item[\"diseaseId2\"]] = item[\n",
    "        \"diseaseId2_name\"\n",
    "    ]  ## Default disease description is disease name\n",
    "for _, item in disease_def_df.iterrows():\n",
    "    disease_des_dict[item[\"CUI\"]] = item[\"DEF\"]"
   ]
  },
  {
   "cell_type": "code",
   "execution_count": 16,
   "id": "08f7df53-e49a-4c32-8824-e99d1258067f",
   "metadata": {},
   "outputs": [
    {
     "data": {
      "text/plain": [
       "72186"
      ]
     },
     "execution_count": 16,
     "metadata": {},
     "output_type": "execute_result"
    }
   ],
   "source": [
    "len(disease_des_dict)"
   ]
  },
  {
   "cell_type": "code",
   "execution_count": 17,
   "id": "7223257b-c6b9-4e36-b0fe-36fe152d5941",
   "metadata": {},
   "outputs": [],
   "source": [
    "raw_dda_df[\"diseaseDes1\"] = raw_dda_df[\"diseaseId1\"].map(lambda x: disease_des_dict[x])\n",
    "raw_dda_df[\"diseaseDes2\"] = raw_dda_df[\"diseaseId2\"].map(lambda x: disease_des_dict[x])"
   ]
  },
  {
   "cell_type": "code",
   "execution_count": 19,
   "id": "3027a2a8-ef55-4e26-9a9c-de9098a2eaab",
   "metadata": {},
   "outputs": [],
   "source": [
    "raw_dda_df.to_csv(\"../../data/disgenet_dda.csv\",index=None)"
   ]
  },
  {
   "cell_type": "code",
   "execution_count": 22,
   "id": "8fd22bb8-fb44-4a9e-89d0-efcdb0dff90b",
   "metadata": {},
   "outputs": [
    {
     "data": {
      "text/plain": [
       "1819924"
      ]
     },
     "execution_count": 22,
     "metadata": {},
     "output_type": "execute_result"
    }
   ],
   "source": [
    "len(raw_dda_df.index)"
   ]
  },
  {
   "cell_type": "code",
   "execution_count": 28,
   "id": "f276f5aa-6ef7-42d3-9b85-df79eacde4f6",
   "metadata": {},
   "outputs": [
    {
     "data": {
      "text/plain": [
       "14403"
      ]
     },
     "execution_count": 28,
     "metadata": {},
     "output_type": "execute_result"
    }
   ],
   "source": [
    "len(set(raw_dda_df[\"diseaseId2\"].unique()).intersection(set(raw_dda_df[\"diseaseId1\"].unique())))"
   ]
  },
  {
   "cell_type": "code",
   "execution_count": 30,
   "id": "9c1d8c8d-2a50-4277-9bab-cd770a433377",
   "metadata": {},
   "outputs": [
    {
     "data": {
      "text/plain": [
       "0.0"
      ]
     },
     "execution_count": 30,
     "metadata": {},
     "output_type": "execute_result"
    }
   ],
   "source": [
    "raw_dda_df[\"jaccard_variant\"].min()"
   ]
  },
  {
   "cell_type": "code",
   "execution_count": 31,
   "id": "ac9fa57a-15e9-4d1d-8027-ce00b144cafd",
   "metadata": {},
   "outputs": [
    {
     "data": {
      "text/plain": [
       "1.0"
      ]
     },
     "execution_count": 31,
     "metadata": {},
     "output_type": "execute_result"
    }
   ],
   "source": [
    "raw_dda_df[\"jaccard_variant\"].max()"
   ]
  },
  {
   "cell_type": "code",
   "execution_count": 36,
   "id": "a44ec0d1-e988-4573-9f3a-a137b8bf34e4",
   "metadata": {},
   "outputs": [
    {
     "name": "stderr",
     "output_type": "stream",
     "text": [
      "/root/anaconda3/lib/python3.9/site-packages/seaborn/distributions.py:2619: FutureWarning: `distplot` is a deprecated function and will be removed in a future version. Please adapt your code to use either `displot` (a figure-level function with similar flexibility) or `histplot` (an axes-level function for histograms).\n",
      "  warnings.warn(msg, FutureWarning)\n"
     ]
    },
    {
     "data": {
      "image/png": "[encoded data removed]",
      "text/plain": [
       "<Figure size 432x288 with 1 Axes>"
      ]
     },
     "metadata": {
      "needs_background": "light"
     },
     "output_type": "display_data"
    }
   ],
   "source": [
    "import seaborn as sns, numpy as np\n",
    "ax = sns.distplot(raw_dda_df[\"jaccard_variant\"])"
   ]
  },
  {
   "cell_type": "code",
   "execution_count": 37,
   "id": "97c73dd7-7d97-463c-93cc-ab5f0417822c",
   "metadata": {},
   "outputs": [
    {
     "name": "stderr",
     "output_type": "stream",
     "text": [
      "/root/anaconda3/lib/python3.9/site-packages/seaborn/distributions.py:2619: FutureWarning: `distplot` is a deprecated function and will be removed in a future version. Please adapt your code to use either `displot` (a figure-level function with similar flexibility) or `histplot` (an axes-level function for histograms).\n",
      "  warnings.warn(msg, FutureWarning)\n"
     ]
    },
    {
     "data": {
      "image/png": "[encoded data removed]",
      "text/plain": [
       "<Figure size 432x288 with 1 Axes>"
      ]
     },
     "metadata": {
      "needs_background": "light"
     },
     "output_type": "display_data"
    }
   ],
   "source": [
    "import seaborn as sns, numpy as np\n",
    "ax = sns.distplot(raw_dda_df[\"jaccard_genes\"])"
   ]
  }
 ],
 "metadata": {
  "kernelspec": {
   "display_name": "Python 3 (ipykernel)",
   "language": "python",
   "name": "python3"
  },
  "language_info": {
   "codemirror_mode": {
    "name": "ipython",
    "version": 3
   },
   "file_extension": ".py",
   "mimetype": "text/x-python",
   "name": "python",
   "nbconvert_exporter": "python",
   "pygments_lexer": "ipython3",
   "version": "3.9.7"
  }
 },
 "nbformat": 4,
 "nbformat_minor": 5
}
