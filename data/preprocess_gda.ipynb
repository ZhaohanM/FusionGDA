{
 "cells": [
  {
   "cell_type": "markdown",
   "id": "386bda37-01a1-4a68-b965-c9ba4b5b2dd1",
   "metadata": {},
   "source": [
    "### Load all disgenet GDA data\n",
    "> all_gene_disease_associations.tsv can be obtained from https://www.disgenet.org/downloads"
   ]
  },
  {
   "cell_type": "code",
   "execution_count": 3,
   "id": "28ac2f3f-c2c8-490f-b652-bdb4dd1923c2",
   "metadata": {},
   "outputs": [],
   "source": [
    "import requests\n",
    "\n",
    "# URL of the file to download\n",
    "url = \"http://www.disgenet.org/static/disgenet_ap1/files/downloads/all_gene_disease_associations.tsv.gz\"\n",
    "\n",
    "# Send a GET request to the URL\n",
    "response = requests.get(url)\n",
    "\n",
    "# Make sure the request was successful\n",
    "assert response.status_code == 200\n",
    "\n",
    "# Write the content of the response to a file\n",
    "with open(\"all_gene_disease_associations.tsv.gz\", \"wb\") as file:\n",
    "    file.write(response.content)\n"
   ]
  },
  {
   "cell_type": "code",
   "execution_count": 74,
   "id": "2e3670df-ba94-4f0c-8426-3d95d638d1e0",
   "metadata": {},
   "outputs": [
    {
     "name": "stdout",
     "output_type": "stream",
     "text": [
      "Number of unique 'diseaseDes': 30170\n",
      "Number of unique 'proteinSeq': 21671\n"
     ]
    },
    {
     "data": {
      "text/plain": [
       "1134942"
      ]
     },
     "execution_count": 74,
     "metadata": {},
     "output_type": "execute_result"
    }
   ],
   "source": [
    "import pandas as pd\n",
    "\n",
    "# Using '\\t' as the delimiter because the file appears to be a TSV (Tab-separated values) file.\n",
    "df = pd.read_csv('/nfs/dpa_pretrain/notebooks/data_processing/all_gene_disease_associations.tsv', delimiter='\\t', error_bad_lines=False)\n",
    "\n",
    "# Rest of your code\n",
    "num_unique_diseaseId = df['diseaseId'].nunique()\n",
    "num_unique_geneId = df['geneId'].nunique()\n",
    "print(f\"Number of unique 'diseaseDes': {num_unique_diseaseId}\")\n",
    "print(f\"Number of unique 'proteinSeq': {num_unique_geneId}\")\n",
    "len(df)"
   ]
  },
  {
   "cell_type": "code",
   "execution_count": 45,
   "id": "e9bac009-b622-40c8-919c-824dbe3808fd",
   "metadata": {},
   "outputs": [
    {
     "data": {
      "text/html": [
       "<div>\n",
       "<style scoped>\n",
       "    .dataframe tbody tr th:only-of-type {\n",
       "        vertical-align: middle;\n",
       "    }\n",
       "\n",
       "    .dataframe tbody tr th {\n",
       "        vertical-align: top;\n",
       "    }\n",
       "\n",
       "    .dataframe thead th {\n",
       "        text-align: right;\n",
       "    }\n",
       "</style>\n",
       "<table border=\"1\" class=\"dataframe\">\n",
       "  <thead>\n",
       "    <tr style=\"text-align: right;\">\n",
       "      <th></th>\n",
       "      <th>diseaseId</th>\n",
       "      <th>geneSymbol</th>\n",
       "      <th>proteinSeq</th>\n",
       "      <th>diseaseDes</th>\n",
       "      <th>score</th>\n",
       "    </tr>\n",
       "  </thead>\n",
       "  <tbody>\n",
       "    <tr>\n",
       "      <th>0</th>\n",
       "      <td>C0019196</td>\n",
       "      <td>ACP2</td>\n",
       "      <td>NaN</td>\n",
       "      <td>NaN</td>\n",
       "      <td>NaN</td>\n",
       "    </tr>\n",
       "    <tr>\n",
       "      <th>1</th>\n",
       "      <td>C0022578</td>\n",
       "      <td>ACP2</td>\n",
       "      <td>NaN</td>\n",
       "      <td>NaN</td>\n",
       "      <td>NaN</td>\n",
       "    </tr>\n",
       "    <tr>\n",
       "      <th>2</th>\n",
       "      <td>C0026709</td>\n",
       "      <td>ACP2</td>\n",
       "      <td>NaN</td>\n",
       "      <td>NaN</td>\n",
       "      <td>NaN</td>\n",
       "    </tr>\n",
       "    <tr>\n",
       "      <th>3</th>\n",
       "      <td>C0026827</td>\n",
       "      <td>ACP2</td>\n",
       "      <td>NaN</td>\n",
       "      <td>NaN</td>\n",
       "      <td>NaN</td>\n",
       "    </tr>\n",
       "    <tr>\n",
       "      <th>4</th>\n",
       "      <td>C0042963</td>\n",
       "      <td>ACP2</td>\n",
       "      <td>NaN</td>\n",
       "      <td>NaN</td>\n",
       "      <td>NaN</td>\n",
       "    </tr>\n",
       "  </tbody>\n",
       "</table>\n",
       "</div>"
      ],
      "text/plain": [
       "  diseaseId geneSymbol proteinSeq diseaseDes  score\n",
       "0  C0019196       ACP2        NaN        NaN    NaN\n",
       "1  C0022578       ACP2        NaN        NaN    NaN\n",
       "2  C0026709       ACP2        NaN        NaN    NaN\n",
       "3  C0026827       ACP2        NaN        NaN    NaN\n",
       "4  C0042963       ACP2        NaN        NaN    NaN"
      ]
     },
     "execution_count": 45,
     "metadata": {},
     "output_type": "execute_result"
    }
   ],
   "source": [
    "df = pd.read_csv('/nfs/dpa_pretrain/data/pretrain/disgenet_updated.csv')\n",
    "df.head(5)"
   ]
  },
  {
   "cell_type": "code",
   "execution_count": 66,
   "id": "d6126d9b-8522-4f9b-8a89-e71313409e47",
   "metadata": {},
   "outputs": [
    {
     "name": "stdout",
     "output_type": "stream",
     "text": [
      "Number of unique 'diseaseDes': 28873\n",
      "Number of unique 'proteinSeq': 16622\n"
     ]
    },
    {
     "data": {
      "text/plain": [
       "1041587"
      ]
     },
     "execution_count": 66,
     "metadata": {},
     "output_type": "execute_result"
    }
   ],
   "source": [
    "import pandas as pd\n",
    "df = pd.read_csv('/nfs/dpa_pretrain/data/pretrain/disgenet_latest.csv')\n",
    "num_unique_diseaseId = df['diseaseDes'].nunique()\n",
    "num_unique_geneId = df['proteinSeq'].nunique()\n",
    "print(f\"Number of unique 'diseaseDes': {num_unique_diseaseId}\")\n",
    "print(f\"Number of unique 'proteinSeq': {num_unique_geneId}\")\n",
    "len(df)"
   ]
  },
  {
   "cell_type": "code",
   "execution_count": 40,
   "id": "f6b6404a-3696-4e1e-a974-64aba8c027a1",
   "metadata": {},
   "outputs": [
    {
     "data": {
      "text/html": [
       "<div>\n",
       "<style scoped>\n",
       "    .dataframe tbody tr th:only-of-type {\n",
       "        vertical-align: middle;\n",
       "    }\n",
       "\n",
       "    .dataframe tbody tr th {\n",
       "        vertical-align: top;\n",
       "    }\n",
       "\n",
       "    .dataframe thead th {\n",
       "        text-align: right;\n",
       "    }\n",
       "</style>\n",
       "<table border=\"1\" class=\"dataframe\">\n",
       "  <thead>\n",
       "    <tr style=\"text-align: right;\">\n",
       "      <th></th>\n",
       "      <th>diseaseId</th>\n",
       "      <th>diseaseDes</th>\n",
       "      <th>geneSymbol</th>\n",
       "      <th>proteinSeq</th>\n",
       "      <th>Y</th>\n",
       "    </tr>\n",
       "  </thead>\n",
       "  <tbody>\n",
       "    <tr>\n",
       "      <th>0</th>\n",
       "      <td>C0002395</td>\n",
       "      <td>Alzheimer's disease is a degenerative disease ...</td>\n",
       "      <td>A1BG</td>\n",
       "      <td>MSMLVVFLLLWGVTWGPVTEAAIFYETQPSLWAESESLLKPLANVT...</td>\n",
       "      <td>0</td>\n",
       "    </tr>\n",
       "    <tr>\n",
       "      <th>1</th>\n",
       "      <td>C0002395</td>\n",
       "      <td>Alzheimer's disease is a degenerative disease ...</td>\n",
       "      <td>A2M</td>\n",
       "      <td>MGKNKLLHPSLVLLLLVLLPTDASVSGKPQYMVLVPSLLHTETTEK...</td>\n",
       "      <td>1</td>\n",
       "    </tr>\n",
       "    <tr>\n",
       "      <th>2</th>\n",
       "      <td>C0002395</td>\n",
       "      <td>Alzheimer's disease is a degenerative disease ...</td>\n",
       "      <td>NAT1</td>\n",
       "      <td>MLLLLLHKEAALEPQGPAVGYNSLPVSDDHHVSGIQARKKQQSVFW...</td>\n",
       "      <td>1</td>\n",
       "    </tr>\n",
       "    <tr>\n",
       "      <th>3</th>\n",
       "      <td>C0002395</td>\n",
       "      <td>Alzheimer's disease is a degenerative disease ...</td>\n",
       "      <td>NAT2</td>\n",
       "      <td>MDIEAYFERIGYKNSRNKLDLETLTDILEHQIRAVPFENLNMHCGQ...</td>\n",
       "      <td>1</td>\n",
       "    </tr>\n",
       "    <tr>\n",
       "      <th>4</th>\n",
       "      <td>C0002395</td>\n",
       "      <td>Alzheimer's disease is a degenerative disease ...</td>\n",
       "      <td>SERPINA3</td>\n",
       "      <td>MERMLPLLALGLLAAGFCPAVLCHPNSPLDEENLTQENQDRGTHVD...</td>\n",
       "      <td>1</td>\n",
       "    </tr>\n",
       "  </tbody>\n",
       "</table>\n",
       "</div>"
      ],
      "text/plain": [
       "  diseaseId                                         diseaseDes geneSymbol  \\\n",
       "0  C0002395  Alzheimer's disease is a degenerative disease ...       A1BG   \n",
       "1  C0002395  Alzheimer's disease is a degenerative disease ...        A2M   \n",
       "2  C0002395  Alzheimer's disease is a degenerative disease ...       NAT1   \n",
       "3  C0002395  Alzheimer's disease is a degenerative disease ...       NAT2   \n",
       "4  C0002395  Alzheimer's disease is a degenerative disease ...   SERPINA3   \n",
       "\n",
       "                                          proteinSeq  Y  \n",
       "0  MSMLVVFLLLWGVTWGPVTEAAIFYETQPSLWAESESLLKPLANVT...  0  \n",
       "1  MGKNKLLHPSLVLLLLVLLPTDASVSGKPQYMVLVPSLLHTETTEK...  1  \n",
       "2  MLLLLLHKEAALEPQGPAVGYNSLPVSDDHHVSGIQARKKQQSVFW...  1  \n",
       "3  MDIEAYFERIGYKNSRNKLDLETLTDILEHQIRAVPFENLNMHCGQ...  1  \n",
       "4  MERMLPLLALGLLAAGFCPAVLCHPNSPLDEENLTQENQDRGTHVD...  1  "
      ]
     },
     "execution_count": 40,
     "metadata": {},
     "output_type": "execute_result"
    }
   ],
   "source": [
    "import pandas as pd\n",
    "\n",
    "# 读取CSV文件\n",
    "df = pd.read_csv('/nfs/dpa_pretrain/data/pretrain/disgenet_latest.csv')\n",
    "\n",
    "# 移除缺失proteinSeq的行\n",
    "df = df[df['proteinSeq'].notna()]\n",
    "\n",
    "# 获取与diseaseId C0002395相关的diseaseDes\n",
    "desired_diseaseId = 'C0002395'\n",
    "desired_diseaseDes = df[df['diseaseId'] == desired_diseaseId]['diseaseDes'].iloc[0]\n",
    "\n",
    "# 获取与diseaseDes相关的proteinSeq\n",
    "related_proteins = df[df['diseaseDes'] == desired_diseaseDes]['proteinSeq'].unique()\n",
    "\n",
    "# 为每个proteinSeq和geneSymbol组合确定Y值\n",
    "df['Y'] = df['proteinSeq'].isin(related_proteins).astype(int)\n",
    "\n",
    "# 创建一个新的DataFrame来储存结果\n",
    "new_df = pd.DataFrame({\n",
    "    'diseaseId': desired_diseaseId,\n",
    "    'diseaseDes': desired_diseaseDes,\n",
    "    'geneSymbol': df['geneSymbol'],\n",
    "    'proteinSeq': df['proteinSeq'],\n",
    "    'Y': df['Y']\n",
    "})\n",
    "\n",
    "# 去除重复项并重置索引\n",
    "new_df = new_df.drop_duplicates().reset_index(drop=True)\n",
    "\n",
    "new_df.head()\n",
    "new_df.to_csv('Alzheimer_disease.csv', index=False)"
   ]
  },
  {
   "cell_type": "code",
   "execution_count": 87,
   "id": "838577c5-3485-426e-a101-082331c2d1c1",
   "metadata": {},
   "outputs": [
    {
     "name": "stdout",
     "output_type": "stream",
     "text": [
      "Count for Y=0: 3083\n",
      "Count for Y=1: 3083\n"
     ]
    }
   ],
   "source": [
    "import pandas as pd\n",
    "df=pd.read_csv('/nfs/dpa_pretrain/data/downstream/alzheimer_new.csv')\n",
    "y_counts = df['Y'].value_counts()\n",
    "count_Y_0 = y_counts.get(0, 0)\n",
    "count_Y_1 = y_counts.get(1, 0)\n",
    "\n",
    "print(f\"Count for Y=0: {count_Y_0}\")\n",
    "print(f\"Count for Y=1: {count_Y_1}\")"
   ]
  },
  {
   "cell_type": "code",
   "execution_count": 44,
   "id": "5ad4e8bd-3407-4798-940a-dd76b3b61b28",
   "metadata": {},
   "outputs": [],
   "source": [
    "new_df.to_csv('Alzheimer_disease.csv', index=False)"
   ]
  },
  {
   "cell_type": "code",
   "execution_count": 41,
   "id": "945eefab-ba3a-4610-80d6-343c892bd57b",
   "metadata": {},
   "outputs": [
    {
     "data": {
      "text/plain": [
       "16733"
      ]
     },
     "execution_count": 41,
     "metadata": {},
     "output_type": "execute_result"
    }
   ],
   "source": [
    "len(new_df)"
   ]
  },
  {
   "cell_type": "code",
   "execution_count": 17,
   "id": "9f126180-2971-43c7-aec5-93ee67f50d64",
   "metadata": {},
   "outputs": [
    {
     "name": "stdout",
     "output_type": "stream",
     "text": [
      "Number of entries in disgenet_latest.csv for diseaseId = C0699791 with non-empty diseaseDes and proteinSeq: 3076\n",
      "Number of entries in disgenet_gda.csv for diseaseId = C0699791 with non-empty diseaseDes and proteinSeq: 2954\n"
     ]
    }
   ],
   "source": [
    "import pandas as pd\n",
    "from itertools import product\n",
    "\n",
    "# Load data from CSV files\n",
    "df = pd.read_csv('/nfs/dpa_pretrain/notebooks/data_processing/disgenet_latest.csv')\n",
    "df_g = pd.read_csv('/nfs/dpa_pretrain/notebooks/data_processing/disgenet_gda.csv')\n",
    "\n",
    "# Filter rows with diseaseId = C0002395 and non-empty diseaseDes and proteinSeq\n",
    "filtered_df = df[(df['diseaseId'] == 'C0699791') & df['diseaseDes'].notna() & df['proteinSeq'].notna()]\n",
    "filtered_df_g = df_g[(df_g['diseaseId'] == 'C0699791') & df_g['diseaseDes'].notna() & df_g['proteinSeq'].notna()]\n",
    "\n",
    "# Print the number of rows\n",
    "print(f\"Number of entries in disgenet_latest.csv for diseaseId = C0699791 with non-empty diseaseDes and proteinSeq: {len(filtered_df)}\")\n",
    "print(f\"Number of entries in disgenet_gda.csv for diseaseId = C0699791 with non-empty diseaseDes and proteinSeq: {len(filtered_df_g)}\")\n",
    "\n",
    "# Extract unique disease descriptions and protein sequences\n",
    "disease_des_stomach = filtered_df['diseaseDes'].unique()\n",
    "unique_proteinSeq_from_latest = df[df['proteinSeq'].notna()]['proteinSeq'].unique()\n",
    "unique_proteinSeq_from_gda = filtered_df_g['proteinSeq'].unique()\n",
    "\n",
    "# Filter out proteinSeq that appear in disgenet_gda.csv\n",
    "unique_proteinSeq = [seq for seq in unique_proteinSeq_from_latest if seq not in unique_proteinSeq_from_gda]\n",
    "\n",
    "# # Create all possible diseaseDes - proteinSeq pairs, keeping geneSymbol and geneId\n",
    "# pairs = []\n",
    "# for des in disease_des_stomach:\n",
    "#     for seq in unique_proteinSeq:\n",
    "#         row = filtered_df[filtered_df['proteinSeq'] == seq].iloc[0] if seq in filtered_df['proteinSeq'].values else None\n",
    "#         geneSymbol = row['geneSymbol'] if row is not None else 'NA'\n",
    "#         geneId = row['geneId'] if row is not None else 'NA'\n",
    "#         pairs.append([des, seq, 0, geneSymbol, geneId])  # Y initialized to 0\n",
    "\n",
    "# Create a DataFrame with the pairs\n",
    "result_df = pd.DataFrame(pairs, columns=['diseaseDes', 'proteinSeq', 'Y', 'geneSymbol', 'geneId'])\n",
    "result_df['Y'] = 0\n",
    "# result_df = pd.DataFrame(pairs, columns=['diseaseDes', 'proteinSeq', 'geneSymbol', 'geneId'])\n",
    "# Save the DataFrame to a CSV file\n",
    "result_df.to_csv('updated_stomach.csv', index=False)"
   ]
  },
  {
   "cell_type": "code",
   "execution_count": 38,
   "id": "a0e57000-830b-4dee-81f9-3b09596f3e2b",
   "metadata": {},
   "outputs": [
    {
     "name": "stdout",
     "output_type": "stream",
     "text": [
      "Number of rows where Y = 1: 134\n"
     ]
    }
   ],
   "source": [
    "import pandas as pd\n",
    "\n",
    "# Load data from CSV files\n",
    "df = pd.read_csv('/nfs/dpa_pretrain/notebooks/data_processing/disgenet_latest.csv')\n",
    "df_g = pd.read_csv('/nfs/dpa_pretrain/notebooks/data_processing/disgenet_gda.csv')\n",
    "\n",
    "# Filter rows with diseaseId = C0699791 and non-empty diseaseDes and proteinSeq\n",
    "filtered_df = df[(df['diseaseId'] == 'C0699791') & df['diseaseDes'].notna() & df['proteinSeq'].notna()]\n",
    "filtered_df_g = df_g[(df_g['diseaseId'] == 'C0699791') & df_g['diseaseDes'].notna() & df_g['proteinSeq'].notna()]\n",
    "\n",
    "# Extract all unique gene symbols from disgenet_gda.csv with diseaseId = C0699791\n",
    "gene_symbols_to_exclude = filtered_df_g['geneSymbol'].unique()\n",
    "\n",
    "# Extract all unique protein sequences and corresponding gene symbols from disgenet_latest.csv\n",
    "unique_proteins_and_symbols = df[df['proteinSeq'].notna()][['proteinSeq', 'geneSymbol']].drop_duplicates()\n",
    "\n",
    "# Exclude rows where geneSymbol appears in gene_symbols_to_exclude\n",
    "unique_proteins_and_symbols_filtered = unique_proteins_and_symbols[~unique_proteins_and_symbols['geneSymbol'].isin(gene_symbols_to_exclude)]\n",
    "\n",
    "# Create all possible diseaseDes - proteinSeq pairs, keeping geneSymbol and geneId\n",
    "pairs = []\n",
    "for des in filtered_df['diseaseDes'].unique():\n",
    "    for _, row in unique_proteins_and_symbols_filtered.iterrows():\n",
    "        seq, geneSymbol = row['proteinSeq'], row['geneSymbol']\n",
    "        geneId = filtered_df.loc[filtered_df['geneSymbol'] == geneSymbol, 'geneId'].iloc[0] if geneSymbol in filtered_df['geneSymbol'].values else 'NA'\n",
    "        Y_value = 1 if seq in filtered_df['proteinSeq'].values else 0\n",
    "        pairs.append([des, seq, Y_value, geneSymbol, geneId])\n",
    "\n",
    "# Create a DataFrame with the pairs\n",
    "result_df = pd.DataFrame(pairs, columns=['diseaseDes', 'proteinSeq', 'Y', 'geneSymbol', 'geneId'])\n",
    "\n",
    "# Count the number of rows where Y = 1\n",
    "count_Y_equals_1 = result_df[result_df['Y'] == 1].shape[0]\n",
    "\n",
    "print(f\"Number of rows where Y = 1: {count_Y_equals_1}\")\n",
    "\n",
    "# Save the DataFrame to a CSV file\n",
    "result_df.to_csv('stomach.csv', index=False)"
   ]
  },
  {
   "cell_type": "code",
   "execution_count": 39,
   "id": "ec460aed-a959-4595-bf5b-2d29695925a9",
   "metadata": {},
   "outputs": [
    {
     "data": {
      "text/plain": [
       "13788"
      ]
     },
     "execution_count": 39,
     "metadata": {},
     "output_type": "execute_result"
    }
   ],
   "source": [
    "df_g = pd.read_csv('/nfs/dpa_pretrain/notebooks/data_processing/stomach.csv')\n",
    "# df_g.head(5)\n",
    "len(df_g)"
   ]
  },
  {
   "cell_type": "code",
   "execution_count": 40,
   "id": "8d5b8027-8241-4bb1-884f-07d7d4673519",
   "metadata": {},
   "outputs": [
    {
     "data": {
      "text/html": [
       "<div>\n",
       "<style scoped>\n",
       "    .dataframe tbody tr th:only-of-type {\n",
       "        vertical-align: middle;\n",
       "    }\n",
       "\n",
       "    .dataframe tbody tr th {\n",
       "        vertical-align: top;\n",
       "    }\n",
       "\n",
       "    .dataframe thead th {\n",
       "        text-align: right;\n",
       "    }\n",
       "</style>\n",
       "<table border=\"1\" class=\"dataframe\">\n",
       "  <thead>\n",
       "    <tr style=\"text-align: right;\">\n",
       "      <th></th>\n",
       "      <th>diseaseDes</th>\n",
       "      <th>proteinSeq</th>\n",
       "      <th>Y</th>\n",
       "      <th>geneSymbol</th>\n",
       "      <th>geneId</th>\n",
       "    </tr>\n",
       "  </thead>\n",
       "  <tbody>\n",
       "    <tr>\n",
       "      <th>0</th>\n",
       "      <td>A malignant epithelial tumor of the stomach mu...</td>\n",
       "      <td>MSMLVVFLLLWGVTWGPVTEAAIFYETQPSLWAESESLLKPLANVT...</td>\n",
       "      <td>0</td>\n",
       "      <td>A1BG</td>\n",
       "      <td>NaN</td>\n",
       "    </tr>\n",
       "    <tr>\n",
       "      <th>1</th>\n",
       "      <td>A malignant epithelial tumor of the stomach mu...</td>\n",
       "      <td>MGKNKLLHPSLVLLLLVLLPTDASVSGKPQYMVLVPSLLHTETTEK...</td>\n",
       "      <td>0</td>\n",
       "      <td>A2M</td>\n",
       "      <td>NaN</td>\n",
       "    </tr>\n",
       "    <tr>\n",
       "      <th>2</th>\n",
       "      <td>A malignant epithelial tumor of the stomach mu...</td>\n",
       "      <td>MERMLPLLALGLLAAGFCPAVLCHPNSPLDEENLTQENQDRGTHVD...</td>\n",
       "      <td>0</td>\n",
       "      <td>SERPINA3</td>\n",
       "      <td>NaN</td>\n",
       "    </tr>\n",
       "    <tr>\n",
       "      <th>3</th>\n",
       "      <td>A malignant epithelial tumor of the stomach mu...</td>\n",
       "      <td>MGRKSLYLLIVGILIAYYIYTPLPDNVEEPWRMMWINAHLKTIQNL...</td>\n",
       "      <td>0</td>\n",
       "      <td>AADAC</td>\n",
       "      <td>NaN</td>\n",
       "    </tr>\n",
       "    <tr>\n",
       "      <th>4</th>\n",
       "      <td>A malignant epithelial tumor of the stomach mu...</td>\n",
       "      <td>MESESESGAAADTPPLETLSFHGDEEIIEVVELDPGPPDPADDLAQ...</td>\n",
       "      <td>0</td>\n",
       "      <td>AAMP</td>\n",
       "      <td>NaN</td>\n",
       "    </tr>\n",
       "  </tbody>\n",
       "</table>\n",
       "</div>"
      ],
      "text/plain": [
       "                                          diseaseDes  \\\n",
       "0  A malignant epithelial tumor of the stomach mu...   \n",
       "1  A malignant epithelial tumor of the stomach mu...   \n",
       "2  A malignant epithelial tumor of the stomach mu...   \n",
       "3  A malignant epithelial tumor of the stomach mu...   \n",
       "4  A malignant epithelial tumor of the stomach mu...   \n",
       "\n",
       "                                          proteinSeq  Y geneSymbol  geneId  \n",
       "0  MSMLVVFLLLWGVTWGPVTEAAIFYETQPSLWAESESLLKPLANVT...  0       A1BG     NaN  \n",
       "1  MGKNKLLHPSLVLLLLVLLPTDASVSGKPQYMVLVPSLLHTETTEK...  0        A2M     NaN  \n",
       "2  MERMLPLLALGLLAAGFCPAVLCHPNSPLDEENLTQENQDRGTHVD...  0   SERPINA3     NaN  \n",
       "3  MGRKSLYLLIVGILIAYYIYTPLPDNVEEPWRMMWINAHLKTIQNL...  0      AADAC     NaN  \n",
       "4  MESESESGAAADTPPLETLSFHGDEEIIEVVELDPGPPDPADDLAQ...  0       AAMP     NaN  "
      ]
     },
     "execution_count": 40,
     "metadata": {},
     "output_type": "execute_result"
    }
   ],
   "source": [
    "df_g.head(5)"
   ]
  },
  {
   "cell_type": "code",
   "execution_count": 41,
   "id": "c44d2061-08d3-4e37-9f41-32c8b24a181f",
   "metadata": {},
   "outputs": [
    {
     "name": "stdout",
     "output_type": "stream",
     "text": [
      "Number of rows where Y = 1: 183\n"
     ]
    }
   ],
   "source": [
    "import pandas as pd\n",
    "\n",
    "# Load data from CSV files\n",
    "df = pd.read_csv('/nfs/dpa_pretrain/notebooks/data_processing/disgenet_latest.csv')\n",
    "df_g = pd.read_csv('/nfs/dpa_pretrain/notebooks/data_processing/disgenet_gda.csv')\n",
    "\n",
    "# Filter rows with diseaseId = C0002395 and non-empty diseaseDes and proteinSeq\n",
    "filtered_df = df[(df['diseaseId'] == 'C0002395') & df['diseaseDes'].notna() & df['proteinSeq'].notna()]\n",
    "filtered_df_g = df_g[(df_g['diseaseId'] == 'C0002395') & df_g['diseaseDes'].notna() & df_g['proteinSeq'].notna()]\n",
    "\n",
    "# Extract all unique gene symbols from disgenet_gda.csv with diseaseId = C0699791\n",
    "gene_symbols_to_exclude = filtered_df_g['geneSymbol'].unique()\n",
    "\n",
    "# Extract all unique protein sequences and corresponding gene symbols from disgenet_latest.csv\n",
    "unique_proteins_and_symbols = df[df['proteinSeq'].notna()][['proteinSeq', 'geneSymbol']].drop_duplicates()\n",
    "\n",
    "# Exclude rows where geneSymbol appears in gene_symbols_to_exclude\n",
    "unique_proteins_and_symbols_filtered = unique_proteins_and_symbols[~unique_proteins_and_symbols['geneSymbol'].isin(gene_symbols_to_exclude)]\n",
    "\n",
    "# Create all possible diseaseDes - proteinSeq pairs, keeping geneSymbol and geneId\n",
    "pairs = []\n",
    "for des in filtered_df['diseaseDes'].unique():\n",
    "    for _, row in unique_proteins_and_symbols_filtered.iterrows():\n",
    "        seq, geneSymbol = row['proteinSeq'], row['geneSymbol']\n",
    "        geneId = filtered_df.loc[filtered_df['geneSymbol'] == geneSymbol, 'geneId'].iloc[0] if geneSymbol in filtered_df['geneSymbol'].values else 'NA'\n",
    "        Y_value = 1 if seq in filtered_df['proteinSeq'].values else 0\n",
    "        pairs.append([des, seq, Y_value, geneSymbol, geneId])\n",
    "\n",
    "# Create a DataFrame with the pairs\n",
    "result_df = pd.DataFrame(pairs, columns=['diseaseDes', 'proteinSeq', 'Y', 'geneSymbol', 'geneId'])\n",
    "\n",
    "# Count the number of rows where Y = 1\n",
    "count_Y_equals_1 = result_df[result_df['Y'] == 1].shape[0]\n",
    "\n",
    "print(f\"Number of rows where Y = 1: {count_Y_equals_1}\")\n",
    "\n",
    "# Save the DataFrame to a CSV file\n",
    "result_df.to_csv('alzheimer.csv', index=False)"
   ]
  },
  {
   "cell_type": "code",
   "execution_count": 42,
   "id": "3b5b9c9e-89e5-45eb-a2ca-93a1947924d6",
   "metadata": {},
   "outputs": [
    {
     "data": {
      "text/plain": [
       "13833"
      ]
     },
     "execution_count": 42,
     "metadata": {},
     "output_type": "execute_result"
    }
   ],
   "source": [
    "df_g = pd.read_csv('/nfs/dpa_pretrain/notebooks/data_processing/alzheimer.csv')\n",
    "len(df_g)"
   ]
  },
  {
   "cell_type": "code",
   "execution_count": 43,
   "id": "7e3b7135-8021-459c-8514-10b98166c3cd",
   "metadata": {},
   "outputs": [
    {
     "data": {
      "text/html": [
       "<div>\n",
       "<style scoped>\n",
       "    .dataframe tbody tr th:only-of-type {\n",
       "        vertical-align: middle;\n",
       "    }\n",
       "\n",
       "    .dataframe tbody tr th {\n",
       "        vertical-align: top;\n",
       "    }\n",
       "\n",
       "    .dataframe thead th {\n",
       "        text-align: right;\n",
       "    }\n",
       "</style>\n",
       "<table border=\"1\" class=\"dataframe\">\n",
       "  <thead>\n",
       "    <tr style=\"text-align: right;\">\n",
       "      <th></th>\n",
       "      <th>diseaseDes</th>\n",
       "      <th>proteinSeq</th>\n",
       "      <th>Y</th>\n",
       "      <th>geneSymbol</th>\n",
       "      <th>geneId</th>\n",
       "    </tr>\n",
       "  </thead>\n",
       "  <tbody>\n",
       "    <tr>\n",
       "      <th>0</th>\n",
       "      <td>Alzheimer's disease is a degenerative disease ...</td>\n",
       "      <td>MSMLVVFLLLWGVTWGPVTEAAIFYETQPSLWAESESLLKPLANVT...</td>\n",
       "      <td>0</td>\n",
       "      <td>A1BG</td>\n",
       "      <td>NaN</td>\n",
       "    </tr>\n",
       "    <tr>\n",
       "      <th>1</th>\n",
       "      <td>Alzheimer's disease is a degenerative disease ...</td>\n",
       "      <td>MGKNKLLHPSLVLLLLVLLPTDASVSGKPQYMVLVPSLLHTETTEK...</td>\n",
       "      <td>1</td>\n",
       "      <td>A2M</td>\n",
       "      <td>2.0</td>\n",
       "    </tr>\n",
       "    <tr>\n",
       "      <th>2</th>\n",
       "      <td>Alzheimer's disease is a degenerative disease ...</td>\n",
       "      <td>MERMLPLLALGLLAAGFCPAVLCHPNSPLDEENLTQENQDRGTHVD...</td>\n",
       "      <td>1</td>\n",
       "      <td>SERPINA3</td>\n",
       "      <td>12.0</td>\n",
       "    </tr>\n",
       "    <tr>\n",
       "      <th>3</th>\n",
       "      <td>Alzheimer's disease is a degenerative disease ...</td>\n",
       "      <td>MGRKSLYLLIVGILIAYYIYTPLPDNVEEPWRMMWINAHLKTIQNL...</td>\n",
       "      <td>0</td>\n",
       "      <td>AADAC</td>\n",
       "      <td>NaN</td>\n",
       "    </tr>\n",
       "    <tr>\n",
       "      <th>4</th>\n",
       "      <td>Alzheimer's disease is a degenerative disease ...</td>\n",
       "      <td>MESESESGAAADTPPLETLSFHGDEEIIEVVELDPGPPDPADDLAQ...</td>\n",
       "      <td>0</td>\n",
       "      <td>AAMP</td>\n",
       "      <td>NaN</td>\n",
       "    </tr>\n",
       "  </tbody>\n",
       "</table>\n",
       "</div>"
      ],
      "text/plain": [
       "                                          diseaseDes  \\\n",
       "0  Alzheimer's disease is a degenerative disease ...   \n",
       "1  Alzheimer's disease is a degenerative disease ...   \n",
       "2  Alzheimer's disease is a degenerative disease ...   \n",
       "3  Alzheimer's disease is a degenerative disease ...   \n",
       "4  Alzheimer's disease is a degenerative disease ...   \n",
       "\n",
       "                                          proteinSeq  Y geneSymbol  geneId  \n",
       "0  MSMLVVFLLLWGVTWGPVTEAAIFYETQPSLWAESESLLKPLANVT...  0       A1BG     NaN  \n",
       "1  MGKNKLLHPSLVLLLLVLLPTDASVSGKPQYMVLVPSLLHTETTEK...  1        A2M     2.0  \n",
       "2  MERMLPLLALGLLAAGFCPAVLCHPNSPLDEENLTQENQDRGTHVD...  1   SERPINA3    12.0  \n",
       "3  MGRKSLYLLIVGILIAYYIYTPLPDNVEEPWRMMWINAHLKTIQNL...  0      AADAC     NaN  \n",
       "4  MESESESGAAADTPPLETLSFHGDEEIIEVVELDPGPPDPADDLAQ...  0       AAMP     NaN  "
      ]
     },
     "execution_count": 43,
     "metadata": {},
     "output_type": "execute_result"
    }
   ],
   "source": [
    "df_g.head(5)"
   ]
  },
  {
   "cell_type": "code",
   "execution_count": 76,
   "id": "b3afe9e9-fe11-4f87-a927-6e25a980afa9",
   "metadata": {},
   "outputs": [
    {
     "name": "stdout",
     "output_type": "stream",
     "text": [
      "Number of entries in disgenet_latest.csv for diseaseId = C0699791 with non-empty diseaseDes and proteinSeq: 3076\n",
      "Number of entries in disgenet_gda.csv for diseaseId = C0699791 with non-empty diseaseDes and proteinSeq: 2954\n"
     ]
    }
   ],
   "source": [
    "import pandas as pd\n",
    "\n",
    "# 从两个CSV文件中读取数据\n",
    "df = pd.read_csv('/nfs/dpa_pretrain/data/pretrain/disgenet_latest.csv')\n",
    "df_g = pd.read_csv('/nfs/dpa_pretrain/data/pretrain/disgenet_gda.csv')\n",
    "\n",
    "# 找到 diseaseId = C0699791 且 diseaseDes 和 proteinSeq 不为空的行\n",
    "filtered_df = df[(df['diseaseId'] == 'C0699791') & df['proteinSeq'].notna()]\n",
    "filtered_df_g = df_g[(df_g['diseaseId'] == 'C0699791')& df_g['proteinSeq'].notna()]\n",
    "\n",
    "# 打印出数量\n",
    "print(f\"Number of entries in disgenet_latest.csv for diseaseId = C0699791 with non-empty diseaseDes and proteinSeq: {len(filtered_df)}\")\n",
    "print(f\"Number of entries in disgenet_gda.csv for diseaseId = C0699791 with non-empty diseaseDes and proteinSeq: {len(filtered_df_g)}\")"
   ]
  },
  {
   "cell_type": "code",
   "execution_count": null,
   "id": "e86bc43c-fedb-4250-83a4-ec9a9738eda4",
   "metadata": {},
   "outputs": [],
   "source": [
    "import pandas as pd\n",
    "\n",
    "# Read the CSV files\n",
    "df = pd.read_csv('/nfs/dpa_pretrain/notebooks/data_processing/disgenet_latest.csv')\n",
    "df_g = pd.read_csv('/nfs/dpa_pretrain/notebooks/data_processing/disgenet_gda.csv')\n",
    "\n",
    "# Merge the two DataFrames using an outer join based on the \"geneId\" and \"diseaseId\" columns\n",
    "merged_df = pd.merge(df, df_g, on=['geneSymbol', 'diseaseId'], how='outer', indicator=True)\n",
    "\n",
    "# Filter the merged DataFrame to keep only the rows that are present in one DataFrame but not in the other\n",
    "differences_df = merged_df[merged_df['_merge'] != 'both']\n",
    "\n",
    "# Save the differences to a CSV file\n",
    "differences_df.to_csv('/nfs/dpa_pretrain/notebooks/data_processing/differences.csv', index=False)"
   ]
  },
  {
   "cell_type": "code",
   "execution_count": null,
   "id": "a9091364-7d17-431a-92e9-1c0064b1c357",
   "metadata": {},
   "outputs": [],
   "source": [
    "df = pd.read_csv('/nfs/dpa_pretrain/notebooks/data_processing/differences.csv')\n",
    "df.head()"
   ]
  },
  {
   "cell_type": "code",
   "execution_count": null,
   "id": "bc0b9382-2338-4d99-b085-ed64edb723be",
   "metadata": {},
   "outputs": [],
   "source": [
    "len(df)"
   ]
  },
  {
   "cell_type": "code",
   "execution_count": 17,
   "id": "2d50c173-9f27-44de-af8a-bef2b0a8e380",
   "metadata": {},
   "outputs": [
    {
     "data": {
      "text/plain": [
       "83688"
      ]
     },
     "execution_count": 17,
     "metadata": {},
     "output_type": "execute_result"
    }
   ],
   "source": [
    "import pandas as pd\n",
    "df = pd.read_csv('/nfs/dpa_pretrain/data/pretrain/differences.csv')\n",
    "len(df)"
   ]
  },
  {
   "cell_type": "code",
   "execution_count": null,
   "id": "4b93814e-6e5f-4f97-beb2-07af77b09dd7",
   "metadata": {},
   "outputs": [],
   "source": [
    "import pandas as pd\n",
    "\n",
    "# 读取两个文件\n",
    "df_diff = pd.read_csv('/nfs/dpa_pretrain/data/pretrain/differences.csv')\n",
    "df_disgenet = pd.read_csv('/nfs/dpa_pretrain/data/pretrain/disgenet_latest.csv')\n",
    "\n",
    "# 根据diseaseId列进行匹配\n",
    "merged = pd.merge(df_diff, df_disgenet, on='diseaseId', how='inner')\n",
    "\n",
    "# 选择需要的列\n",
    "result = merged[['diseaseId', 'proteinSeq', 'diseaseDes', 'score']]\n",
    "\n",
    "# 保存到新的文件中\n",
    "result.to_csv('/nfs/dpa_pretrain/data/pretrain/differences_updated.csv', index=False)\n"
   ]
  },
  {
   "cell_type": "code",
   "execution_count": null,
   "id": "2fabefea-365f-4c2c-afd9-7404769c9b50",
   "metadata": {},
   "outputs": [],
   "source": [
    "import pandas as pd\n",
    "\n",
    "# Read file 1\n",
    "df1 = pd.read_csv('gene_associations.tsv', sep=\"\\t\")\n",
    "print(f\"the number of gene: {len(df1.index)}\")\n",
    "\n",
    "# Read file 2\n",
    "df2 = pd.read_csv('disease_associations.tsv', sep=\"\\t\")\n",
    "print(f\"the number of disease: {len(df2.index)}\")\n",
    "\n",
    "# Concatenate the dataframes along the columns\n",
    "df = pd.concat([df1, df2], axis=1)\n",
    "\n",
    "# # Save merged file\n",
    "# df.to_csv('all_gene_disease_associations.tsv', index=False)"
   ]
  },
  {
   "cell_type": "code",
   "execution_count": 13,
   "id": "1d751c6d-2c66-457d-a6a4-ce62ab818d7c",
   "metadata": {},
   "outputs": [
    {
     "data": {
      "text/html": [
       "<div>\n",
       "<style scoped>\n",
       "    .dataframe tbody tr th:only-of-type {\n",
       "        vertical-align: middle;\n",
       "    }\n",
       "\n",
       "    .dataframe tbody tr th {\n",
       "        vertical-align: top;\n",
       "    }\n",
       "\n",
       "    .dataframe thead th {\n",
       "        text-align: right;\n",
       "    }\n",
       "</style>\n",
       "<table border=\"1\" class=\"dataframe\">\n",
       "  <thead>\n",
       "    <tr style=\"text-align: right;\">\n",
       "      <th></th>\n",
       "      <th>geneId</th>\n",
       "      <th>geneSymbol</th>\n",
       "      <th>DSI</th>\n",
       "      <th>DPI</th>\n",
       "      <th>PLI</th>\n",
       "      <th>protein_class_name</th>\n",
       "      <th>protein_class</th>\n",
       "      <th>NofDiseases</th>\n",
       "      <th>NofPmids</th>\n",
       "    </tr>\n",
       "  </thead>\n",
       "  <tbody>\n",
       "    <tr>\n",
       "      <th>0</th>\n",
       "      <td>1</td>\n",
       "      <td>A1BG</td>\n",
       "      <td>0.700</td>\n",
       "      <td>0.538</td>\n",
       "      <td>4.991700e-09</td>\n",
       "      <td>Receptor</td>\n",
       "      <td>DTO_05007575</td>\n",
       "      <td>27</td>\n",
       "      <td>20</td>\n",
       "    </tr>\n",
       "    <tr>\n",
       "      <th>1</th>\n",
       "      <td>2</td>\n",
       "      <td>A2M</td>\n",
       "      <td>0.529</td>\n",
       "      <td>0.769</td>\n",
       "      <td>4.522900e-11</td>\n",
       "      <td>Enzyme modulator</td>\n",
       "      <td>DTO_05007584</td>\n",
       "      <td>147</td>\n",
       "      <td>145</td>\n",
       "    </tr>\n",
       "    <tr>\n",
       "      <th>2</th>\n",
       "      <td>3</td>\n",
       "      <td>A2MP1</td>\n",
       "      <td>NaN</td>\n",
       "      <td>NaN</td>\n",
       "      <td>NaN</td>\n",
       "      <td>NaN</td>\n",
       "      <td>NaN</td>\n",
       "      <td>1</td>\n",
       "      <td>1</td>\n",
       "    </tr>\n",
       "    <tr>\n",
       "      <th>3</th>\n",
       "      <td>9</td>\n",
       "      <td>NAT1</td>\n",
       "      <td>0.536</td>\n",
       "      <td>0.846</td>\n",
       "      <td>1.929400e-14</td>\n",
       "      <td>Enzyme</td>\n",
       "      <td>DTO_05007624</td>\n",
       "      <td>133</td>\n",
       "      <td>184</td>\n",
       "    </tr>\n",
       "    <tr>\n",
       "      <th>4</th>\n",
       "      <td>10</td>\n",
       "      <td>NAT2</td>\n",
       "      <td>0.451</td>\n",
       "      <td>0.885</td>\n",
       "      <td>3.274400e-06</td>\n",
       "      <td>Enzyme</td>\n",
       "      <td>DTO_05007624</td>\n",
       "      <td>311</td>\n",
       "      <td>627</td>\n",
       "    </tr>\n",
       "  </tbody>\n",
       "</table>\n",
       "</div>"
      ],
      "text/plain": [
       "   geneId geneSymbol    DSI    DPI           PLI protein_class_name  \\\n",
       "0       1       A1BG  0.700  0.538  4.991700e-09           Receptor   \n",
       "1       2        A2M  0.529  0.769  4.522900e-11   Enzyme modulator   \n",
       "2       3      A2MP1    NaN    NaN           NaN                NaN   \n",
       "3       9       NAT1  0.536  0.846  1.929400e-14             Enzyme   \n",
       "4      10       NAT2  0.451  0.885  3.274400e-06             Enzyme   \n",
       "\n",
       "  protein_class  NofDiseases  NofPmids  \n",
       "0  DTO_05007575           27        20  \n",
       "1  DTO_05007584          147       145  \n",
       "2           NaN            1         1  \n",
       "3  DTO_05007624          133       184  \n",
       "4  DTO_05007624          311       627  "
      ]
     },
     "execution_count": 13,
     "metadata": {},
     "output_type": "execute_result"
    }
   ],
   "source": [
    "df1 = pd.read_csv('gene_associations.tsv', sep=\"\\t\")\n",
    "df1.head()"
   ]
  },
  {
   "cell_type": "code",
   "execution_count": 2,
   "id": "6e398efa-85d1-4c52-bebb-5370e52e1d87",
   "metadata": {},
   "outputs": [
    {
     "data": {
      "text/plain": [
       "Index(['geneId', 'geneSymbol', 'DSI', 'DPI', 'PLI', 'protein_class_name',\n",
       "       'protein_class', 'NofDiseases', 'NofPmids'],\n",
       "      dtype='object')"
      ]
     },
     "execution_count": 2,
     "metadata": {},
     "output_type": "execute_result"
    }
   ],
   "source": [
    "df1.columns"
   ]
  },
  {
   "cell_type": "code",
   "execution_count": 3,
   "id": "08b6684d-41cf-4a05-bbc0-84849fb1c077",
   "metadata": {},
   "outputs": [
    {
     "data": {
      "text/plain": [
       "Index(['diseaseId', 'diseaseName', 'diseaseType', 'diseaseClass',\n",
       "       'diseaseSemanticType', 'NofGenes', 'NofPmids'],\n",
       "      dtype='object')"
      ]
     },
     "execution_count": 3,
     "metadata": {},
     "output_type": "execute_result"
    }
   ],
   "source": [
    "df2.columns"
   ]
  },
  {
   "cell_type": "code",
   "execution_count": 4,
   "id": "2cd016c9-30cb-4966-a5c2-e55261f55adb",
   "metadata": {},
   "outputs": [
    {
     "data": {
      "text/html": [
       "<div>\n",
       "<style scoped>\n",
       "    .dataframe tbody tr th:only-of-type {\n",
       "        vertical-align: middle;\n",
       "    }\n",
       "\n",
       "    .dataframe tbody tr th {\n",
       "        vertical-align: top;\n",
       "    }\n",
       "\n",
       "    .dataframe thead th {\n",
       "        text-align: right;\n",
       "    }\n",
       "</style>\n",
       "<table border=\"1\" class=\"dataframe\">\n",
       "  <thead>\n",
       "    <tr style=\"text-align: right;\">\n",
       "      <th></th>\n",
       "      <th>diseaseId</th>\n",
       "      <th>diseaseName</th>\n",
       "      <th>diseaseType</th>\n",
       "      <th>diseaseClass</th>\n",
       "      <th>diseaseSemanticType</th>\n",
       "      <th>NofGenes</th>\n",
       "      <th>NofPmids</th>\n",
       "    </tr>\n",
       "  </thead>\n",
       "  <tbody>\n",
       "    <tr>\n",
       "      <th>0</th>\n",
       "      <td>C0000727</td>\n",
       "      <td>Abdomen, Acute</td>\n",
       "      <td>phenotype</td>\n",
       "      <td>C23</td>\n",
       "      <td>Sign or Symptom</td>\n",
       "      <td>2</td>\n",
       "      <td>2</td>\n",
       "    </tr>\n",
       "    <tr>\n",
       "      <th>1</th>\n",
       "      <td>C0000729</td>\n",
       "      <td>Abdominal Cramps</td>\n",
       "      <td>phenotype</td>\n",
       "      <td>C16</td>\n",
       "      <td>Sign or Symptom</td>\n",
       "      <td>1</td>\n",
       "      <td>1</td>\n",
       "    </tr>\n",
       "    <tr>\n",
       "      <th>2</th>\n",
       "      <td>C0000731</td>\n",
       "      <td>Abdomen distended</td>\n",
       "      <td>phenotype</td>\n",
       "      <td>C06</td>\n",
       "      <td>Finding</td>\n",
       "      <td>103</td>\n",
       "      <td>0</td>\n",
       "    </tr>\n",
       "  </tbody>\n",
       "</table>\n",
       "</div>"
      ],
      "text/plain": [
       "  diseaseId        diseaseName diseaseType diseaseClass diseaseSemanticType  \\\n",
       "0  C0000727     Abdomen, Acute   phenotype          C23     Sign or Symptom   \n",
       "1  C0000729   Abdominal Cramps   phenotype          C16     Sign or Symptom   \n",
       "2  C0000731  Abdomen distended   phenotype          C06             Finding   \n",
       "\n",
       "   NofGenes  NofPmids  \n",
       "0         2         2  \n",
       "1         1         1  \n",
       "2       103         0  "
      ]
     },
     "execution_count": 4,
     "metadata": {},
     "output_type": "execute_result"
    }
   ],
   "source": [
    "df2.head(3)"
   ]
  },
  {
   "cell_type": "code",
   "execution_count": null,
   "id": "ac95fa22-9cac-49c6-8a63-55d74b8e3446",
   "metadata": {},
   "outputs": [
    {
     "name": "stderr",
     "output_type": "stream",
     "text": [
      "Found local copy...\n",
      "Loading...\n",
      "Done!\n",
      "Binariztion using threshold 0, default, we assume the smaller values are 1 and larger ones is 0, you can change the order by 'binarize(order = 'ascending')'\n"
     ]
    },
    {
     "data": {
      "image/png": "[encoded data removed]",
      "text/plain": [
       "<Figure size 640x480 with 2 Axes>"
      ]
     },
     "metadata": {},
     "output_type": "display_data"
    },
    {
     "name": "stdout",
     "output_type": "stream",
     "text": [
      "The number of common diseases: 7095\n"
     ]
    }
   ],
   "source": [
    "import torch\n",
    "from tdc.multi_pred import GDA\n",
    "import numpy as np\n",
    "import pandas as pd\n",
    "\n",
    "# Load the data\n",
    "data = GDA(name=\"DisGeNET\")\n",
    "data.neg_sample(frac = 1)\n",
    "data.binarize(threshold = 0, order = 'ascending')\n",
    "data.label_distribution()\n",
    "tdc_df = data.get_data()\n",
    "\n",
    "# tdc_df.to_csv('TDC_pn.csv', index=False)\n",
    "# Load CSV file\n",
    "df2 = pd.read_csv('disease_associations.tsv', sep=\"\\t\")\n",
    "\n",
    "# Get the set of disease IDs from both datasets\n",
    "tdc_disease_ids = set(tdc_df['Disease_ID'])\n",
    "df2_disease_ids = set(df2['diseaseId'])\n",
    "\n",
    "# Get the intersection of the two sets, which gives us the common diseases\n",
    "common_diseases = tdc_disease_ids.intersection(df2_disease_ids)\n",
    "\n",
    "print(f\"The number of common diseases: {len(common_diseases)}\")\n"
   ]
  },
  {
   "cell_type": "code",
   "execution_count": 2,
   "id": "ee340c0c-609f-41c2-abe8-334ebb6ad6f4",
   "metadata": {},
   "outputs": [
    {
     "data": {
      "text/html": [
       "<div>\n",
       "<style scoped>\n",
       "    .dataframe tbody tr th:only-of-type {\n",
       "        vertical-align: middle;\n",
       "    }\n",
       "\n",
       "    .dataframe tbody tr th {\n",
       "        vertical-align: top;\n",
       "    }\n",
       "\n",
       "    .dataframe thead th {\n",
       "        text-align: right;\n",
       "    }\n",
       "</style>\n",
       "<table border=\"1\" class=\"dataframe\">\n",
       "  <thead>\n",
       "    <tr style=\"text-align: right;\">\n",
       "      <th></th>\n",
       "      <th>Gene_ID</th>\n",
       "      <th>Gene</th>\n",
       "      <th>Disease_ID</th>\n",
       "      <th>Disease</th>\n",
       "      <th>Y</th>\n",
       "      <th>diseaseClass</th>\n",
       "    </tr>\n",
       "  </thead>\n",
       "  <tbody>\n",
       "    <tr>\n",
       "      <th>0</th>\n",
       "      <td>1</td>\n",
       "      <td>MSMLVVFLLLWGVTWGPVTEAAIFYETQPSLWAESESLLKPLANVT...</td>\n",
       "      <td>C0019209</td>\n",
       "      <td>Hepatomegaly: Abnormal enlargement of the liver.</td>\n",
       "      <td>1</td>\n",
       "      <td>C23;C06</td>\n",
       "    </tr>\n",
       "    <tr>\n",
       "      <th>1</th>\n",
       "      <td>196</td>\n",
       "      <td>MNSSSANITYASRKRRKPVQKTVKPIPAEGIKSNPSKRHRDRLNTE...</td>\n",
       "      <td>C0019209</td>\n",
       "      <td>Hepatomegaly: Abnormal enlargement of the liver.</td>\n",
       "      <td>1</td>\n",
       "      <td>C23;C06</td>\n",
       "    </tr>\n",
       "    <tr>\n",
       "      <th>2</th>\n",
       "      <td>213</td>\n",
       "      <td>MKWVTFISLLFLFSSAYSRGVFRRDAHKSEVAHRFKDLGEENFKAL...</td>\n",
       "      <td>C0019209</td>\n",
       "      <td>Hepatomegaly: Abnormal enlargement of the liver.</td>\n",
       "      <td>1</td>\n",
       "      <td>C23;C06</td>\n",
       "    </tr>\n",
       "  </tbody>\n",
       "</table>\n",
       "</div>"
      ],
      "text/plain": [
       "  Gene_ID                                               Gene Disease_ID  \\\n",
       "0       1  MSMLVVFLLLWGVTWGPVTEAAIFYETQPSLWAESESLLKPLANVT...   C0019209   \n",
       "1     196  MNSSSANITYASRKRRKPVQKTVKPIPAEGIKSNPSKRHRDRLNTE...   C0019209   \n",
       "2     213  MKWVTFISLLFLFSSAYSRGVFRRDAHKSEVAHRFKDLGEENFKAL...   C0019209   \n",
       "\n",
       "                                            Disease  Y diseaseClass  \n",
       "0  Hepatomegaly: Abnormal enlargement of the liver.  1      C23;C06  \n",
       "1  Hepatomegaly: Abnormal enlargement of the liver.  1      C23;C06  \n",
       "2  Hepatomegaly: Abnormal enlargement of the liver.  1      C23;C06  "
      ]
     },
     "execution_count": 2,
     "metadata": {},
     "output_type": "execute_result"
    }
   ],
   "source": [
    "# Create a new dataframe that only contains the 'diseaseId' and 'diseaseClass' columns from df2\n",
    "df2_reduced = df2[['diseaseId', 'diseaseClass']]\n",
    "df3_reduced = df2[['diseaseId', 'diseaseClass']]\n",
    "\n",
    "# Rename the 'diseaseId' column in df2_reduced to 'Disease_ID' so it can be merged with tdc_df\n",
    "df2_reduced = df2_reduced.rename(columns={'diseaseId': 'Disease_ID'})\n",
    "df3_reduced = df3_reduced.rename(columns={'diseaseId': 'Disease_ID'})\n",
    "\n",
    "# Merge tdc_df with df2_reduced, keeping only the rows where the 'Disease_ID' is present in both dataframes\n",
    "merged_df = pd.merge(tdc_df, df2_reduced, on='Disease_ID')\n",
    "merged_df = pd.merge(tdc_df, df3_reduced, on='Disease_ID')\n",
    "# Now, merged_df contains the 'diseaseClass' for each 'Disease_ID' that is present in both the TDC dataset and your dataset\n",
    "merged_df.head(3)\n"
   ]
  },
  {
   "cell_type": "code",
   "execution_count": 69,
   "id": "16d32215-6393-49c0-8f61-4ec58c74dc94",
   "metadata": {},
   "outputs": [],
   "source": [
    "# Select rows where Disease_ID equals 'C0009375'\n",
    "desired_disease_df = merged_df[merged_df['Disease_ID'] == 'C0002395']\n",
    "\n",
    "# Select rows where Disease_ID does not equal 'C0009375'\n",
    "other_diseases_df = merged_df[merged_df['Disease_ID'] != 'C0002395']\n",
    "\n",
    "# Save the dataframes to CSV files\n",
    "# desired_disease_df.to_csv('Alzheimer.csv', index=False)\n",
    "# other_diseases_df.to_csv('Non_Alzheimer.csv', index=False)\n"
   ]
  },
  {
   "cell_type": "code",
   "execution_count": 7,
   "id": "fc97dce1-4c96-4d7a-92c4-3789a58e8d5f",
   "metadata": {},
   "outputs": [],
   "source": [
    "# Select rows where Disease_ID equals 'C0009375'\n",
    "desired_disease_df = merged_df[merged_df['Disease_ID'] == 'C0002395']\n",
    "\n",
    "# Get the disease name corresponding to 'C0009375'\n",
    "desired_disease_name = desired_disease_df['Disease'].values[0]\n",
    "\n",
    "# Select rows where Disease_ID does not equal 'C0009375'\n",
    "other_diseases_df = merged_df[merged_df['Disease_ID'] != 'C0002395']\n",
    "\n",
    "# Replace the Disease_ID and Disease in other_diseases_df with the desired values\n",
    "other_diseases_df.loc[:, 'Disease_ID'] = 'C0002395'\n",
    "other_diseases_df.loc[:, 'Disease'] = desired_disease_name\n",
    "\n",
    "# Set Y value to 0 in other_diseases_df\n",
    "other_diseases_df.loc[:, 'Y'] = 0\n",
    "\n",
    "# Concatenate the dataframes\n",
    "final_df = pd.concat([desired_disease_df, other_diseases_df])\n",
    "\n",
    "# Save the dataframe to a CSV file\n",
    "final_df.to_csv('final_Alzheimer.csv', index=False)\n"
   ]
  },
  {
   "cell_type": "code",
   "execution_count": 75,
   "id": "6e2aaa4a-a6fa-4e3b-b778-a6f3d78cd6ba",
   "metadata": {},
   "outputs": [],
   "source": [
    "# Create a new dataframe containing only rows where 'diseaseClass' contains 'F01'\n",
    "F01_df = merged_df[merged_df['diseaseClass'].str.contains('F01', na=False)]"
   ]
  },
  {
   "cell_type": "code",
   "execution_count": 76,
   "id": "ae1b4296-cad6-4598-a27c-f82e1e3c3066",
   "metadata": {},
   "outputs": [],
   "source": [
    "# Save the DataFrame to a CSV file\n",
    "F01_df.to_csv('F01_diseases.csv', index=False)"
   ]
  },
  {
   "cell_type": "code",
   "execution_count": 77,
   "id": "c1f190d5-5b3b-474d-803a-7449af6c3fe5",
   "metadata": {},
   "outputs": [],
   "source": [
    "# Create a new dataframe containing only rows where 'diseaseClass' contains 'F01'\n",
    "F03_df = merged_df[merged_df['diseaseClass'].str.contains('F03', na=False)]\n",
    "# Save the DataFrame to a CSV file\n",
    "F03_df.to_csv('F03_diseases.csv', index=False)"
   ]
  },
  {
   "cell_type": "code",
   "execution_count": 78,
   "id": "53a3ed55-1ae9-4682-9fce-65986e38f59c",
   "metadata": {},
   "outputs": [],
   "source": [
    "# Create a new dataframe containing only rows where 'diseaseClass' contains 'F01'\n",
    "C01_df = merged_df[merged_df['diseaseClass'].str.contains('C01', na=False)]\n",
    "# Save the DataFrame to a CSV file\n",
    "C01_df.to_csv('C01_diseases.csv', index=False)"
   ]
  },
  {
   "cell_type": "code",
   "execution_count": 79,
   "id": "105c73dd-de85-4aa0-a8c0-5f37ba46e69c",
   "metadata": {},
   "outputs": [],
   "source": [
    "# The list of diseaseClass codes to include\n",
    "codes = ['C{:02d}'.format(i) for i in range(4, 27)]\n",
    "\n",
    "# Loop through the codes\n",
    "for code in codes:\n",
    "    # Create a new dataframe containing only rows where 'diseaseClass' contains the current code\n",
    "    df = merged_df[merged_df['diseaseClass'].str.contains(code, na=False)]\n",
    "    \n",
    "    # Save the DataFrame to a CSV file\n",
    "    df.to_csv('{}_diseases.csv'.format(code), index=False)"
   ]
  },
  {
   "cell_type": "code",
   "execution_count": 14,
   "id": "8501a545-7685-4310-8266-045a2287591c",
   "metadata": {},
   "outputs": [],
   "source": [
    "# Create a new dataframe containing only rows where 'diseaseClass' contains 'F01'\n",
    "C26_df = merged_df[merged_df['diseaseClass'].str.contains('C26', na=False)]\n",
    "# Save the DataFrame to a CSV file\n",
    "C26_df.to_csv('C26_diseases.csv', index=False)"
   ]
  },
  {
   "cell_type": "code",
   "execution_count": 80,
   "id": "5402a489-e340-4daf-918a-f4771151635c",
   "metadata": {},
   "outputs": [
    {
     "data": {
      "text/plain": [
       "1481"
      ]
     },
     "execution_count": 80,
     "metadata": {},
     "output_type": "execute_result"
    }
   ],
   "source": [
    "# Group by 'Disease_ID' and count non-NaN 'diseaseClass' for each group\n",
    "disease_class_counts = merged_df.groupby('Disease_ID')['diseaseClass'].count()\n",
    "\n",
    "# Find 'Disease_ID' where all 'diseaseClass' are NaN\n",
    "diseases_with_all_nan_class = disease_class_counts[disease_class_counts == 0].index.tolist()\n",
    "\n",
    "len(diseases_with_all_nan_class)"
   ]
  },
  {
   "cell_type": "code",
   "execution_count": 81,
   "id": "8f36129d-13ec-4b33-bd06-cdaf652cc90b",
   "metadata": {},
   "outputs": [],
   "source": [
    "nan_df = merged_df[merged_df['diseaseClass'].isna()]"
   ]
  },
  {
   "cell_type": "code",
   "execution_count": 82,
   "id": "4dcbdbd6-a6e1-4643-b8a9-6df94eea7b3c",
   "metadata": {},
   "outputs": [
    {
     "data": {
      "image/png": "[encoded data removed]",
      "text/plain": [
       "<Figure size 720x432 with 1 Axes>"
      ]
     },
     "metadata": {},
     "output_type": "display_data"
    }
   ],
   "source": [
    "# Compute the frequency of each 'Disease_ID'\n",
    "counts = nan_df['Disease_ID'].value_counts()\n",
    "\n",
    "# Select the top 20 diseases\n",
    "top_20_diseases = counts[:20]\n",
    "\n",
    "# Plot the frequencies\n",
    "plt.figure(figsize=(10, 6))\n",
    "top_20_diseases.plot(kind='bar')\n",
    "plt.title('Distribution of Diseases with NaN Class')\n",
    "plt.xlabel('Disease ID')\n",
    "plt.ylabel('Frequency')\n",
    "plt.xticks(rotation=90)\n",
    "plt.show()"
   ]
  },
  {
   "cell_type": "code",
   "execution_count": 83,
   "id": "9978bb49-58eb-4e03-a574-e65dee8f5814",
   "metadata": {},
   "outputs": [
    {
     "data": {
      "text/plain": [
       "12902"
      ]
     },
     "execution_count": 83,
     "metadata": {},
     "output_type": "execute_result"
    }
   ],
   "source": [
    "len(nan_df)"
   ]
  },
  {
   "cell_type": "code",
   "execution_count": 5,
   "id": "a336a30b-f16e-4c04-aa90-3b8c67f2d609",
   "metadata": {},
   "outputs": [],
   "source": [
    "import torch\n",
    "from tdc.multi_pred import GDA\n",
    "import numpy as np\n",
    "import pandas as pd\n",
    "merged_df = pd.read_csv('/nfs/dpa_pretrain/data/pretrain/disgenet_updated.csv')\n",
    "desired_disease_id = 'C0002395'\n",
    "disease_row = merged_df[merged_df['diseaseId'] == desired_disease_id]\n",
    "\n",
    "# Extract the disease name\n",
    "# disease_name = disease_row['NofGenes'].values[0]  # If there could be multiple rows, this will get the disease name from the first row\n",
    "\n",
    "# print(f\"The disease name for Disease_ID {desisred_disease_id} is {disease_name}\")"
   ]
  },
  {
   "cell_type": "code",
   "execution_count": 6,
   "id": "329f7469-a4f2-4058-a0f9-8f4b57f52ec0",
   "metadata": {},
   "outputs": [
    {
     "data": {
      "text/plain": [
       "191"
      ]
     },
     "execution_count": 6,
     "metadata": {},
     "output_type": "execute_result"
    }
   ],
   "source": [
    "len(disease_row)"
   ]
  },
  {
   "cell_type": "code",
   "execution_count": 8,
   "id": "5b8e5ad7-abee-44ab-8f53-e94c00d2a463",
   "metadata": {},
   "outputs": [],
   "source": [
    "nan_df = disease_row[disease_row['proteinSeq'].isna()]"
   ]
  },
  {
   "cell_type": "code",
   "execution_count": 10,
   "id": "1d1ea96f-8cf9-436b-950d-0522d3dace10",
   "metadata": {},
   "outputs": [
    {
     "data": {
      "text/html": [
       "<div>\n",
       "<style scoped>\n",
       "    .dataframe tbody tr th:only-of-type {\n",
       "        vertical-align: middle;\n",
       "    }\n",
       "\n",
       "    .dataframe tbody tr th {\n",
       "        vertical-align: top;\n",
       "    }\n",
       "\n",
       "    .dataframe thead th {\n",
       "        text-align: right;\n",
       "    }\n",
       "</style>\n",
       "<table border=\"1\" class=\"dataframe\">\n",
       "  <thead>\n",
       "    <tr style=\"text-align: right;\">\n",
       "      <th></th>\n",
       "      <th>diseaseId</th>\n",
       "      <th>geneSymbol</th>\n",
       "      <th>proteinSeq</th>\n",
       "      <th>diseaseDes</th>\n",
       "      <th>score</th>\n",
       "    </tr>\n",
       "  </thead>\n",
       "  <tbody>\n",
       "    <tr>\n",
       "      <th>16</th>\n",
       "      <td>C0002395</td>\n",
       "      <td>AMD1</td>\n",
       "      <td>NaN</td>\n",
       "      <td>NaN</td>\n",
       "      <td>NaN</td>\n",
       "    </tr>\n",
       "    <tr>\n",
       "      <th>101</th>\n",
       "      <td>C0002395</td>\n",
       "      <td>AQP4</td>\n",
       "      <td>NaN</td>\n",
       "      <td>NaN</td>\n",
       "      <td>NaN</td>\n",
       "    </tr>\n",
       "    <tr>\n",
       "      <th>405</th>\n",
       "      <td>C0002395</td>\n",
       "      <td>GPX1</td>\n",
       "      <td>NaN</td>\n",
       "      <td>NaN</td>\n",
       "      <td>NaN</td>\n",
       "    </tr>\n",
       "    <tr>\n",
       "      <th>703</th>\n",
       "      <td>C0002395</td>\n",
       "      <td>MDH1</td>\n",
       "      <td>NaN</td>\n",
       "      <td>NaN</td>\n",
       "      <td>NaN</td>\n",
       "    </tr>\n",
       "    <tr>\n",
       "      <th>747</th>\n",
       "      <td>C0002395</td>\n",
       "      <td>MPZ</td>\n",
       "      <td>NaN</td>\n",
       "      <td>NaN</td>\n",
       "      <td>NaN</td>\n",
       "    </tr>\n",
       "    <tr>\n",
       "      <th>979</th>\n",
       "      <td>C0002395</td>\n",
       "      <td>OPRK1</td>\n",
       "      <td>NaN</td>\n",
       "      <td>NaN</td>\n",
       "      <td>NaN</td>\n",
       "    </tr>\n",
       "    <tr>\n",
       "      <th>1110</th>\n",
       "      <td>C0002395</td>\n",
       "      <td>OPRL1</td>\n",
       "      <td>NaN</td>\n",
       "      <td>NaN</td>\n",
       "      <td>NaN</td>\n",
       "    </tr>\n",
       "    <tr>\n",
       "      <th>1181</th>\n",
       "      <td>C0002395</td>\n",
       "      <td>MAPK10</td>\n",
       "      <td>NaN</td>\n",
       "      <td>NaN</td>\n",
       "      <td>NaN</td>\n",
       "    </tr>\n",
       "    <tr>\n",
       "      <th>1263</th>\n",
       "      <td>C0002395</td>\n",
       "      <td>VDR</td>\n",
       "      <td>NaN</td>\n",
       "      <td>NaN</td>\n",
       "      <td>NaN</td>\n",
       "    </tr>\n",
       "    <tr>\n",
       "      <th>4175</th>\n",
       "      <td>C0002395</td>\n",
       "      <td>CCL4L1</td>\n",
       "      <td>NaN</td>\n",
       "      <td>NaN</td>\n",
       "      <td>NaN</td>\n",
       "    </tr>\n",
       "  </tbody>\n",
       "</table>\n",
       "</div>"
      ],
      "text/plain": [
       "     diseaseId geneSymbol proteinSeq diseaseDes  score\n",
       "16    C0002395       AMD1        NaN        NaN    NaN\n",
       "101   C0002395       AQP4        NaN        NaN    NaN\n",
       "405   C0002395       GPX1        NaN        NaN    NaN\n",
       "703   C0002395       MDH1        NaN        NaN    NaN\n",
       "747   C0002395        MPZ        NaN        NaN    NaN\n",
       "979   C0002395      OPRK1        NaN        NaN    NaN\n",
       "1110  C0002395      OPRL1        NaN        NaN    NaN\n",
       "1181  C0002395     MAPK10        NaN        NaN    NaN\n",
       "1263  C0002395        VDR        NaN        NaN    NaN\n",
       "4175  C0002395     CCL4L1        NaN        NaN    NaN"
      ]
     },
     "execution_count": 10,
     "metadata": {},
     "output_type": "execute_result"
    }
   ],
   "source": [
    "nan_df"
   ]
  },
  {
   "cell_type": "code",
   "execution_count": null,
   "id": "66367e21-261c-4eeb-85ce-0fef3b2062ad",
   "metadata": {},
   "outputs": [],
   "source": [
    "desired_disease_id = 'C0002395'\n",
    "disease_row = merged_df[merged_df['Disease_ID'] == desired_disease_id]\n",
    "\n",
    "# Extract the disease name\n",
    "disease_name = disease_row['Disease'].values[0]  # If there could be multiple rows, this will get the disease name from the first row\n",
    "\n",
    "print(f\"The disease name for Disease_ID {desired_disease_id} is {disease_name}\")"
   ]
  },
  {
   "cell_type": "code",
   "execution_count": 59,
   "id": "f918c14f-bb01-4359-bebe-5666270eccc3",
   "metadata": {},
   "outputs": [
    {
     "name": "stdout",
     "output_type": "stream",
     "text": [
      "The disease name for Disease_ID C0009375 is Colonic Neoplasms: A benign or malignant neoplasm that affects the colon. Representative examples of benign neoplasms include lipoma and leiomyoma. Representative examples of malignant neoplasms include carcinoma, lymphoma, and sarcoma. Colonic adenomas always exhibit epithelial dysplasia and are considered premalignant neoplasms.\n"
     ]
    }
   ],
   "source": [
    "desired_disease_id = 'C0009375'\n",
    "disease_row = merged_df[merged_df['Disease_ID'] == desired_disease_id]\n",
    "\n",
    "# Extract the disease name\n",
    "disease_name = disease_row['Disease'].values[0]  # If there could be multiple rows, this will get the disease name from the first row\n",
    "\n",
    "print(f\"The disease name for Disease_ID {desired_disease_id} is {disease_name}\")"
   ]
  },
  {
   "cell_type": "code",
   "execution_count": 60,
   "id": "3045f419-f72b-41cf-9e54-547a019c401b",
   "metadata": {},
   "outputs": [
    {
     "data": {
      "text/plain": [
       "135"
      ]
     },
     "execution_count": 60,
     "metadata": {},
     "output_type": "execute_result"
    }
   ],
   "source": [
    "len(disease_row)"
   ]
  },
  {
   "cell_type": "code",
   "execution_count": null,
   "id": "d2367342-f169-460f-a419-6cd837031b25",
   "metadata": {},
   "outputs": [],
   "source": []
  },
  {
   "cell_type": "code",
   "execution_count": 276,
   "id": "d6ce3b69-ea24-491c-87c1-f263643a7ba7",
   "metadata": {},
   "outputs": [
    {
     "data": {
      "text/html": [
       "<div>\n",
       "<style scoped>\n",
       "    .dataframe tbody tr th:only-of-type {\n",
       "        vertical-align: middle;\n",
       "    }\n",
       "\n",
       "    .dataframe tbody tr th {\n",
       "        vertical-align: top;\n",
       "    }\n",
       "\n",
       "    .dataframe thead th {\n",
       "        text-align: right;\n",
       "    }\n",
       "</style>\n",
       "<table border=\"1\" class=\"dataframe\">\n",
       "  <thead>\n",
       "    <tr style=\"text-align: right;\">\n",
       "      <th></th>\n",
       "      <th>Gene_ID</th>\n",
       "      <th>Gene</th>\n",
       "      <th>Disease_ID</th>\n",
       "      <th>Disease</th>\n",
       "      <th>Y</th>\n",
       "      <th>diseaseClass</th>\n",
       "    </tr>\n",
       "  </thead>\n",
       "  <tbody>\n",
       "    <tr>\n",
       "      <th>6015</th>\n",
       "      <td>18</td>\n",
       "      <td>MASMLLAQRLACSFQHSYRLLVPGSRHISQAAAKVDVEFDYDGPLM...</td>\n",
       "      <td>C0557874</td>\n",
       "      <td>Global developmental delay: A delay in the ach...</td>\n",
       "      <td>0.4</td>\n",
       "      <td>NaN</td>\n",
       "    </tr>\n",
       "    <tr>\n",
       "      <th>6016</th>\n",
       "      <td>86</td>\n",
       "      <td>MSGGVYGGDEVGALVFDIGSYTVRAGYAGEDCPKVDFPTAIGMVVE...</td>\n",
       "      <td>C0557874</td>\n",
       "      <td>Global developmental delay: A delay in the ach...</td>\n",
       "      <td>0.3</td>\n",
       "      <td>NaN</td>\n",
       "    </tr>\n",
       "    <tr>\n",
       "      <th>6017</th>\n",
       "      <td>162</td>\n",
       "      <td>MTDSKYFTTTKKGEIFELKAELNSDKKEKKKEAVKKVIASMTVGKD...</td>\n",
       "      <td>C0557874</td>\n",
       "      <td>Global developmental delay: A delay in the ach...</td>\n",
       "      <td>0.3</td>\n",
       "      <td>NaN</td>\n",
       "    </tr>\n",
       "    <tr>\n",
       "      <th>6018</th>\n",
       "      <td>318</td>\n",
       "      <td>MALRACGLIIFRRCLIPKVDNNAIEFLLLQASDGIHHWTPPKGHVE...</td>\n",
       "      <td>C0557874</td>\n",
       "      <td>Global developmental delay: A delay in the ach...</td>\n",
       "      <td>0.3</td>\n",
       "      <td>NaN</td>\n",
       "    </tr>\n",
       "    <tr>\n",
       "      <th>6019</th>\n",
       "      <td>652</td>\n",
       "      <td>MIPGNRMLMVVLLCQVLLGGASHASLIPETGKKKVAEIQGHAGGRR...</td>\n",
       "      <td>C0557874</td>\n",
       "      <td>Global developmental delay: A delay in the ach...</td>\n",
       "      <td>0.4</td>\n",
       "      <td>NaN</td>\n",
       "    </tr>\n",
       "  </tbody>\n",
       "</table>\n",
       "</div>"
      ],
      "text/plain": [
       "      Gene_ID                                               Gene Disease_ID  \\\n",
       "6015       18  MASMLLAQRLACSFQHSYRLLVPGSRHISQAAAKVDVEFDYDGPLM...   C0557874   \n",
       "6016       86  MSGGVYGGDEVGALVFDIGSYTVRAGYAGEDCPKVDFPTAIGMVVE...   C0557874   \n",
       "6017      162  MTDSKYFTTTKKGEIFELKAELNSDKKEKKKEAVKKVIASMTVGKD...   C0557874   \n",
       "6018      318  MALRACGLIIFRRCLIPKVDNNAIEFLLLQASDGIHHWTPPKGHVE...   C0557874   \n",
       "6019      652  MIPGNRMLMVVLLCQVLLGGASHASLIPETGKKKVAEIQGHAGGRR...   C0557874   \n",
       "\n",
       "                                                Disease    Y diseaseClass  \n",
       "6015  Global developmental delay: A delay in the ach...  0.4          NaN  \n",
       "6016  Global developmental delay: A delay in the ach...  0.3          NaN  \n",
       "6017  Global developmental delay: A delay in the ach...  0.3          NaN  \n",
       "6018  Global developmental delay: A delay in the ach...  0.3          NaN  \n",
       "6019  Global developmental delay: A delay in the ach...  0.4          NaN  "
      ]
     },
     "execution_count": 276,
     "metadata": {},
     "output_type": "execute_result"
    }
   ],
   "source": [
    "nan_df.head()"
   ]
  },
  {
   "cell_type": "code",
   "execution_count": 8,
   "id": "4d285c22-d3cc-4e06-8173-f08f10640274",
   "metadata": {},
   "outputs": [],
   "source": [
    "# Find rows where 'diseaseClass' contains both 'C' and 'F'\n",
    "CF_df = merged_df[merged_df['diseaseClass'].str.contains('C', na=False) & merged_df['diseaseClass'].str.contains('F', na=False)]"
   ]
  },
  {
   "cell_type": "code",
   "execution_count": 14,
   "id": "d3ed7b32-a378-4f61-852d-eab4b57b9580",
   "metadata": {},
   "outputs": [
    {
     "data": {
      "image/png": "[encoded data removed]",
      "text/plain": [
       "<Figure size 1080x576 with 1 Axes>"
      ]
     },
     "metadata": {
      "needs_background": "light"
     },
     "output_type": "display_data"
    }
   ],
   "source": [
    "import matplotlib.pyplot as plt\n",
    "# Plot the frequencies and unique Disease_ID counts\n",
    "plt.figure(figsize=(15, 8))\n",
    "\n",
    "# We'll use a colormap to have nice color gradations\n",
    "cmap = plt.get_cmap(\"tab20c\")\n",
    "\n",
    "# Increase global font size\n",
    "plt.rcParams['font.size'] = 10\n",
    "# Compute the frequency of each 'diseaseClass' in CF_df\n",
    "counts = CF_df['diseaseClass'].value_counts()\n",
    "# Select the top 20 diseases\n",
    "top_20_diseases = counts[:20]\n",
    "\n",
    "top_20_diseases.plot(kind='bar')\n",
    "plt.title('Distribution of disease containing both C and F (top 20)')\n",
    "plt.xlabel('ICD-10 Disease Classification', fontsize=10)\n",
    "plt.ylabel('Count', fontsize=10)\n",
    "plt.xticks(rotation=90)\n",
    "plt.show()"
   ]
  },
  {
   "cell_type": "code",
   "execution_count": 283,
   "id": "49f05f54-2c6a-4320-bab5-55e8f8e0c2ff",
   "metadata": {},
   "outputs": [
    {
     "data": {
      "text/plain": [
       "2690"
      ]
     },
     "execution_count": 283,
     "metadata": {},
     "output_type": "execute_result"
    }
   ],
   "source": [
    "len(CF_df)"
   ]
  },
  {
   "cell_type": "code",
   "execution_count": 280,
   "id": "8b684e43-1476-4a4d-84a9-f1b8cb8f0b18",
   "metadata": {},
   "outputs": [
    {
     "data": {
      "text/plain": [
       "52476"
      ]
     },
     "execution_count": 280,
     "metadata": {},
     "output_type": "execute_result"
    }
   ],
   "source": [
    "len(merged_df)"
   ]
  },
  {
   "cell_type": "code",
   "execution_count": 90,
   "id": "671c3f9a-8310-46d8-9c45-ba05621a3235",
   "metadata": {},
   "outputs": [],
   "source": [
    "# 找到 'diseaseClass' 包含 'F' 的所有行\n",
    "C_df = merged_df[merged_df['diseaseClass'].str.contains('C', na=False)]\n",
    "\n",
    "# Save the dataframe to a CSV file\n",
    "C_df.to_csv('C_diseases.csv', index=False)"
   ]
  },
  {
   "cell_type": "code",
   "execution_count": 91,
   "id": "15e2430b-d76e-4074-877f-85024c28aab0",
   "metadata": {},
   "outputs": [
    {
     "data": {
      "text/plain": [
       "87883"
      ]
     },
     "execution_count": 91,
     "metadata": {},
     "output_type": "execute_result"
    }
   ],
   "source": [
    "len(C_df)"
   ]
  },
  {
   "cell_type": "markdown",
   "id": "4df0890c-db23-427f-a65c-6b19ad65f86b",
   "metadata": {},
   "source": [
    "### F01\n",
    "Vascular dementia\n",
    "Vascular dementia is the result of infarction of the brain due to vascular disease, including hypertensive cerebrovascular disease. The infarcts are usually small but cumulative in their effect. Onset is usually in later life.\n",
    "\n",
    "Incl.:\n",
    "arteriosclerotic dementia\n",
    "F01.0\n",
    "Vascular dementia of acute onset\n",
    "Usually develops rapidly after a succession of strokes from cerebrovascular thrombosis, embolism or haemorrhage. In rare cases, a single large infarction may be the cause.\n",
    "\n",
    "F01.1\n",
    "Multi-infarct dementia\n",
    "Gradual in onset, following a number of transient ischaemic episodes which produce an accumulation of infarcts in the cerebral parenchyma.\n",
    "\n",
    "Predominantly cortical dementia\n",
    "F01.2\n",
    "Subcortical vascular dementia\n",
    "Includes cases with a history of hypertension and foci of ischaemic destruction in the deep white matter of the cerebral hemispheres. The cerebral cortex is usually preserved and this contrasts with the clinical picture which may closely resemble that of dementia in Alzheimer disease.\n",
    "\n",
    "F01.3\n",
    "Mixed cortical and subcortical vascular dementia\n",
    "F01.8\n",
    "Other vascular dementia\n",
    "F01.9\n",
    "Vascular dementia, unspecified"
   ]
  },
  {
   "cell_type": "markdown",
   "id": "c843a770-1427-49ef-9776-d31788e91c37",
   "metadata": {},
   "source": [
    "### F03\n",
    "Unspecified dementia\n",
    "Incl.:\n",
    "Presenile:\n",
    "dementia NOS\n",
    "psychosis NOS\n",
    "Primary degenerative dementia NOS\n",
    "\n",
    "Senile:\n",
    "dementia:\n",
    "NOS\n",
    "depressed or paranoid type\n",
    "psychosis NOS\n",
    "Use additional code, if desired, to indicate delirium or acute confusional state superimposed on dementia.\n",
    "\n",
    "Excl.:\n",
    "senility NOS (R54)"
   ]
  },
  {
   "cell_type": "code",
   "execution_count": 248,
   "id": "ef54553b-34aa-4791-8dc0-2afea39562aa",
   "metadata": {},
   "outputs": [],
   "source": [
    "# 找到 'diseaseClass' 包含 'D' 的所有行\n",
    "D_df = merged_df[merged_df['diseaseClass'].str.contains('D', na=False)]"
   ]
  },
  {
   "cell_type": "code",
   "execution_count": 249,
   "id": "d95528eb-bef7-4b9a-a927-6b3e9471f7f5",
   "metadata": {},
   "outputs": [
    {
     "data": {
      "text/plain": [
       "0"
      ]
     },
     "execution_count": 249,
     "metadata": {},
     "output_type": "execute_result"
    }
   ],
   "source": [
    "len(D_df)"
   ]
  },
  {
   "cell_type": "code",
   "execution_count": null,
   "id": "8f482b7a-4a36-4931-8080-964d7766af5b",
   "metadata": {},
   "outputs": [],
   "source": [
    "C_df = merged_df[merged_df['diseaseClass'].str.contains('C', na=False)]"
   ]
  },
  {
   "cell_type": "code",
   "execution_count": 254,
   "id": "743614c5-4454-4b33-a60f-a77f3704b5c7",
   "metadata": {},
   "outputs": [
    {
     "data": {
      "text/plain": [
       "47058"
      ]
     },
     "execution_count": 254,
     "metadata": {},
     "output_type": "execute_result"
    }
   ],
   "source": [
    "len(C_df)"
   ]
  },
  {
   "cell_type": "code",
   "execution_count": 266,
   "id": "1832c72f-6e7a-4709-8de9-f9a0ad025eab",
   "metadata": {},
   "outputs": [],
   "source": [
    "C_df = merged_df[merged_df['diseaseClass'].str.contains('C', na=False)]\n",
    "\n",
    "# Save the dataframe to a CSV file\n",
    "C_df.to_csv('C_diseases.csv', index=False)"
   ]
  },
  {
   "cell_type": "markdown",
   "id": "89921e8d-0211-4fd0-b515-da7ec7392de6",
   "metadata": {},
   "source": [
    "### C04\n",
    "\n",
    "Malignant neoplasm of floor of mouth\n",
    "C04.0\n",
    "\n",
    "Anterior floor of mouth\n",
    "Anterior to the premolar-canine junction\n",
    "\n",
    "C04.1\n",
    "Lateral floor of mouth\n",
    "\n",
    "C04.8\n",
    "Overlapping lesion of floor of mouth\n",
    "\n",
    "C04.9\n",
    "Floor of mouth, unspecified"
   ]
  },
  {
   "cell_type": "code",
   "execution_count": 288,
   "id": "aa0c8fc7-9a44-4887-abd6-9b8f42eae0af",
   "metadata": {},
   "outputs": [],
   "source": [
    "C_df = merged_df[merged_df['diseaseClass'].str.contains('C04', na=False)]\n",
    "\n",
    "# Save the dataframe to a CSV file\n",
    "#C_df.to_csv('C_diseases.csv', index=False)"
   ]
  },
  {
   "cell_type": "code",
   "execution_count": 289,
   "id": "274e4b55-9de7-42e0-8ca1-d66b8c8adb92",
   "metadata": {},
   "outputs": [
    {
     "data": {
      "text/plain": [
       "18922"
      ]
     },
     "execution_count": 289,
     "metadata": {},
     "output_type": "execute_result"
    }
   ],
   "source": [
    "len(C_df)"
   ]
  },
  {
   "cell_type": "code",
   "execution_count": 10,
   "id": "1f4e0157-9bb1-46bf-8c66-20346efdf032",
   "metadata": {},
   "outputs": [
    {
     "data": {
      "image/png": "[encoded data removed]",
      "text/plain": [
       "<Figure size 1080x432 with 1 Axes>"
      ]
     },
     "metadata": {
      "needs_background": "light"
     },
     "output_type": "display_data"
    }
   ],
   "source": [
    "import re\n",
    "from collections import Counter\n",
    "\n",
    "# Define a function to extract all 'C' followed by two digits from a string\n",
    "def extract_disease_classes(disease_class):\n",
    "    if isinstance(disease_class, str):\n",
    "        return re.findall(r'C\\d{2}', disease_class)\n",
    "    return []\n",
    "\n",
    "# Extract all 'C' followed by two digits from each row\n",
    "disease_classes = merged_df['diseaseClass'].apply(extract_disease_classes)\n",
    "\n",
    "# Flatten the list of lists and create a Counter object\n",
    "counts = Counter([item for sublist in disease_classes for item in sublist])\n",
    "\n",
    "# Convert the Counter object to a pandas Series\n",
    "counts_series = pd.Series(counts).sort_index()\n",
    "\n",
    "# Plot the frequencies\n",
    "plt.figure(figsize=(15, 6))\n",
    "counts_series.plot(kind='bar')\n",
    "plt.title('Distribution of Neoplasms')\n",
    "plt.xlabel('ICD-10 Disease Classification')\n",
    "plt.ylabel('Frequency')\n",
    "plt.xticks(rotation=360)\n",
    "plt.show()"
   ]
  },
  {
   "cell_type": "markdown",
   "id": "81d32c05-d421-457e-9b19-3ef26e9a865f",
   "metadata": {},
   "source": [
    "## Certain infectious and parasitic diseases(A00-B99)"
   ]
  },
  {
   "cell_type": "code",
   "execution_count": 97,
   "id": "bfc1849d-91a8-4104-ba3a-e45946ff5459",
   "metadata": {},
   "outputs": [],
   "source": [
    "# Define the range of letters and numbers\n",
    "letters_numbers = [letter + str(i).zfill(2) for letter in ['A', 'B'] for i in range(100)] \n",
    "letters_numbers = letters_numbers[:-51]  # Remove 'D49' to 'D99'\n",
    "\n",
    "# Filter the dataframe\n",
    "one = merged_df[merged_df['diseaseClass'].apply(lambda x: x in letters_numbers if isinstance(x, str) else False)]\n",
    "\n",
    "# Save the dataframe to a CSV file\n",
    "#filtered_df.to_csv('A00_B99_diseases.csv', index=False)\n"
   ]
  },
  {
   "cell_type": "code",
   "execution_count": 98,
   "id": "b21353f5-2271-4471-b564-b7d1d4a356bb",
   "metadata": {},
   "outputs": [
    {
     "data": {
      "text/plain": [
       "0"
      ]
     },
     "execution_count": 98,
     "metadata": {},
     "output_type": "execute_result"
    }
   ],
   "source": [
    "len(one)"
   ]
  },
  {
   "cell_type": "markdown",
   "id": "9e12d1b9-f729-4c77-aeb3-84a9ce4da070",
   "metadata": {},
   "source": [
    "## Neoplasms(C00-D48)"
   ]
  },
  {
   "cell_type": "code",
   "execution_count": 229,
   "id": "a666ed82-ac2b-425b-a532-740b30d95a9f",
   "metadata": {},
   "outputs": [],
   "source": [
    "# Define the range of letters and numbers\n",
    "letters_numbers = [letter + str(i).zfill(2) for letter in ['C', 'D'] for i in range(100)] \n",
    "letters_numbers = letters_numbers[:-51]  # Remove 'D49' to 'D99'\n",
    "\n",
    "# Filter the dataframe\n",
    "two = merged_df[merged_df['diseaseClass'].apply(lambda x: x in letters_numbers if isinstance(x, str) else False)]\n",
    "\n",
    "# Save the dataframe to a CSV file\n",
    "two.to_csv('C00_D48_diseases.csv', index=False)"
   ]
  },
  {
   "cell_type": "code",
   "execution_count": 100,
   "id": "8a0e864b-3ac3-451b-bf85-25b2839879bc",
   "metadata": {},
   "outputs": [
    {
     "data": {
      "text/plain": [
       "15066"
      ]
     },
     "execution_count": 100,
     "metadata": {},
     "output_type": "execute_result"
    }
   ],
   "source": [
    "len(two)"
   ]
  },
  {
   "cell_type": "code",
   "execution_count": 101,
   "id": "684e1c0f-822c-40e8-aca1-f5365a31ebae",
   "metadata": {},
   "outputs": [
    {
     "data": {
      "text/html": [
       "<div>\n",
       "<style scoped>\n",
       "    .dataframe tbody tr th:only-of-type {\n",
       "        vertical-align: middle;\n",
       "    }\n",
       "\n",
       "    .dataframe tbody tr th {\n",
       "        vertical-align: top;\n",
       "    }\n",
       "\n",
       "    .dataframe thead th {\n",
       "        text-align: right;\n",
       "    }\n",
       "</style>\n",
       "<table border=\"1\" class=\"dataframe\">\n",
       "  <thead>\n",
       "    <tr style=\"text-align: right;\">\n",
       "      <th></th>\n",
       "      <th>Gene_ID</th>\n",
       "      <th>Gene</th>\n",
       "      <th>Disease_ID</th>\n",
       "      <th>Disease</th>\n",
       "      <th>Y</th>\n",
       "      <th>diseaseClass</th>\n",
       "    </tr>\n",
       "  </thead>\n",
       "  <tbody>\n",
       "    <tr>\n",
       "      <th>1832</th>\n",
       "      <td>2</td>\n",
       "      <td>MGKNKLLHPSLVLLLLVLLPTDASVSGKPQYMVLVPSLLHTETTEK...</td>\n",
       "      <td>C0024115</td>\n",
       "      <td>Lung diseases: A non-neoplastic or neoplastic ...</td>\n",
       "      <td>0.32</td>\n",
       "      <td>C08</td>\n",
       "    </tr>\n",
       "    <tr>\n",
       "      <th>1833</th>\n",
       "      <td>151</td>\n",
       "      <td>MDHQDPYSVQATAAIAAAITFLILFTIFGNALVILAVLTSRSLRAP...</td>\n",
       "      <td>C0024115</td>\n",
       "      <td>Lung diseases: A non-neoplastic or neoplastic ...</td>\n",
       "      <td>0.32</td>\n",
       "      <td>C08</td>\n",
       "    </tr>\n",
       "    <tr>\n",
       "      <th>1834</th>\n",
       "      <td>976</td>\n",
       "      <td>MGGRVFLAFCVWLTLPGAETQDSRGCARWCPQNSSCVNATACRCNP...</td>\n",
       "      <td>C0024115</td>\n",
       "      <td>Lung diseases: A non-neoplastic or neoplastic ...</td>\n",
       "      <td>0.30</td>\n",
       "      <td>C08</td>\n",
       "    </tr>\n",
       "  </tbody>\n",
       "</table>\n",
       "</div>"
      ],
      "text/plain": [
       "      Gene_ID                                               Gene Disease_ID  \\\n",
       "1832        2  MGKNKLLHPSLVLLLLVLLPTDASVSGKPQYMVLVPSLLHTETTEK...   C0024115   \n",
       "1833      151  MDHQDPYSVQATAAIAAAITFLILFTIFGNALVILAVLTSRSLRAP...   C0024115   \n",
       "1834      976  MGGRVFLAFCVWLTLPGAETQDSRGCARWCPQNSSCVNATACRCNP...   C0024115   \n",
       "\n",
       "                                                Disease     Y diseaseClass  \n",
       "1832  Lung diseases: A non-neoplastic or neoplastic ...  0.32          C08  \n",
       "1833  Lung diseases: A non-neoplastic or neoplastic ...  0.32          C08  \n",
       "1834  Lung diseases: A non-neoplastic or neoplastic ...  0.30          C08  "
      ]
     },
     "execution_count": 101,
     "metadata": {},
     "output_type": "execute_result"
    }
   ],
   "source": [
    "two.head(3)"
   ]
  },
  {
   "cell_type": "markdown",
   "id": "3499a6d6-c725-447f-9f82-b3cb83497825",
   "metadata": {},
   "source": [
    "### Diseases of the blood and blood-forming organs and certain disorders involving the immune mechanism\n",
    "(D50-D89)"
   ]
  },
  {
   "cell_type": "code",
   "execution_count": 102,
   "id": "477cdc68-465b-4ac0-a8aa-25f839cae1d8",
   "metadata": {},
   "outputs": [],
   "source": [
    "# Define the range of letters and numbers\n",
    "letters_numbers = ['D' + str(i).zfill(2) for i in range(50, 90)]  # Generate codes from 'D50' to 'D89'\n",
    "\n",
    "# Filter the dataframe\n",
    "three = merged_df[merged_df['diseaseClass'].apply(lambda x: x in letters_numbers if isinstance(x, str) else False)]\n",
    "\n",
    "# Save the dataframe to a CSV file\n",
    "# filtered_df.to_csv('D50_D89_diseases.csv', index=False)"
   ]
  },
  {
   "cell_type": "code",
   "execution_count": 103,
   "id": "4043467f-df35-4e32-8635-cacfda794686",
   "metadata": {},
   "outputs": [
    {
     "data": {
      "text/plain": [
       "0"
      ]
     },
     "execution_count": 103,
     "metadata": {},
     "output_type": "execute_result"
    }
   ],
   "source": [
    "len(three)"
   ]
  },
  {
   "cell_type": "markdown",
   "id": "809230b5-56d2-4e4b-9554-20bd8f34ca46",
   "metadata": {},
   "source": [
    "### Endocrine, nutritional and metabolic diseases\n",
    "(E00-E90)"
   ]
  },
  {
   "cell_type": "code",
   "execution_count": 104,
   "id": "8e411f94-e2b3-412b-85ce-a035bd328494",
   "metadata": {},
   "outputs": [],
   "source": [
    "# Define the range of letters and numbers\n",
    "letters_numbers = ['E' + str(i).zfill(2) for i in range(91)]  # Generate codes from 'E00' to 'E90'\n",
    "\n",
    "# Filter the dataframe\n",
    "four = merged_df[merged_df['diseaseClass'].apply(lambda x: x in letters_numbers if isinstance(x, str) else False)]\n",
    "\n",
    "# Save the dataframe to a CSV file\n",
    "# filtered_df.to_csv('E00_E90_diseases.csv', index=False)\n"
   ]
  },
  {
   "cell_type": "code",
   "execution_count": 105,
   "id": "11295f3c-a585-4305-b2d0-3adcac29d5d3",
   "metadata": {},
   "outputs": [
    {
     "data": {
      "text/plain": [
       "0"
      ]
     },
     "execution_count": 105,
     "metadata": {},
     "output_type": "execute_result"
    }
   ],
   "source": [
    "len(four)"
   ]
  },
  {
   "cell_type": "markdown",
   "id": "f746557e-ec08-4347-b147-09cff28d8e72",
   "metadata": {},
   "source": [
    "### Mental and behavioural disorders\n",
    "(F00-F99)"
   ]
  },
  {
   "cell_type": "code",
   "execution_count": 230,
   "id": "ef35729c-2afe-4302-9a7c-0b5d1cadd1c4",
   "metadata": {},
   "outputs": [],
   "source": [
    "# Define the range of letters and numbers\n",
    "letters_numbers = ['F' + str(i).zfill(2) for i in range(100)]  \n",
    "\n",
    "# Filter the dataframe\n",
    "five = merged_df[merged_df['diseaseClass'].apply(lambda x: x in letters_numbers if isinstance(x, str) else False)]\n",
    "\n",
    "# Save the dataframe to a CSV file\n",
    "two.to_csv('F00_F99_diseases.csv', index=False)"
   ]
  },
  {
   "cell_type": "code",
   "execution_count": 231,
   "id": "be476cc3-8c57-4d24-814f-047fc506f4d6",
   "metadata": {},
   "outputs": [
    {
     "data": {
      "text/plain": [
       "3467"
      ]
     },
     "execution_count": 231,
     "metadata": {},
     "output_type": "execute_result"
    }
   ],
   "source": [
    "len(five)"
   ]
  },
  {
   "cell_type": "markdown",
   "id": "55d6eac2-cc0d-4f00-b038-63763b4dea61",
   "metadata": {},
   "source": [
    "### Diseases of the nervous system\n",
    "(G00-G99)"
   ]
  },
  {
   "cell_type": "code",
   "execution_count": 108,
   "id": "6e061af5-29f7-439a-8633-56996bcaadb4",
   "metadata": {},
   "outputs": [],
   "source": [
    "# Define the range of letters and numbers\n",
    "letters_numbers = ['G' + str(i).zfill(2) for i in range(100)]  \n",
    "\n",
    "# Filter the dataframe\n",
    "six = merged_df[merged_df['diseaseClass'].apply(lambda x: x in letters_numbers if isinstance(x, str) else False)]"
   ]
  },
  {
   "cell_type": "code",
   "execution_count": 109,
   "id": "ddc1f024-9b75-4e20-9e29-a49a19cb47b1",
   "metadata": {},
   "outputs": [
    {
     "data": {
      "text/plain": [
       "0"
      ]
     },
     "execution_count": 109,
     "metadata": {},
     "output_type": "execute_result"
    }
   ],
   "source": [
    "len(six)"
   ]
  },
  {
   "cell_type": "markdown",
   "id": "4eff30f3-7e75-45cb-bed9-2f3bbc937339",
   "metadata": {},
   "source": [
    "### Diseases of the eye and adnexa\n",
    "(H00-H59)"
   ]
  },
  {
   "cell_type": "code",
   "execution_count": 110,
   "id": "d6d34335-617f-4e42-90fd-6f6ea7a27b2b",
   "metadata": {},
   "outputs": [],
   "source": [
    "# Define the range of letters and numbers\n",
    "letters_numbers = ['H' + str(i).zfill(2) for i in range(60)]  \n",
    "\n",
    "# Filter the dataframe\n",
    "seven = merged_df[merged_df['diseaseClass'].apply(lambda x: x in letters_numbers if isinstance(x, str) else False)]"
   ]
  },
  {
   "cell_type": "code",
   "execution_count": 111,
   "id": "5c8cb0db-5e45-4f53-8772-f4798f78f5bc",
   "metadata": {},
   "outputs": [
    {
     "data": {
      "text/plain": [
       "0"
      ]
     },
     "execution_count": 111,
     "metadata": {},
     "output_type": "execute_result"
    }
   ],
   "source": [
    "len(seven)"
   ]
  },
  {
   "cell_type": "markdown",
   "id": "8599947e-8783-4bd6-affe-438419eadb45",
   "metadata": {},
   "source": [
    "### Diseases of the ear and mastoid process\n",
    "(H60-H95)"
   ]
  },
  {
   "cell_type": "code",
   "execution_count": 112,
   "id": "61d47f50-c727-42b7-a240-2cdb932b04b6",
   "metadata": {},
   "outputs": [],
   "source": [
    "# Define the range of letters and numbers\n",
    "letters_numbers = ['H' + str(i).zfill(2) for i in range(60, 96)]  \n",
    "# Filter the dataframe\n",
    "eight = merged_df[merged_df['diseaseClass'].apply(lambda x: x in letters_numbers if isinstance(x, str) else False)]"
   ]
  },
  {
   "cell_type": "code",
   "execution_count": 113,
   "id": "aebabe47-2d8c-4789-a0b0-e965634afa22",
   "metadata": {},
   "outputs": [
    {
     "data": {
      "text/plain": [
       "0"
      ]
     },
     "execution_count": 113,
     "metadata": {},
     "output_type": "execute_result"
    }
   ],
   "source": [
    "len(eight)"
   ]
  },
  {
   "cell_type": "markdown",
   "id": "d5e5c746-608e-4919-9eeb-e2a125ed61b9",
   "metadata": {},
   "source": [
    "### Diseases of the circulatory system\n",
    "(I00-I99)"
   ]
  },
  {
   "cell_type": "code",
   "execution_count": 114,
   "id": "aebdc6fc-c72b-4787-84cb-2dcb6239e8c8",
   "metadata": {},
   "outputs": [],
   "source": [
    "# Define the range of letters and numbers\n",
    "letters_numbers = ['I' + str(i).zfill(2) for i in range(100)]  \n",
    "\n",
    "# Filter the dataframe\n",
    "nine = merged_df[merged_df['diseaseClass'].apply(lambda x: x in letters_numbers if isinstance(x, str) else False)]"
   ]
  },
  {
   "cell_type": "code",
   "execution_count": 115,
   "id": "d231eda1-64e9-4c18-bdf3-b9b2082646e9",
   "metadata": {},
   "outputs": [
    {
     "data": {
      "text/plain": [
       "0"
      ]
     },
     "execution_count": 115,
     "metadata": {},
     "output_type": "execute_result"
    }
   ],
   "source": [
    "len(nine)"
   ]
  },
  {
   "cell_type": "markdown",
   "id": "cc82bbab-2372-456c-8287-7e29263ab20f",
   "metadata": {},
   "source": [
    "### Diseases of the respiratory system\n",
    "(J00-J99)"
   ]
  },
  {
   "cell_type": "code",
   "execution_count": 116,
   "id": "1dc638f2-54ec-4833-a12a-51a180883097",
   "metadata": {},
   "outputs": [],
   "source": [
    "# Define the range of letters and numbers\n",
    "letters_numbers = ['J' + str(i).zfill(2) for i in range(100)]  \n",
    "\n",
    "# Filter the dataframe\n",
    "ten = merged_df[merged_df['diseaseClass'].apply(lambda x: x in letters_numbers if isinstance(x, str) else False)]"
   ]
  },
  {
   "cell_type": "code",
   "execution_count": 117,
   "id": "441df9f7-0a07-42d3-bcbf-106292367083",
   "metadata": {},
   "outputs": [
    {
     "data": {
      "text/plain": [
       "0"
      ]
     },
     "execution_count": 117,
     "metadata": {},
     "output_type": "execute_result"
    }
   ],
   "source": [
    "len(ten)"
   ]
  },
  {
   "cell_type": "markdown",
   "id": "32998a66-8fc4-409d-b488-3b572d1c0479",
   "metadata": {},
   "source": [
    "### Diseases of the digestive system\n",
    "(K00-K93)"
   ]
  },
  {
   "cell_type": "code",
   "execution_count": 118,
   "id": "61d2f0a4-59ce-47e9-8f97-c23e94fb6b43",
   "metadata": {},
   "outputs": [],
   "source": [
    "# Define the range of letters and numbers\n",
    "letters_numbers = ['J' + str(i).zfill(2) for i in range(94)]  \n",
    "\n",
    "# Filter the dataframe\n",
    "eleven = merged_df[merged_df['diseaseClass'].apply(lambda x: x in letters_numbers if isinstance(x, str) else False)]"
   ]
  },
  {
   "cell_type": "code",
   "execution_count": 119,
   "id": "90c038c0-c702-4cec-b974-5b761e32786b",
   "metadata": {},
   "outputs": [
    {
     "data": {
      "text/plain": [
       "0"
      ]
     },
     "execution_count": 119,
     "metadata": {},
     "output_type": "execute_result"
    }
   ],
   "source": [
    "len(eleven)"
   ]
  },
  {
   "cell_type": "markdown",
   "id": "d7648b37-d292-47a7-a693-7957a56ac630",
   "metadata": {},
   "source": [
    "### Diseases of the skin and subcutaneous tissue\n",
    "(L00-L99)"
   ]
  },
  {
   "cell_type": "code",
   "execution_count": 120,
   "id": "81ef1dd8-9f7f-4aee-a9da-72aa061892f0",
   "metadata": {},
   "outputs": [],
   "source": [
    "# Define the range of letters and numbers\n",
    "letters_numbers = ['L' + str(i).zfill(2) for i in range(100)]  \n",
    "\n",
    "# Filter the dataframe\n",
    "twelve = merged_df[merged_df['diseaseClass'].apply(lambda x: x in letters_numbers if isinstance(x, str) else False)]"
   ]
  },
  {
   "cell_type": "code",
   "execution_count": 121,
   "id": "84c14716-04ca-4f79-8d3a-77a56ad768da",
   "metadata": {},
   "outputs": [
    {
     "data": {
      "text/plain": [
       "0"
      ]
     },
     "execution_count": 121,
     "metadata": {},
     "output_type": "execute_result"
    }
   ],
   "source": [
    "len(twelve)"
   ]
  },
  {
   "cell_type": "markdown",
   "id": "8e7871d3-a952-4c5b-b504-029874d22e1f",
   "metadata": {},
   "source": [
    "### Diseases of the musculoskeletal system and connective tissue\n",
    "(M00-M99)"
   ]
  },
  {
   "cell_type": "code",
   "execution_count": 122,
   "id": "9efa5707-509e-4417-8624-74959b60b396",
   "metadata": {},
   "outputs": [],
   "source": [
    "# Define the range of letters and numbers\n",
    "letters_numbers = ['M' + str(i).zfill(2) for i in range(100)]  \n",
    "\n",
    "# Filter the dataframe\n",
    "thirteen = merged_df[merged_df['diseaseClass'].apply(lambda x: x in letters_numbers if isinstance(x, str) else False)]"
   ]
  },
  {
   "cell_type": "code",
   "execution_count": 123,
   "id": "483fdb00-3b55-408d-9a74-6c7b7adb68a2",
   "metadata": {},
   "outputs": [
    {
     "data": {
      "text/plain": [
       "0"
      ]
     },
     "execution_count": 123,
     "metadata": {},
     "output_type": "execute_result"
    }
   ],
   "source": [
    "len(thirteen)"
   ]
  },
  {
   "cell_type": "markdown",
   "id": "705906d3-f65b-4f24-8d06-00bad5495251",
   "metadata": {},
   "source": [
    "### Diseases of the genitourinary system\n",
    "(N00-N99)"
   ]
  },
  {
   "cell_type": "code",
   "execution_count": 124,
   "id": "f98da88c-2dc2-4a6a-8446-0d04ea0c9a81",
   "metadata": {},
   "outputs": [],
   "source": [
    "# Define the range of letters and numbers\n",
    "letters_numbers = ['N' + str(i).zfill(2) for i in range(100)]  \n",
    "\n",
    "# Filter the dataframe\n",
    "fourteen = merged_df[merged_df['diseaseClass'].apply(lambda x: x in letters_numbers if isinstance(x, str) else False)]"
   ]
  },
  {
   "cell_type": "code",
   "execution_count": 125,
   "id": "5a9ed2b8-c678-4ece-89c5-672d28b310be",
   "metadata": {},
   "outputs": [
    {
     "data": {
      "text/plain": [
       "0"
      ]
     },
     "execution_count": 125,
     "metadata": {},
     "output_type": "execute_result"
    }
   ],
   "source": [
    "len(fourteen)"
   ]
  },
  {
   "cell_type": "markdown",
   "id": "f2869f28-ae08-4456-95a1-d871f369ca5a",
   "metadata": {},
   "source": [
    "### Pregnancy, childbirth and the puerperium\n",
    "(O00-O99)"
   ]
  },
  {
   "cell_type": "code",
   "execution_count": 126,
   "id": "9dedd790-02fa-47ae-9eab-daa36aacd47a",
   "metadata": {},
   "outputs": [],
   "source": [
    "# Define the range of letters and numbers\n",
    "letters_numbers = ['O' + str(i).zfill(2) for i in range(100)]  \n",
    "\n",
    "# Filter the dataframe\n",
    "fiveteen = merged_df[merged_df['diseaseClass'].apply(lambda x: x in letters_numbers if isinstance(x, str) else False)]"
   ]
  },
  {
   "cell_type": "code",
   "execution_count": 127,
   "id": "61c5fffa-be76-4d0f-b7ff-81a2e9d4f68c",
   "metadata": {},
   "outputs": [
    {
     "data": {
      "text/plain": [
       "0"
      ]
     },
     "execution_count": 127,
     "metadata": {},
     "output_type": "execute_result"
    }
   ],
   "source": [
    "len(fiveteen)"
   ]
  },
  {
   "cell_type": "markdown",
   "id": "42b83de0-0b8e-4dfe-981c-599e95981b70",
   "metadata": {},
   "source": [
    "### Certain conditions originating in the perinatal period\n",
    "(P00-P96)"
   ]
  },
  {
   "cell_type": "code",
   "execution_count": 128,
   "id": "31203426-fdc2-4956-bb1f-b728e951adab",
   "metadata": {},
   "outputs": [],
   "source": [
    "# Define the range of letters and numbers\n",
    "letters_numbers = ['P' + str(i).zfill(2) for i in range(100)]  \n",
    "\n",
    "# Filter the dataframe\n",
    "sixteen = merged_df[merged_df['diseaseClass'].apply(lambda x: x in letters_numbers if isinstance(x, str) else False)]"
   ]
  },
  {
   "cell_type": "code",
   "execution_count": 129,
   "id": "99167bcf-78a6-45f8-9f30-884ebed113fa",
   "metadata": {},
   "outputs": [
    {
     "data": {
      "text/plain": [
       "0"
      ]
     },
     "execution_count": 129,
     "metadata": {},
     "output_type": "execute_result"
    }
   ],
   "source": [
    "len(sixteen)"
   ]
  },
  {
   "cell_type": "markdown",
   "id": "f58f4f1d-41a6-4c1d-89ec-34119441fce5",
   "metadata": {},
   "source": [
    "### Congenital malformations, deformations and chromosomal abnormalities\n",
    "(Q00-Q99)"
   ]
  },
  {
   "cell_type": "code",
   "execution_count": 130,
   "id": "d3e210ca-c614-4f8c-ae52-d7ea8d57789a",
   "metadata": {},
   "outputs": [],
   "source": [
    "# Define the range of letters and numbers\n",
    "letters_numbers = ['Q' + str(i).zfill(2) for i in range(100)]  \n",
    "\n",
    "# Filter the dataframe\n",
    "seventeen = merged_df[merged_df['diseaseClass'].apply(lambda x: x in letters_numbers if isinstance(x, str) else False)]"
   ]
  },
  {
   "cell_type": "code",
   "execution_count": 131,
   "id": "24fa884b-ee81-456d-b448-885db1e9cec0",
   "metadata": {},
   "outputs": [
    {
     "data": {
      "text/plain": [
       "0"
      ]
     },
     "execution_count": 131,
     "metadata": {},
     "output_type": "execute_result"
    }
   ],
   "source": [
    "len(seventeen)"
   ]
  },
  {
   "cell_type": "markdown",
   "id": "44bb066a-f084-474c-8ea3-3ee3bc4f6488",
   "metadata": {},
   "source": [
    "### Symptoms, signs and abnormal clinical and laboratory findings, not elsewhere classified\n",
    "(R00-R99)"
   ]
  },
  {
   "cell_type": "code",
   "execution_count": 132,
   "id": "18d9cc38-09b7-40f4-900e-e1c36f8f4434",
   "metadata": {},
   "outputs": [],
   "source": [
    "# Define the range of letters and numbers\n",
    "letters_numbers = ['R' + str(i).zfill(2) for i in range(100)]  \n",
    "\n",
    "# Filter the dataframe\n",
    "eighteen = merged_df[merged_df['diseaseClass'].apply(lambda x: x in letters_numbers if isinstance(x, str) else False)]"
   ]
  },
  {
   "cell_type": "code",
   "execution_count": 133,
   "id": "ab71af36-d0d9-44fc-b51f-c997a65da3d7",
   "metadata": {},
   "outputs": [
    {
     "data": {
      "text/plain": [
       "0"
      ]
     },
     "execution_count": 133,
     "metadata": {},
     "output_type": "execute_result"
    }
   ],
   "source": [
    "len(eighteen)"
   ]
  },
  {
   "cell_type": "markdown",
   "id": "c73c1b47-174b-4eaa-836b-e9cded6a5732",
   "metadata": {},
   "source": [
    "### Injury, poisoning and certain other consequences of external causes\n",
    "(S00-T98)"
   ]
  },
  {
   "cell_type": "code",
   "execution_count": 134,
   "id": "ae80ac24-b347-449a-bfe8-f897640c65d3",
   "metadata": {},
   "outputs": [],
   "source": [
    "# Define the range of letters and numbers\n",
    "letters_numbers = [letter + str(i).zfill(2) for letter in ['S', 'T'] for i in range(100)] \n",
    "\n",
    "# Filter the dataframe\n",
    "nineteen = merged_df[merged_df['diseaseClass'].apply(lambda x: x in letters_numbers if isinstance(x, str) else False)]"
   ]
  },
  {
   "cell_type": "code",
   "execution_count": 135,
   "id": "88ce65dc-1026-4f73-b8c2-b8e14105f8f2",
   "metadata": {},
   "outputs": [
    {
     "data": {
      "text/plain": [
       "0"
      ]
     },
     "execution_count": 135,
     "metadata": {},
     "output_type": "execute_result"
    }
   ],
   "source": [
    "len(nineteen)"
   ]
  },
  {
   "cell_type": "markdown",
   "id": "b51b86fc-e924-4d96-b59d-e4d10f5c6d24",
   "metadata": {},
   "source": [
    "### External causes of morbidity and mortality\n",
    "(V01-Y98)"
   ]
  },
  {
   "cell_type": "code",
   "execution_count": 136,
   "id": "e5d7c967-f9a9-44d1-89fe-107e96b85d97",
   "metadata": {},
   "outputs": [],
   "source": [
    "# Define the range of letters and numbers\n",
    "letters_numbers = [letter + str(i).zfill(2) for letter in ['V', 'Y'] for i in range(100)] \n",
    "\n",
    "# Filter the dataframe\n",
    "twenty = merged_df[merged_df['diseaseClass'].apply(lambda x: x in letters_numbers if isinstance(x, str) else False)]"
   ]
  },
  {
   "cell_type": "code",
   "execution_count": 137,
   "id": "0c60c6d1-9136-4244-998d-c619f9cbca6d",
   "metadata": {},
   "outputs": [
    {
     "data": {
      "text/plain": [
       "0"
      ]
     },
     "execution_count": 137,
     "metadata": {},
     "output_type": "execute_result"
    }
   ],
   "source": [
    "len(twenty)"
   ]
  },
  {
   "cell_type": "markdown",
   "id": "212a768f-0a47-447a-b3bb-da1a94ba02c4",
   "metadata": {},
   "source": [
    "### Factors influencing health status and contact with health services\n",
    "(Z00-Z99)"
   ]
  },
  {
   "cell_type": "code",
   "execution_count": 138,
   "id": "ff4f719e-3256-4d7f-9d79-9bbaabf7af7f",
   "metadata": {},
   "outputs": [],
   "source": [
    "# Define the range of letters and numbers\n",
    "letters_numbers = ['Z' + str(i).zfill(2) for i in range(100)]  \n",
    "\n",
    "# Filter the dataframe\n",
    "twenty_one = merged_df[merged_df['diseaseClass'].apply(lambda x: x in letters_numbers if isinstance(x, str) else False)]"
   ]
  },
  {
   "cell_type": "code",
   "execution_count": 139,
   "id": "2f267af3-f189-4e40-9cd5-5a666dd77009",
   "metadata": {},
   "outputs": [
    {
     "data": {
      "text/plain": [
       "0"
      ]
     },
     "execution_count": 139,
     "metadata": {},
     "output_type": "execute_result"
    }
   ],
   "source": [
    "len(twenty_one)"
   ]
  },
  {
   "cell_type": "markdown",
   "id": "c5989089-0852-4df9-a081-d0b58150a9ad",
   "metadata": {},
   "source": [
    "### Codes for special purposes\n",
    "(U00-U85)"
   ]
  },
  {
   "cell_type": "code",
   "execution_count": 140,
   "id": "538139eb-bf81-4548-af4d-cc6fff8327dc",
   "metadata": {},
   "outputs": [],
   "source": [
    "# Define the range of letters and numbers\n",
    "letters_numbers = ['U' + str(i).zfill(2) for i in range(100)]  \n",
    "\n",
    "# Filter the dataframe\n",
    "twenty_two = merged_df[merged_df['diseaseClass'].apply(lambda x: x in letters_numbers if isinstance(x, str) else False)]"
   ]
  },
  {
   "cell_type": "code",
   "execution_count": 141,
   "id": "1f66118e-9335-4dd2-b324-03f131c24bbf",
   "metadata": {},
   "outputs": [
    {
     "data": {
      "text/plain": [
       "0"
      ]
     },
     "execution_count": 141,
     "metadata": {},
     "output_type": "execute_result"
    }
   ],
   "source": [
    "len(twenty_two)"
   ]
  },
  {
   "cell_type": "markdown",
   "id": "3406771e-db74-4ad1-946d-e84661139914",
   "metadata": {},
   "source": [
    "### Load all disgenet GDA data\n",
    "> all_gene_disease_associations.tsv can be obtained from https://www.disgenet.org/downloads"
   ]
  },
  {
   "cell_type": "code",
   "execution_count": 27,
   "id": "4d2611dc-9e3e-4666-a1e8-7314683d7f13",
   "metadata": {},
   "outputs": [
    {
     "data": {
      "text/html": [
       "<div>\n",
       "<style scoped>\n",
       "    .dataframe tbody tr th:only-of-type {\n",
       "        vertical-align: middle;\n",
       "    }\n",
       "\n",
       "    .dataframe tbody tr th {\n",
       "        vertical-align: top;\n",
       "    }\n",
       "\n",
       "    .dataframe thead th {\n",
       "        text-align: right;\n",
       "    }\n",
       "</style>\n",
       "<table border=\"1\" class=\"dataframe\">\n",
       "  <thead>\n",
       "    <tr style=\"text-align: right;\">\n",
       "      <th></th>\n",
       "      <th>geneId</th>\n",
       "      <th>geneSymbol</th>\n",
       "      <th>DSI</th>\n",
       "      <th>DPI</th>\n",
       "      <th>PLI</th>\n",
       "      <th>protein_class_name</th>\n",
       "      <th>protein_class</th>\n",
       "      <th>NofDiseases</th>\n",
       "      <th>NofPmids</th>\n",
       "      <th>diseaseId</th>\n",
       "      <th>diseaseName</th>\n",
       "      <th>diseaseType</th>\n",
       "      <th>diseaseClass</th>\n",
       "      <th>diseaseSemanticType</th>\n",
       "      <th>NofGenes</th>\n",
       "      <th>NofPmids.1</th>\n",
       "    </tr>\n",
       "  </thead>\n",
       "  <tbody>\n",
       "    <tr>\n",
       "      <th>0</th>\n",
       "      <td>1.0</td>\n",
       "      <td>A1BG</td>\n",
       "      <td>0.700</td>\n",
       "      <td>0.538</td>\n",
       "      <td>4.991700e-09</td>\n",
       "      <td>Receptor</td>\n",
       "      <td>DTO_05007575</td>\n",
       "      <td>27.0</td>\n",
       "      <td>20.0</td>\n",
       "      <td>C0000727</td>\n",
       "      <td>Abdomen, Acute</td>\n",
       "      <td>phenotype</td>\n",
       "      <td>C23</td>\n",
       "      <td>Sign or Symptom</td>\n",
       "      <td>2</td>\n",
       "      <td>2</td>\n",
       "    </tr>\n",
       "    <tr>\n",
       "      <th>1</th>\n",
       "      <td>2.0</td>\n",
       "      <td>A2M</td>\n",
       "      <td>0.529</td>\n",
       "      <td>0.769</td>\n",
       "      <td>4.522900e-11</td>\n",
       "      <td>Enzyme modulator</td>\n",
       "      <td>DTO_05007584</td>\n",
       "      <td>147.0</td>\n",
       "      <td>145.0</td>\n",
       "      <td>C0000729</td>\n",
       "      <td>Abdominal Cramps</td>\n",
       "      <td>phenotype</td>\n",
       "      <td>C16</td>\n",
       "      <td>Sign or Symptom</td>\n",
       "      <td>1</td>\n",
       "      <td>1</td>\n",
       "    </tr>\n",
       "    <tr>\n",
       "      <th>2</th>\n",
       "      <td>3.0</td>\n",
       "      <td>A2MP1</td>\n",
       "      <td>NaN</td>\n",
       "      <td>NaN</td>\n",
       "      <td>NaN</td>\n",
       "      <td>NaN</td>\n",
       "      <td>NaN</td>\n",
       "      <td>1.0</td>\n",
       "      <td>1.0</td>\n",
       "      <td>C0000731</td>\n",
       "      <td>Abdomen distended</td>\n",
       "      <td>phenotype</td>\n",
       "      <td>C06</td>\n",
       "      <td>Finding</td>\n",
       "      <td>103</td>\n",
       "      <td>0</td>\n",
       "    </tr>\n",
       "    <tr>\n",
       "      <th>3</th>\n",
       "      <td>9.0</td>\n",
       "      <td>NAT1</td>\n",
       "      <td>0.536</td>\n",
       "      <td>0.846</td>\n",
       "      <td>1.929400e-14</td>\n",
       "      <td>Enzyme</td>\n",
       "      <td>DTO_05007624</td>\n",
       "      <td>133.0</td>\n",
       "      <td>184.0</td>\n",
       "      <td>C0000734</td>\n",
       "      <td>Abdominal mass</td>\n",
       "      <td>phenotype</td>\n",
       "      <td>C06</td>\n",
       "      <td>Finding</td>\n",
       "      <td>2</td>\n",
       "      <td>0</td>\n",
       "    </tr>\n",
       "    <tr>\n",
       "      <th>4</th>\n",
       "      <td>10.0</td>\n",
       "      <td>NAT2</td>\n",
       "      <td>0.451</td>\n",
       "      <td>0.885</td>\n",
       "      <td>3.274400e-06</td>\n",
       "      <td>Enzyme</td>\n",
       "      <td>DTO_05007624</td>\n",
       "      <td>311.0</td>\n",
       "      <td>627.0</td>\n",
       "      <td>C0000735</td>\n",
       "      <td>Abdominal Neoplasms</td>\n",
       "      <td>group</td>\n",
       "      <td>C04</td>\n",
       "      <td>Neoplastic Process</td>\n",
       "      <td>13</td>\n",
       "      <td>13</td>\n",
       "    </tr>\n",
       "  </tbody>\n",
       "</table>\n",
       "</div>"
      ],
      "text/plain": [
       "   geneId geneSymbol    DSI    DPI           PLI protein_class_name  \\\n",
       "0     1.0       A1BG  0.700  0.538  4.991700e-09           Receptor   \n",
       "1     2.0        A2M  0.529  0.769  4.522900e-11   Enzyme modulator   \n",
       "2     3.0      A2MP1    NaN    NaN           NaN                NaN   \n",
       "3     9.0       NAT1  0.536  0.846  1.929400e-14             Enzyme   \n",
       "4    10.0       NAT2  0.451  0.885  3.274400e-06             Enzyme   \n",
       "\n",
       "  protein_class  NofDiseases  NofPmids diseaseId          diseaseName  \\\n",
       "0  DTO_05007575         27.0      20.0  C0000727       Abdomen, Acute   \n",
       "1  DTO_05007584        147.0     145.0  C0000729     Abdominal Cramps   \n",
       "2           NaN          1.0       1.0  C0000731    Abdomen distended   \n",
       "3  DTO_05007624        133.0     184.0  C0000734       Abdominal mass   \n",
       "4  DTO_05007624        311.0     627.0  C0000735  Abdominal Neoplasms   \n",
       "\n",
       "  diseaseType diseaseClass diseaseSemanticType  NofGenes  NofPmids.1  \n",
       "0   phenotype          C23     Sign or Symptom         2           2  \n",
       "1   phenotype          C16     Sign or Symptom         1           1  \n",
       "2   phenotype          C06             Finding       103           0  \n",
       "3   phenotype          C06             Finding         2           0  \n",
       "4       group          C04  Neoplastic Process        13          13  "
      ]
     },
     "execution_count": 27,
     "metadata": {},
     "output_type": "execute_result"
    }
   ],
   "source": [
    "import pandas as pd\n",
    "\n",
    "all_gda_df = pd.read_csv(\"all_gene_disease_associations.tsv\")\n",
    "all_gda_df.head()"
   ]
  },
  {
   "cell_type": "code",
   "execution_count": 29,
   "id": "973bbff1-2ea7-4aca-805f-9c73aa7aef0d",
   "metadata": {},
   "outputs": [
    {
     "data": {
      "text/html": [
       "<div>\n",
       "<style scoped>\n",
       "    .dataframe tbody tr th:only-of-type {\n",
       "        vertical-align: middle;\n",
       "    }\n",
       "\n",
       "    .dataframe tbody tr th {\n",
       "        vertical-align: top;\n",
       "    }\n",
       "\n",
       "    .dataframe thead th {\n",
       "        text-align: right;\n",
       "    }\n",
       "</style>\n",
       "<table border=\"1\" class=\"dataframe\">\n",
       "  <thead>\n",
       "    <tr style=\"text-align: right;\">\n",
       "      <th></th>\n",
       "      <th>geneId</th>\n",
       "      <th>geneSymbol</th>\n",
       "      <th>DSI</th>\n",
       "      <th>DPI</th>\n",
       "      <th>diseaseId</th>\n",
       "      <th>diseaseName</th>\n",
       "    </tr>\n",
       "  </thead>\n",
       "  <tbody>\n",
       "    <tr>\n",
       "      <th>0</th>\n",
       "      <td>1.0</td>\n",
       "      <td>A1BG</td>\n",
       "      <td>0.700</td>\n",
       "      <td>0.538</td>\n",
       "      <td>C0000727</td>\n",
       "      <td>Abdomen, Acute</td>\n",
       "    </tr>\n",
       "    <tr>\n",
       "      <th>1</th>\n",
       "      <td>2.0</td>\n",
       "      <td>A2M</td>\n",
       "      <td>0.529</td>\n",
       "      <td>0.769</td>\n",
       "      <td>C0000729</td>\n",
       "      <td>Abdominal Cramps</td>\n",
       "    </tr>\n",
       "    <tr>\n",
       "      <th>2</th>\n",
       "      <td>3.0</td>\n",
       "      <td>A2MP1</td>\n",
       "      <td>NaN</td>\n",
       "      <td>NaN</td>\n",
       "      <td>C0000731</td>\n",
       "      <td>Abdomen distended</td>\n",
       "    </tr>\n",
       "    <tr>\n",
       "      <th>3</th>\n",
       "      <td>9.0</td>\n",
       "      <td>NAT1</td>\n",
       "      <td>0.536</td>\n",
       "      <td>0.846</td>\n",
       "      <td>C0000734</td>\n",
       "      <td>Abdominal mass</td>\n",
       "    </tr>\n",
       "    <tr>\n",
       "      <th>4</th>\n",
       "      <td>10.0</td>\n",
       "      <td>NAT2</td>\n",
       "      <td>0.451</td>\n",
       "      <td>0.885</td>\n",
       "      <td>C0000735</td>\n",
       "      <td>Abdominal Neoplasms</td>\n",
       "    </tr>\n",
       "  </tbody>\n",
       "</table>\n",
       "</div>"
      ],
      "text/plain": [
       "   geneId geneSymbol    DSI    DPI diseaseId          diseaseName\n",
       "0     1.0       A1BG  0.700  0.538  C0000727       Abdomen, Acute\n",
       "1     2.0        A2M  0.529  0.769  C0000729     Abdominal Cramps\n",
       "2     3.0      A2MP1    NaN    NaN  C0000731    Abdomen distended\n",
       "3     9.0       NAT1  0.536  0.846  C0000734       Abdominal mass\n",
       "4    10.0       NAT2  0.451  0.885  C0000735  Abdominal Neoplasms"
      ]
     },
     "execution_count": 29,
     "metadata": {},
     "output_type": "execute_result"
    }
   ],
   "source": [
    "all_gda_df = all_gda_df[\n",
    "    [\"geneId\", \"geneSymbol\", \"DSI\", \"DPI\", \"diseaseId\", \"diseaseName\"]\n",
    "]  # Get needed columns\n",
    "all_gda_df.head()"
   ]
  },
  {
   "cell_type": "code",
   "execution_count": 30,
   "id": "138de5a6-6390-4d75-8720-b876810bbac5",
   "metadata": {},
   "outputs": [
    {
     "data": {
      "text/plain": [
       "(21666, 30170)"
      ]
     },
     "execution_count": 30,
     "metadata": {},
     "output_type": "execute_result"
    }
   ],
   "source": [
    "all_gda_df.geneSymbol.nunique(), all_gda_df.diseaseId.nunique()"
   ]
  },
  {
   "cell_type": "markdown",
   "id": "9fcaf690-024e-4f67-a8ca-36a51905286c",
   "metadata": {},
   "source": [
    "### Create disease to disease_description mapping from MGDEF of DisGenNet\n",
    "> MGDEF.csv can be obtained from https://ftp.ncbi.nlm.nih.gov/pub/medgen/"
   ]
  },
  {
   "cell_type": "code",
   "execution_count": 4,
   "id": "5c88de5e-d785-4389-a6c8-9e3cdc3bd2da",
   "metadata": {},
   "outputs": [],
   "source": [
    "disease_def_df = pd.read_csv(\"MGDEF.csv\")\n",
    "disease_def_df.head()\n",
    "disease_des_dict = {}\n",
    "for _, item in all_gda_df.iterrows():\n",
    "    disease_des_dict[item[\"diseaseId\"]] = item[\n",
    "        \"diseaseName\"\n",
    "    ]  ## Default disease description is disease name\n",
    "for _, item in disease_def_df.iterrows():\n",
    "    disease_des_dict[item[\"CUI\"]] = item[\"DEF\"]"
   ]
  },
  {
   "cell_type": "markdown",
   "id": "8efafc43-3622-484e-b17d-f2a3d29314bc",
   "metadata": {},
   "source": [
    "### Map CUI to Disease Description"
   ]
  },
  {
   "cell_type": "code",
   "execution_count": 5,
   "id": "10f91e00-769f-4f41-af6b-703199b96815",
   "metadata": {},
   "outputs": [],
   "source": [
    "all_gda_df[\"diseaseDes\"] = all_gda_df[\"diseaseId\"].map(lambda x: disease_des_dict[x])"
   ]
  },
  {
   "cell_type": "code",
   "execution_count": 6,
   "id": "7f114cda-cb59-4ad8-8ffd-b79896144d0f",
   "metadata": {},
   "outputs": [],
   "source": [
    "# with open(\"gene_symbol.txt\",'w') as f: # This is a gene_symbol use to retrieval in https://www.uniprot.org/uploadlists/\n",
    "#     f.write(\" \".join(all_gda_df['geneSymbol'].unique()))"
   ]
  },
  {
   "cell_type": "markdown",
   "id": "ed9e807c-68ad-4633-a5ca-21e2782db213",
   "metadata": {
    "tags": []
   },
   "source": [
    "### Create gene to gene_protein_seq mapping from STRING"
   ]
  },
  {
   "cell_type": "code",
   "execution_count": 31,
   "id": "b756cbce-705a-4c2b-8c19-2c89b29a708f",
   "metadata": {},
   "outputs": [
    {
     "data": {
      "text/plain": [
       "19563"
      ]
     },
     "execution_count": 31,
     "metadata": {},
     "output_type": "execute_result"
    }
   ],
   "source": [
    "prot_info_df = pd.read_csv(\"9606.protein.info.v12.0.txt\", \"\\t\")\n",
    "prot_info_gene = prot_info_df[\"preferred_name\"].unique()\n",
    "prot_info_df[\"preferred_name\"].nunique()"
   ]
  },
  {
   "cell_type": "code",
   "execution_count": 32,
   "id": "522cd3a5-ac8a-4a5d-a4fb-e23f648a50e6",
   "metadata": {},
   "outputs": [
    {
     "data": {
      "text/html": [
       "<div>\n",
       "<style scoped>\n",
       "    .dataframe tbody tr th:only-of-type {\n",
       "        vertical-align: middle;\n",
       "    }\n",
       "\n",
       "    .dataframe tbody tr th {\n",
       "        vertical-align: top;\n",
       "    }\n",
       "\n",
       "    .dataframe thead th {\n",
       "        text-align: right;\n",
       "    }\n",
       "</style>\n",
       "<table border=\"1\" class=\"dataframe\">\n",
       "  <thead>\n",
       "    <tr style=\"text-align: right;\">\n",
       "      <th></th>\n",
       "      <th>#string_protein_id</th>\n",
       "      <th>preferred_name</th>\n",
       "      <th>protein_size</th>\n",
       "      <th>annotation</th>\n",
       "    </tr>\n",
       "  </thead>\n",
       "  <tbody>\n",
       "    <tr>\n",
       "      <th>0</th>\n",
       "      <td>9606.ENSP00000000233</td>\n",
       "      <td>ARF5</td>\n",
       "      <td>180</td>\n",
       "      <td>ADP-ribosylation factor 5; GTP-binding protein...</td>\n",
       "    </tr>\n",
       "    <tr>\n",
       "      <th>1</th>\n",
       "      <td>9606.ENSP00000000412</td>\n",
       "      <td>M6PR</td>\n",
       "      <td>277</td>\n",
       "      <td>Cation-dependent mannose-6-phosphate receptor;...</td>\n",
       "    </tr>\n",
       "    <tr>\n",
       "      <th>2</th>\n",
       "      <td>9606.ENSP00000001008</td>\n",
       "      <td>FKBP4</td>\n",
       "      <td>459</td>\n",
       "      <td>Peptidyl-prolyl cis-trans isomerase FKBP4; Imm...</td>\n",
       "    </tr>\n",
       "  </tbody>\n",
       "</table>\n",
       "</div>"
      ],
      "text/plain": [
       "     #string_protein_id preferred_name  protein_size  \\\n",
       "0  9606.ENSP00000000233           ARF5           180   \n",
       "1  9606.ENSP00000000412           M6PR           277   \n",
       "2  9606.ENSP00000001008          FKBP4           459   \n",
       "\n",
       "                                          annotation  \n",
       "0  ADP-ribosylation factor 5; GTP-binding protein...  \n",
       "1  Cation-dependent mannose-6-phosphate receptor;...  \n",
       "2  Peptidyl-prolyl cis-trans isomerase FKBP4; Imm...  "
      ]
     },
     "execution_count": 32,
     "metadata": {},
     "output_type": "execute_result"
    }
   ],
   "source": [
    "prot_info_df.head(3)"
   ]
  },
  {
   "cell_type": "code",
   "execution_count": 37,
   "id": "5ab7ea22-2143-4430-8a48-54b950ca59bb",
   "metadata": {},
   "outputs": [
    {
     "ename": "TypeError",
     "evalue": "sequence item 5756: expected str instance, float found",
     "output_type": "error",
     "traceback": [
      "\u001b[0;31m---------------------------------------------------------------------------\u001b[0m",
      "\u001b[0;31mTypeError\u001b[0m                                 Traceback (most recent call last)",
      "\u001b[0;32m/tmp/ipykernel_89/1478609678.py\u001b[0m in \u001b[0;36m<module>\u001b[0;34m\u001b[0m\n\u001b[1;32m     10\u001b[0m     \u001b[0mf\u001b[0m\u001b[0;34m.\u001b[0m\u001b[0mwrite\u001b[0m\u001b[0;34m(\u001b[0m\u001b[0;34m\" \"\u001b[0m\u001b[0;34m.\u001b[0m\u001b[0mjoin\u001b[0m\u001b[0;34m(\u001b[0m\u001b[0mexist_gene\u001b[0m\u001b[0;34m)\u001b[0m\u001b[0;34m)\u001b[0m\u001b[0;34m\u001b[0m\u001b[0;34m\u001b[0m\u001b[0m\n\u001b[1;32m     11\u001b[0m \u001b[0;32mwith\u001b[0m \u001b[0mopen\u001b[0m\u001b[0;34m(\u001b[0m\u001b[0;34m\"gene_exist_NOT_in_STRING.txt\"\u001b[0m\u001b[0;34m,\u001b[0m \u001b[0;34m\"w\"\u001b[0m\u001b[0;34m)\u001b[0m \u001b[0;32mas\u001b[0m \u001b[0mf\u001b[0m\u001b[0;34m:\u001b[0m\u001b[0;34m\u001b[0m\u001b[0;34m\u001b[0m\u001b[0m\n\u001b[0;32m---> 12\u001b[0;31m     \u001b[0mf\u001b[0m\u001b[0;34m.\u001b[0m\u001b[0mwrite\u001b[0m\u001b[0;34m(\u001b[0m\u001b[0;34m\" \"\u001b[0m\u001b[0;34m.\u001b[0m\u001b[0mjoin\u001b[0m\u001b[0;34m(\u001b[0m\u001b[0mnot_exist\u001b[0m\u001b[0;34m)\u001b[0m\u001b[0;34m)\u001b[0m\u001b[0;34m\u001b[0m\u001b[0;34m\u001b[0m\u001b[0m\n\u001b[0m\u001b[1;32m     13\u001b[0m \u001b[0mlen\u001b[0m\u001b[0;34m(\u001b[0m\u001b[0mnot_exist\u001b[0m\u001b[0;34m)\u001b[0m\u001b[0;34m,\u001b[0m \u001b[0mlen\u001b[0m\u001b[0;34m(\u001b[0m\u001b[0mexist_gene\u001b[0m\u001b[0;34m)\u001b[0m\u001b[0;34m\u001b[0m\u001b[0;34m\u001b[0m\u001b[0m\n",
      "\u001b[0;31mTypeError\u001b[0m: sequence item 5756: expected str instance, float found"
     ]
    }
   ],
   "source": [
    "# Check overlapping between all_gda_df and string\n",
    "not_exist = []\n",
    "exist_gene = []\n",
    "for gene_name in all_gda_df[\"geneSymbol\"].unique():\n",
    "    if gene_name not in prot_info_gene:\n",
    "        not_exist.append(gene_name)\n",
    "    else:\n",
    "        exist_gene.append(gene_name)\n",
    "with open(\"gene_exist_in_STRING.txt\", \"w\") as f:\n",
    "    f.write(\" \".join(exist_gene))\n",
    "with open(\"gene_exist_NOT_in_STRING.txt\", \"w\") as f:\n",
    "    f.write(\" \".join(not_exist))\n",
    "len(not_exist), len(exist_gene)"
   ]
  },
  {
   "cell_type": "markdown",
   "id": "79db8c43-432b-4dc6-b708-a86c29fdc18f",
   "metadata": {},
   "source": [
    "### Filter out all the association according to gene_exist_in_STRING.txt\n",
    "> 9606.protein.sequences.v11.5.fa can be obtained from https://string-db.org/cgi/download?sessionId=bznr4eHEqnC5"
   ]
  },
  {
   "cell_type": "code",
   "execution_count": 10,
   "id": "5164a97b-a9a0-4483-9944-d0bd6074276a",
   "metadata": {},
   "outputs": [
    {
     "name": "stdout",
     "output_type": "stream",
     "text": [
      "the number of gda: 1134942\n"
     ]
    }
   ],
   "source": [
    "print(f\"the number of gda: {len(all_gda_df.index)}\")"
   ]
  },
  {
   "cell_type": "code",
   "execution_count": 11,
   "id": "71bbfccc-bf3a-426c-aba9-5dce4c4acab1",
   "metadata": {},
   "outputs": [],
   "source": [
    "all_gda_df_filtered = all_gda_df[\n",
    "    all_gda_df.geneSymbol.isin(exist_gene)\n",
    "]  ## Filter by exist_gene"
   ]
  },
  {
   "cell_type": "code",
   "execution_count": 12,
   "id": "a9d85cf1-d79e-4ea4-8c14-4c0199e2e7ce",
   "metadata": {},
   "outputs": [],
   "source": [
    "# create protein to seqence mapping\n",
    "\n",
    "# with open(\"9606.protein.sequences.v11.5.fa\") as f:\n",
    "with open(\"gencode.v44.pc_translations.fa\") as f:\n",
    "    lines = f.readlines()\n",
    "    line_str = \"\".join(lines)\n",
    "id_seq_str_list = line_str.split(\">\")\n",
    "prot_id_to_seq = {}\n",
    "for id_seq_str in id_seq_str_list:\n",
    "    tokens = id_seq_str.split(\"\\n\")\n",
    "    key = tokens[0]\n",
    "    val = \"\".join(tokens[1:])\n",
    "    prot_id_to_seq[key] = val"
   ]
  },
  {
   "cell_type": "code",
   "execution_count": 13,
   "id": "e0bf097b-8bf1-4ee5-ab3f-fa615b5c131d",
   "metadata": {},
   "outputs": [],
   "source": [
    "## Create gene to protein sequence mapping\n",
    "gene_to_seq_dict = {}\n",
    "no_seq_gene_list = (\n",
    "    []\n",
    ")  ## gene name and protein id cannot find in the prot String dataset\n",
    "multi_seq_gene_list = (\n",
    "    []\n",
    ")  ## gene name and protein id cannot find in the prot String dataset\n",
    "\n",
    "for _, item in prot_info_df.iterrows():\n",
    "    gene_name = item[\"preferred_name\"]\n",
    "    if gene_name in exist_gene:\n",
    "        protein_id = item[\"#string_protein_id\"]\n",
    "        gene_to_seq_dict[gene_name] = prot_id_to_seq[protein_id]\n",
    "        if (gene_name in gene_to_seq_dict) and (\n",
    "            prot_id_to_seq[protein_id] != gene_to_seq_dict[gene_name]\n",
    "        ):\n",
    "            multi_seq_gene_list.append(gene_name)\n",
    "    else:\n",
    "        no_seq_gene_list.append(gene_name)"
   ]
  },
  {
   "cell_type": "code",
   "execution_count": 14,
   "id": "667b40ff-c223-4790-ae44-ea3e81ecc829",
   "metadata": {},
   "outputs": [
    {
     "data": {
      "text/plain": [
       "(3656, 0)"
      ]
     },
     "execution_count": 14,
     "metadata": {},
     "output_type": "execute_result"
    }
   ],
   "source": [
    "len(no_seq_gene_list), len(multi_seq_gene_list)"
   ]
  },
  {
   "cell_type": "code",
   "execution_count": 15,
   "id": "8b0cdc7a-b275-472d-89b6-f657ed6389f9",
   "metadata": {},
   "outputs": [
    {
     "data": {
      "text/plain": [
       "15910"
      ]
     },
     "execution_count": 15,
     "metadata": {},
     "output_type": "execute_result"
    }
   ],
   "source": [
    "final_gene_name_list = gene_to_seq_dict.keys()\n",
    "all_gda_df_filtered = all_gda_df[all_gda_df.geneSymbol.isin(final_gene_name_list)]\n",
    "len(gene_to_seq_dict)  ## Final gene to seq mapping"
   ]
  },
  {
   "cell_type": "code",
   "execution_count": 16,
   "id": "1082817e-c3b7-4d0e-826a-cd2e5b2482a4",
   "metadata": {},
   "outputs": [
    {
     "name": "stderr",
     "output_type": "stream",
     "text": [
      "/tmp/ipykernel_101603/1325574237.py:2: SettingWithCopyWarning: \n",
      "A value is trying to be set on a copy of a slice from a DataFrame.\n",
      "Try using .loc[row_indexer,col_indexer] = value instead\n",
      "\n",
      "See the caveats in the documentation: https://pandas.pydata.org/pandas-docs/stable/user_guide/indexing.html#returning-a-view-versus-a-copy\n",
      "  all_gda_df_filtered[\"proteinSeq\"] = all_gda_df_filtered[\"geneSymbol\"].apply(lambda x: gene_to_seq_dict[x])\n"
     ]
    },
    {
     "data": {
      "text/html": [
       "<div>\n",
       "<style scoped>\n",
       "    .dataframe tbody tr th:only-of-type {\n",
       "        vertical-align: middle;\n",
       "    }\n",
       "\n",
       "    .dataframe tbody tr th {\n",
       "        vertical-align: top;\n",
       "    }\n",
       "\n",
       "    .dataframe thead th {\n",
       "        text-align: right;\n",
       "    }\n",
       "</style>\n",
       "<table border=\"1\" class=\"dataframe\">\n",
       "  <thead>\n",
       "    <tr style=\"text-align: right;\">\n",
       "      <th></th>\n",
       "      <th>geneId</th>\n",
       "      <th>geneSymbol</th>\n",
       "      <th>DSI</th>\n",
       "      <th>DPI</th>\n",
       "      <th>score</th>\n",
       "      <th>diseaseId</th>\n",
       "      <th>diseaseName</th>\n",
       "      <th>diseaseDes</th>\n",
       "      <th>proteinSeq</th>\n",
       "    </tr>\n",
       "  </thead>\n",
       "  <tbody>\n",
       "    <tr>\n",
       "      <th>0</th>\n",
       "      <td>1</td>\n",
       "      <td>A1BG</td>\n",
       "      <td>0.700</td>\n",
       "      <td>0.538</td>\n",
       "      <td>0.01</td>\n",
       "      <td>C0001418</td>\n",
       "      <td>Adenocarcinoma</td>\n",
       "      <td>A common cancer characterized by the presence ...</td>\n",
       "      <td>MSMLVVFLLLWGVTWGPVTEAAIFYETQPSLWAESESLLKPLANVT...</td>\n",
       "    </tr>\n",
       "    <tr>\n",
       "      <th>1</th>\n",
       "      <td>1</td>\n",
       "      <td>A1BG</td>\n",
       "      <td>0.700</td>\n",
       "      <td>0.538</td>\n",
       "      <td>0.01</td>\n",
       "      <td>C0002736</td>\n",
       "      <td>Amyotrophic Lateral Sclerosis</td>\n",
       "      <td>A neurodegenerative disease characterized by p...</td>\n",
       "      <td>MSMLVVFLLLWGVTWGPVTEAAIFYETQPSLWAESESLLKPLANVT...</td>\n",
       "    </tr>\n",
       "    <tr>\n",
       "      <th>2</th>\n",
       "      <td>1</td>\n",
       "      <td>A1BG</td>\n",
       "      <td>0.700</td>\n",
       "      <td>0.538</td>\n",
       "      <td>0.01</td>\n",
       "      <td>C0003578</td>\n",
       "      <td>Apnea</td>\n",
       "      <td>Lack of breathing with no movement of the resp...</td>\n",
       "      <td>MSMLVVFLLLWGVTWGPVTEAAIFYETQPSLWAESESLLKPLANVT...</td>\n",
       "    </tr>\n",
       "    <tr>\n",
       "      <th>3</th>\n",
       "      <td>1</td>\n",
       "      <td>A1BG</td>\n",
       "      <td>0.700</td>\n",
       "      <td>0.538</td>\n",
       "      <td>0.01</td>\n",
       "      <td>C0003864</td>\n",
       "      <td>Arthritis</td>\n",
       "      <td>Inflammation of a joint.</td>\n",
       "      <td>MSMLVVFLLLWGVTWGPVTEAAIFYETQPSLWAESESLLKPLANVT...</td>\n",
       "    </tr>\n",
       "    <tr>\n",
       "      <th>4</th>\n",
       "      <td>1</td>\n",
       "      <td>A1BG</td>\n",
       "      <td>0.700</td>\n",
       "      <td>0.538</td>\n",
       "      <td>0.01</td>\n",
       "      <td>C0008373</td>\n",
       "      <td>Cholesteatoma</td>\n",
       "      <td>Cholesteatoma is a benign but potentially dest...</td>\n",
       "      <td>MSMLVVFLLLWGVTWGPVTEAAIFYETQPSLWAESESLLKPLANVT...</td>\n",
       "    </tr>\n",
       "    <tr>\n",
       "      <th>...</th>\n",
       "      <td>...</td>\n",
       "      <td>...</td>\n",
       "      <td>...</td>\n",
       "      <td>...</td>\n",
       "      <td>...</td>\n",
       "      <td>...</td>\n",
       "      <td>...</td>\n",
       "      <td>...</td>\n",
       "      <td>...</td>\n",
       "    </tr>\n",
       "    <tr>\n",
       "      <th>1132776</th>\n",
       "      <td>115072896</td>\n",
       "      <td>SLCO1B3-SLCO1B7</td>\n",
       "      <td>0.839</td>\n",
       "      <td>0.077</td>\n",
       "      <td>0.10</td>\n",
       "      <td>C0344395</td>\n",
       "      <td>Bilirubin measurement</td>\n",
       "      <td>Bilirubin measurement</td>\n",
       "      <td>MDQHQHLNKTAESASSEKKKTRRCNGFKMFLAALSFSYIAKALGGI...</td>\n",
       "    </tr>\n",
       "    <tr>\n",
       "      <th>1132777</th>\n",
       "      <td>115072896</td>\n",
       "      <td>SLCO1B3-SLCO1B7</td>\n",
       "      <td>0.839</td>\n",
       "      <td>0.077</td>\n",
       "      <td>0.10</td>\n",
       "      <td>C0410702</td>\n",
       "      <td>Adolescent idiopathic scoliosis</td>\n",
       "      <td>A scoliosis with no known cause arising in ado...</td>\n",
       "      <td>MDQHQHLNKTAESASSEKKKTRRCNGFKMFLAALSFSYIAKALGGI...</td>\n",
       "    </tr>\n",
       "    <tr>\n",
       "      <th>1132778</th>\n",
       "      <td>115072896</td>\n",
       "      <td>SLCO1B3-SLCO1B7</td>\n",
       "      <td>0.839</td>\n",
       "      <td>0.077</td>\n",
       "      <td>0.10</td>\n",
       "      <td>C0489786</td>\n",
       "      <td>Height</td>\n",
       "      <td>Height</td>\n",
       "      <td>MDQHQHLNKTAESASSEKKKTRRCNGFKMFLAALSFSYIAKALGGI...</td>\n",
       "    </tr>\n",
       "    <tr>\n",
       "      <th>1132779</th>\n",
       "      <td>115072896</td>\n",
       "      <td>SLCO1B3-SLCO1B7</td>\n",
       "      <td>0.839</td>\n",
       "      <td>0.077</td>\n",
       "      <td>0.10</td>\n",
       "      <td>C1287365</td>\n",
       "      <td>Bilirubin level result</td>\n",
       "      <td>Bilirubin level result</td>\n",
       "      <td>MDQHQHLNKTAESASSEKKKTRRCNGFKMFLAALSFSYIAKALGGI...</td>\n",
       "    </tr>\n",
       "    <tr>\n",
       "      <th>1132780</th>\n",
       "      <td>115072896</td>\n",
       "      <td>SLCO1B3-SLCO1B7</td>\n",
       "      <td>0.839</td>\n",
       "      <td>0.077</td>\n",
       "      <td>0.10</td>\n",
       "      <td>C1837461</td>\n",
       "      <td>SCOLIOSIS, ISOLATED, SUSCEPTIBILITY TO, 3</td>\n",
       "      <td>Idiopathic scoliosis, an abnormality of the ve...</td>\n",
       "      <td>MDQHQHLNKTAESASSEKKKTRRCNGFKMFLAALSFSYIAKALGGI...</td>\n",
       "    </tr>\n",
       "  </tbody>\n",
       "</table>\n",
       "<p>1019926 rows × 9 columns</p>\n",
       "</div>"
      ],
      "text/plain": [
       "            geneId       geneSymbol    DSI    DPI  score diseaseId  \\\n",
       "0                1             A1BG  0.700  0.538   0.01  C0001418   \n",
       "1                1             A1BG  0.700  0.538   0.01  C0002736   \n",
       "2                1             A1BG  0.700  0.538   0.01  C0003578   \n",
       "3                1             A1BG  0.700  0.538   0.01  C0003864   \n",
       "4                1             A1BG  0.700  0.538   0.01  C0008373   \n",
       "...            ...              ...    ...    ...    ...       ...   \n",
       "1132776  115072896  SLCO1B3-SLCO1B7  0.839  0.077   0.10  C0344395   \n",
       "1132777  115072896  SLCO1B3-SLCO1B7  0.839  0.077   0.10  C0410702   \n",
       "1132778  115072896  SLCO1B3-SLCO1B7  0.839  0.077   0.10  C0489786   \n",
       "1132779  115072896  SLCO1B3-SLCO1B7  0.839  0.077   0.10  C1287365   \n",
       "1132780  115072896  SLCO1B3-SLCO1B7  0.839  0.077   0.10  C1837461   \n",
       "\n",
       "                                       diseaseName  \\\n",
       "0                                   Adenocarcinoma   \n",
       "1                    Amyotrophic Lateral Sclerosis   \n",
       "2                                            Apnea   \n",
       "3                                        Arthritis   \n",
       "4                                    Cholesteatoma   \n",
       "...                                            ...   \n",
       "1132776                      Bilirubin measurement   \n",
       "1132777            Adolescent idiopathic scoliosis   \n",
       "1132778                                     Height   \n",
       "1132779                     Bilirubin level result   \n",
       "1132780  SCOLIOSIS, ISOLATED, SUSCEPTIBILITY TO, 3   \n",
       "\n",
       "                                                diseaseDes  \\\n",
       "0        A common cancer characterized by the presence ...   \n",
       "1        A neurodegenerative disease characterized by p...   \n",
       "2        Lack of breathing with no movement of the resp...   \n",
       "3                                 Inflammation of a joint.   \n",
       "4        Cholesteatoma is a benign but potentially dest...   \n",
       "...                                                    ...   \n",
       "1132776                              Bilirubin measurement   \n",
       "1132777  A scoliosis with no known cause arising in ado...   \n",
       "1132778                                             Height   \n",
       "1132779                             Bilirubin level result   \n",
       "1132780  Idiopathic scoliosis, an abnormality of the ve...   \n",
       "\n",
       "                                                proteinSeq  \n",
       "0        MSMLVVFLLLWGVTWGPVTEAAIFYETQPSLWAESESLLKPLANVT...  \n",
       "1        MSMLVVFLLLWGVTWGPVTEAAIFYETQPSLWAESESLLKPLANVT...  \n",
       "2        MSMLVVFLLLWGVTWGPVTEAAIFYETQPSLWAESESLLKPLANVT...  \n",
       "3        MSMLVVFLLLWGVTWGPVTEAAIFYETQPSLWAESESLLKPLANVT...  \n",
       "4        MSMLVVFLLLWGVTWGPVTEAAIFYETQPSLWAESESLLKPLANVT...  \n",
       "...                                                    ...  \n",
       "1132776  MDQHQHLNKTAESASSEKKKTRRCNGFKMFLAALSFSYIAKALGGI...  \n",
       "1132777  MDQHQHLNKTAESASSEKKKTRRCNGFKMFLAALSFSYIAKALGGI...  \n",
       "1132778  MDQHQHLNKTAESASSEKKKTRRCNGFKMFLAALSFSYIAKALGGI...  \n",
       "1132779  MDQHQHLNKTAESASSEKKKTRRCNGFKMFLAALSFSYIAKALGGI...  \n",
       "1132780  MDQHQHLNKTAESASSEKKKTRRCNGFKMFLAALSFSYIAKALGGI...  \n",
       "\n",
       "[1019926 rows x 9 columns]"
      ]
     },
     "execution_count": 16,
     "metadata": {},
     "output_type": "execute_result"
    }
   ],
   "source": [
    "# map gene to protein sequence\n",
    "all_gda_df_filtered[\"proteinSeq\"] = all_gda_df_filtered[\"geneSymbol\"].apply(\n",
    "    lambda x: gene_to_seq_dict[x]\n",
    ")\n",
    "all_gda_df_filtered"
   ]
  },
  {
   "cell_type": "code",
   "execution_count": 17,
   "id": "5dd33480-9196-47da-9c20-fe8f954360eb",
   "metadata": {},
   "outputs": [],
   "source": [
    "all_gda_df_filtered.to_csv(\"disgenet_all.csv\")"
   ]
  },
  {
   "cell_type": "code",
   "execution_count": 3,
   "id": "9bd2ee3e-8ddb-4d75-a9f6-28d1cea2df60",
   "metadata": {},
   "outputs": [],
   "source": [
    "df_full = pd.read_csv(\"disgenet_all.csv\")"
   ]
  },
  {
   "cell_type": "code",
   "execution_count": 26,
   "id": "a9b05483-7d18-4427-9d74-7b308f725110",
   "metadata": {},
   "outputs": [],
   "source": [
    "def get_pair_idx(item, col1=\"geneId\", col2=\"diseaseId\"):\n",
    "    pair_idx = str(item[col1]).strip() + \"-\" + item[col2].strip() \n",
    "    return pair_idx\n",
    "df_full[\"pair_idx\"] = df_full.apply(get_pair_idx, axis=1)"
   ]
  },
  {
   "cell_type": "code",
   "execution_count": 27,
   "id": "e9246389-7131-4cc0-897c-8d326aa441a6",
   "metadata": {},
   "outputs": [
    {
     "data": {
      "text/html": [
       "<div>\n",
       "<style scoped>\n",
       "    .dataframe tbody tr th:only-of-type {\n",
       "        vertical-align: middle;\n",
       "    }\n",
       "\n",
       "    .dataframe tbody tr th {\n",
       "        vertical-align: top;\n",
       "    }\n",
       "\n",
       "    .dataframe thead th {\n",
       "        text-align: right;\n",
       "    }\n",
       "</style>\n",
       "<table border=\"1\" class=\"dataframe\">\n",
       "  <thead>\n",
       "    <tr style=\"text-align: right;\">\n",
       "      <th></th>\n",
       "      <th>Unnamed: 0</th>\n",
       "      <th>Unnamed: 0.1</th>\n",
       "      <th>geneId</th>\n",
       "      <th>geneSymbol</th>\n",
       "      <th>DSI</th>\n",
       "      <th>DPI</th>\n",
       "      <th>score</th>\n",
       "      <th>diseaseId</th>\n",
       "      <th>diseaseName</th>\n",
       "      <th>diseaseDes</th>\n",
       "      <th>proteinSeq</th>\n",
       "      <th>pair_idx</th>\n",
       "    </tr>\n",
       "  </thead>\n",
       "  <tbody>\n",
       "    <tr>\n",
       "      <th>0</th>\n",
       "      <td>0</td>\n",
       "      <td>0</td>\n",
       "      <td>1</td>\n",
       "      <td>A1BG</td>\n",
       "      <td>0.700</td>\n",
       "      <td>0.538</td>\n",
       "      <td>0.01</td>\n",
       "      <td>C0001418</td>\n",
       "      <td>Adenocarcinoma</td>\n",
       "      <td>A common cancer characterized by the presence ...</td>\n",
       "      <td>MSMLVVFLLLWGVTWGPVTEAAIFYETQPSLWAESESLLKPLANVT...</td>\n",
       "      <td>1-C0001418</td>\n",
       "    </tr>\n",
       "    <tr>\n",
       "      <th>1</th>\n",
       "      <td>1</td>\n",
       "      <td>1</td>\n",
       "      <td>1</td>\n",
       "      <td>A1BG</td>\n",
       "      <td>0.700</td>\n",
       "      <td>0.538</td>\n",
       "      <td>0.01</td>\n",
       "      <td>C0002736</td>\n",
       "      <td>Amyotrophic Lateral Sclerosis</td>\n",
       "      <td>A neurodegenerative disease characterized by p...</td>\n",
       "      <td>MSMLVVFLLLWGVTWGPVTEAAIFYETQPSLWAESESLLKPLANVT...</td>\n",
       "      <td>1-C0002736</td>\n",
       "    </tr>\n",
       "    <tr>\n",
       "      <th>2</th>\n",
       "      <td>2</td>\n",
       "      <td>2</td>\n",
       "      <td>1</td>\n",
       "      <td>A1BG</td>\n",
       "      <td>0.700</td>\n",
       "      <td>0.538</td>\n",
       "      <td>0.01</td>\n",
       "      <td>C0003578</td>\n",
       "      <td>Apnea</td>\n",
       "      <td>Lack of breathing with no movement of the resp...</td>\n",
       "      <td>MSMLVVFLLLWGVTWGPVTEAAIFYETQPSLWAESESLLKPLANVT...</td>\n",
       "      <td>1-C0003578</td>\n",
       "    </tr>\n",
       "    <tr>\n",
       "      <th>3</th>\n",
       "      <td>3</td>\n",
       "      <td>3</td>\n",
       "      <td>1</td>\n",
       "      <td>A1BG</td>\n",
       "      <td>0.700</td>\n",
       "      <td>0.538</td>\n",
       "      <td>0.01</td>\n",
       "      <td>C0003864</td>\n",
       "      <td>Arthritis</td>\n",
       "      <td>Inflammation of a joint.</td>\n",
       "      <td>MSMLVVFLLLWGVTWGPVTEAAIFYETQPSLWAESESLLKPLANVT...</td>\n",
       "      <td>1-C0003864</td>\n",
       "    </tr>\n",
       "    <tr>\n",
       "      <th>4</th>\n",
       "      <td>4</td>\n",
       "      <td>4</td>\n",
       "      <td>1</td>\n",
       "      <td>A1BG</td>\n",
       "      <td>0.700</td>\n",
       "      <td>0.538</td>\n",
       "      <td>0.01</td>\n",
       "      <td>C0008373</td>\n",
       "      <td>Cholesteatoma</td>\n",
       "      <td>Cholesteatoma is a benign but potentially dest...</td>\n",
       "      <td>MSMLVVFLLLWGVTWGPVTEAAIFYETQPSLWAESESLLKPLANVT...</td>\n",
       "      <td>1-C0008373</td>\n",
       "    </tr>\n",
       "    <tr>\n",
       "      <th>...</th>\n",
       "      <td>...</td>\n",
       "      <td>...</td>\n",
       "      <td>...</td>\n",
       "      <td>...</td>\n",
       "      <td>...</td>\n",
       "      <td>...</td>\n",
       "      <td>...</td>\n",
       "      <td>...</td>\n",
       "      <td>...</td>\n",
       "      <td>...</td>\n",
       "      <td>...</td>\n",
       "      <td>...</td>\n",
       "    </tr>\n",
       "    <tr>\n",
       "      <th>1018350</th>\n",
       "      <td>1019922</td>\n",
       "      <td>1132776</td>\n",
       "      <td>115072896</td>\n",
       "      <td>SLCO1B3-SLCO1B7</td>\n",
       "      <td>0.839</td>\n",
       "      <td>0.077</td>\n",
       "      <td>0.10</td>\n",
       "      <td>C0344395</td>\n",
       "      <td>Bilirubin measurement</td>\n",
       "      <td>Bilirubin measurement</td>\n",
       "      <td>MDQHQHLNKTAESASSEKKKTRRCNGFKMFLAALSFSYIAKALGGI...</td>\n",
       "      <td>115072896-C0344395</td>\n",
       "    </tr>\n",
       "    <tr>\n",
       "      <th>1018351</th>\n",
       "      <td>1019923</td>\n",
       "      <td>1132777</td>\n",
       "      <td>115072896</td>\n",
       "      <td>SLCO1B3-SLCO1B7</td>\n",
       "      <td>0.839</td>\n",
       "      <td>0.077</td>\n",
       "      <td>0.10</td>\n",
       "      <td>C0410702</td>\n",
       "      <td>Adolescent idiopathic scoliosis</td>\n",
       "      <td>A scoliosis with no known cause arising in ado...</td>\n",
       "      <td>MDQHQHLNKTAESASSEKKKTRRCNGFKMFLAALSFSYIAKALGGI...</td>\n",
       "      <td>115072896-C0410702</td>\n",
       "    </tr>\n",
       "    <tr>\n",
       "      <th>1018352</th>\n",
       "      <td>1019924</td>\n",
       "      <td>1132778</td>\n",
       "      <td>115072896</td>\n",
       "      <td>SLCO1B3-SLCO1B7</td>\n",
       "      <td>0.839</td>\n",
       "      <td>0.077</td>\n",
       "      <td>0.10</td>\n",
       "      <td>C0489786</td>\n",
       "      <td>Height</td>\n",
       "      <td>Height</td>\n",
       "      <td>MDQHQHLNKTAESASSEKKKTRRCNGFKMFLAALSFSYIAKALGGI...</td>\n",
       "      <td>115072896-C0489786</td>\n",
       "    </tr>\n",
       "    <tr>\n",
       "      <th>1018353</th>\n",
       "      <td>1019925</td>\n",
       "      <td>1132779</td>\n",
       "      <td>115072896</td>\n",
       "      <td>SLCO1B3-SLCO1B7</td>\n",
       "      <td>0.839</td>\n",
       "      <td>0.077</td>\n",
       "      <td>0.10</td>\n",
       "      <td>C1287365</td>\n",
       "      <td>Bilirubin level result</td>\n",
       "      <td>Bilirubin level result</td>\n",
       "      <td>MDQHQHLNKTAESASSEKKKTRRCNGFKMFLAALSFSYIAKALGGI...</td>\n",
       "      <td>115072896-C1287365</td>\n",
       "    </tr>\n",
       "    <tr>\n",
       "      <th>1018354</th>\n",
       "      <td>1019926</td>\n",
       "      <td>1132780</td>\n",
       "      <td>115072896</td>\n",
       "      <td>SLCO1B3-SLCO1B7</td>\n",
       "      <td>0.839</td>\n",
       "      <td>0.077</td>\n",
       "      <td>0.10</td>\n",
       "      <td>C1837461</td>\n",
       "      <td>SCOLIOSIS, ISOLATED, SUSCEPTIBILITY TO, 3</td>\n",
       "      <td>Idiopathic scoliosis, an abnormality of the ve...</td>\n",
       "      <td>MDQHQHLNKTAESASSEKKKTRRCNGFKMFLAALSFSYIAKALGGI...</td>\n",
       "      <td>115072896-C1837461</td>\n",
       "    </tr>\n",
       "  </tbody>\n",
       "</table>\n",
       "<p>1018355 rows × 12 columns</p>\n",
       "</div>"
      ],
      "text/plain": [
       "         Unnamed: 0  Unnamed: 0.1     geneId       geneSymbol    DSI    DPI  \\\n",
       "0                 0             0          1             A1BG  0.700  0.538   \n",
       "1                 1             1          1             A1BG  0.700  0.538   \n",
       "2                 2             2          1             A1BG  0.700  0.538   \n",
       "3                 3             3          1             A1BG  0.700  0.538   \n",
       "4                 4             4          1             A1BG  0.700  0.538   \n",
       "...             ...           ...        ...              ...    ...    ...   \n",
       "1018350     1019922       1132776  115072896  SLCO1B3-SLCO1B7  0.839  0.077   \n",
       "1018351     1019923       1132777  115072896  SLCO1B3-SLCO1B7  0.839  0.077   \n",
       "1018352     1019924       1132778  115072896  SLCO1B3-SLCO1B7  0.839  0.077   \n",
       "1018353     1019925       1132779  115072896  SLCO1B3-SLCO1B7  0.839  0.077   \n",
       "1018354     1019926       1132780  115072896  SLCO1B3-SLCO1B7  0.839  0.077   \n",
       "\n",
       "         score diseaseId                                diseaseName  \\\n",
       "0         0.01  C0001418                             Adenocarcinoma   \n",
       "1         0.01  C0002736              Amyotrophic Lateral Sclerosis   \n",
       "2         0.01  C0003578                                      Apnea   \n",
       "3         0.01  C0003864                                  Arthritis   \n",
       "4         0.01  C0008373                              Cholesteatoma   \n",
       "...        ...       ...                                        ...   \n",
       "1018350   0.10  C0344395                      Bilirubin measurement   \n",
       "1018351   0.10  C0410702            Adolescent idiopathic scoliosis   \n",
       "1018352   0.10  C0489786                                     Height   \n",
       "1018353   0.10  C1287365                     Bilirubin level result   \n",
       "1018354   0.10  C1837461  SCOLIOSIS, ISOLATED, SUSCEPTIBILITY TO, 3   \n",
       "\n",
       "                                                diseaseDes  \\\n",
       "0        A common cancer characterized by the presence ...   \n",
       "1        A neurodegenerative disease characterized by p...   \n",
       "2        Lack of breathing with no movement of the resp...   \n",
       "3                                 Inflammation of a joint.   \n",
       "4        Cholesteatoma is a benign but potentially dest...   \n",
       "...                                                    ...   \n",
       "1018350                              Bilirubin measurement   \n",
       "1018351  A scoliosis with no known cause arising in ado...   \n",
       "1018352                                             Height   \n",
       "1018353                             Bilirubin level result   \n",
       "1018354  Idiopathic scoliosis, an abnormality of the ve...   \n",
       "\n",
       "                                                proteinSeq            pair_idx  \n",
       "0        MSMLVVFLLLWGVTWGPVTEAAIFYETQPSLWAESESLLKPLANVT...          1-C0001418  \n",
       "1        MSMLVVFLLLWGVTWGPVTEAAIFYETQPSLWAESESLLKPLANVT...          1-C0002736  \n",
       "2        MSMLVVFLLLWGVTWGPVTEAAIFYETQPSLWAESESLLKPLANVT...          1-C0003578  \n",
       "3        MSMLVVFLLLWGVTWGPVTEAAIFYETQPSLWAESESLLKPLANVT...          1-C0003864  \n",
       "4        MSMLVVFLLLWGVTWGPVTEAAIFYETQPSLWAESESLLKPLANVT...          1-C0008373  \n",
       "...                                                    ...                 ...  \n",
       "1018350  MDQHQHLNKTAESASSEKKKTRRCNGFKMFLAALSFSYIAKALGGI...  115072896-C0344395  \n",
       "1018351  MDQHQHLNKTAESASSEKKKTRRCNGFKMFLAALSFSYIAKALGGI...  115072896-C0410702  \n",
       "1018352  MDQHQHLNKTAESASSEKKKTRRCNGFKMFLAALSFSYIAKALGGI...  115072896-C0489786  \n",
       "1018353  MDQHQHLNKTAESASSEKKKTRRCNGFKMFLAALSFSYIAKALGGI...  115072896-C1287365  \n",
       "1018354  MDQHQHLNKTAESASSEKKKTRRCNGFKMFLAALSFSYIAKALGGI...  115072896-C1837461  \n",
       "\n",
       "[1018355 rows x 12 columns]"
      ]
     },
     "execution_count": 27,
     "metadata": {},
     "output_type": "execute_result"
    }
   ],
   "source": [
    "df_full"
   ]
  },
  {
   "cell_type": "code",
   "execution_count": 29,
   "id": "7b5cd360-7f84-4895-87ac-4d176eef0981",
   "metadata": {},
   "outputs": [],
   "source": [
    "import pandas as pd\n",
    "def get_pair_idx(item, col1=\"ID1\", col2=\"ID2\"):\n",
    "    pair_idx = str(item[col1]).strip() + \"-\" + item[col2].strip() \n",
    "    return pair_idx\n",
    "df = pd.read_csv(\"disgenet.csv\")\n",
    "df[\"pair_idx\"] = df.apply(get_pair_idx, axis=1)"
   ]
  },
  {
   "cell_type": "code",
   "execution_count": 32,
   "id": "4f0b95a5-190b-44c4-a0ec-eda2d382ef44",
   "metadata": {},
   "outputs": [
    {
     "data": {
      "text/html": [
       "<div>\n",
       "<style scoped>\n",
       "    .dataframe tbody tr th:only-of-type {\n",
       "        vertical-align: middle;\n",
       "    }\n",
       "\n",
       "    .dataframe tbody tr th {\n",
       "        vertical-align: top;\n",
       "    }\n",
       "\n",
       "    .dataframe thead th {\n",
       "        text-align: right;\n",
       "    }\n",
       "</style>\n",
       "<table border=\"1\" class=\"dataframe\">\n",
       "  <thead>\n",
       "    <tr style=\"text-align: right;\">\n",
       "      <th></th>\n",
       "      <th>Unnamed: 0</th>\n",
       "      <th>ID1</th>\n",
       "      <th>X1</th>\n",
       "      <th>ID2</th>\n",
       "      <th>X2</th>\n",
       "      <th>Y</th>\n",
       "      <th>pair_idx</th>\n",
       "    </tr>\n",
       "  </thead>\n",
       "  <tbody>\n",
       "    <tr>\n",
       "      <th>0</th>\n",
       "      <td>0</td>\n",
       "      <td>1</td>\n",
       "      <td>MSMLVVFLLLWGVTWGPVTEAAIFYETQPSLWAESESLLKPLANVT...</td>\n",
       "      <td>C0019209</td>\n",
       "      <td>Hepatomegaly: Abnormal enlargement of the liver.</td>\n",
       "      <td>0.30</td>\n",
       "      <td>1-C0019209</td>\n",
       "    </tr>\n",
       "    <tr>\n",
       "      <th>1</th>\n",
       "      <td>1</td>\n",
       "      <td>1</td>\n",
       "      <td>MSMLVVFLLLWGVTWGPVTEAAIFYETQPSLWAESESLLKPLANVT...</td>\n",
       "      <td>C0036341</td>\n",
       "      <td>Schizophrenia: Schizophrenia is highly heritab...</td>\n",
       "      <td>0.30</td>\n",
       "      <td>1-C0036341</td>\n",
       "    </tr>\n",
       "    <tr>\n",
       "      <th>2</th>\n",
       "      <td>2</td>\n",
       "      <td>2</td>\n",
       "      <td>MGKNKLLHPSLVLLLLVLLPTDASVSGKPQYMVLVPSLLHTETTEK...</td>\n",
       "      <td>C0002395</td>\n",
       "      <td>Alzheimer's Disease: Alzheimer disease is the ...</td>\n",
       "      <td>0.50</td>\n",
       "      <td>2-C0002395</td>\n",
       "    </tr>\n",
       "    <tr>\n",
       "      <th>3</th>\n",
       "      <td>3</td>\n",
       "      <td>2</td>\n",
       "      <td>MGKNKLLHPSLVLLLLVLLPTDASVSGKPQYMVLVPSLLHTETTEK...</td>\n",
       "      <td>C0007102</td>\n",
       "      <td>Malignant tumor of colon: A primary or metasta...</td>\n",
       "      <td>0.31</td>\n",
       "      <td>2-C0007102</td>\n",
       "    </tr>\n",
       "    <tr>\n",
       "      <th>4</th>\n",
       "      <td>4</td>\n",
       "      <td>2</td>\n",
       "      <td>MGKNKLLHPSLVLLLLVLLPTDASVSGKPQYMVLVPSLLHTETTEK...</td>\n",
       "      <td>C0009375</td>\n",
       "      <td>Colonic Neoplasms: A benign or malignant neopl...</td>\n",
       "      <td>0.30</td>\n",
       "      <td>2-C0009375</td>\n",
       "    </tr>\n",
       "    <tr>\n",
       "      <th>...</th>\n",
       "      <td>...</td>\n",
       "      <td>...</td>\n",
       "      <td>...</td>\n",
       "      <td>...</td>\n",
       "      <td>...</td>\n",
       "      <td>...</td>\n",
       "      <td>...</td>\n",
       "    </tr>\n",
       "    <tr>\n",
       "      <th>52471</th>\n",
       "      <td>52471</td>\n",
       "      <td>100507436</td>\n",
       "      <td>MGLGPVFLLLAGIFPFAPPGAAAEPHSLRYNLTVLSWDGSVQSGFL...</td>\n",
       "      <td>C0029172</td>\n",
       "      <td>Oral Submucous Fibrosis: Irreversible FIBROSIS...</td>\n",
       "      <td>0.31</td>\n",
       "      <td>100507436-C0029172</td>\n",
       "    </tr>\n",
       "    <tr>\n",
       "      <th>52472</th>\n",
       "      <td>52472</td>\n",
       "      <td>100507436</td>\n",
       "      <td>MGLGPVFLLLAGIFPFAPPGAAAEPHSLRYNLTVLSWDGSVQSGFL...</td>\n",
       "      <td>C2239176</td>\n",
       "      <td>Liver carcinoma: Hepatocellular carcinoma is t...</td>\n",
       "      <td>0.40</td>\n",
       "      <td>100507436-C2239176</td>\n",
       "    </tr>\n",
       "    <tr>\n",
       "      <th>52473</th>\n",
       "      <td>52473</td>\n",
       "      <td>100820829</td>\n",
       "      <td>MLRSTSTVTLLSGGAARTPGAPSRRANVCRLRLTVPPESPVPEQCE...</td>\n",
       "      <td>C0087031</td>\n",
       "      <td>Juvenile-Onset Still Disease: An inflammatory ...</td>\n",
       "      <td>0.30</td>\n",
       "      <td>100820829-C0087031</td>\n",
       "    </tr>\n",
       "    <tr>\n",
       "      <th>52474</th>\n",
       "      <td>52474</td>\n",
       "      <td>100820829</td>\n",
       "      <td>MLRSTSTVTLLSGGAARTPGAPSRRANVCRLRLTVPPESPVPEQCE...</td>\n",
       "      <td>C3495559</td>\n",
       "      <td>Juvenile arthritis: Juvenile arthritis (JUVAR)...</td>\n",
       "      <td>0.30</td>\n",
       "      <td>100820829-C3495559</td>\n",
       "    </tr>\n",
       "    <tr>\n",
       "      <th>52475</th>\n",
       "      <td>52475</td>\n",
       "      <td>100820829</td>\n",
       "      <td>MLRSTSTVTLLSGGAARTPGAPSRRANVCRLRLTVPPESPVPEQCE...</td>\n",
       "      <td>C3714758</td>\n",
       "      <td>Juvenile psoriatic arthritis: Childhood arthri...</td>\n",
       "      <td>0.30</td>\n",
       "      <td>100820829-C3714758</td>\n",
       "    </tr>\n",
       "  </tbody>\n",
       "</table>\n",
       "<p>52476 rows × 7 columns</p>\n",
       "</div>"
      ],
      "text/plain": [
       "       Unnamed: 0        ID1  \\\n",
       "0               0          1   \n",
       "1               1          1   \n",
       "2               2          2   \n",
       "3               3          2   \n",
       "4               4          2   \n",
       "...           ...        ...   \n",
       "52471       52471  100507436   \n",
       "52472       52472  100507436   \n",
       "52473       52473  100820829   \n",
       "52474       52474  100820829   \n",
       "52475       52475  100820829   \n",
       "\n",
       "                                                      X1       ID2  \\\n",
       "0      MSMLVVFLLLWGVTWGPVTEAAIFYETQPSLWAESESLLKPLANVT...  C0019209   \n",
       "1      MSMLVVFLLLWGVTWGPVTEAAIFYETQPSLWAESESLLKPLANVT...  C0036341   \n",
       "2      MGKNKLLHPSLVLLLLVLLPTDASVSGKPQYMVLVPSLLHTETTEK...  C0002395   \n",
       "3      MGKNKLLHPSLVLLLLVLLPTDASVSGKPQYMVLVPSLLHTETTEK...  C0007102   \n",
       "4      MGKNKLLHPSLVLLLLVLLPTDASVSGKPQYMVLVPSLLHTETTEK...  C0009375   \n",
       "...                                                  ...       ...   \n",
       "52471  MGLGPVFLLLAGIFPFAPPGAAAEPHSLRYNLTVLSWDGSVQSGFL...  C0029172   \n",
       "52472  MGLGPVFLLLAGIFPFAPPGAAAEPHSLRYNLTVLSWDGSVQSGFL...  C2239176   \n",
       "52473  MLRSTSTVTLLSGGAARTPGAPSRRANVCRLRLTVPPESPVPEQCE...  C0087031   \n",
       "52474  MLRSTSTVTLLSGGAARTPGAPSRRANVCRLRLTVPPESPVPEQCE...  C3495559   \n",
       "52475  MLRSTSTVTLLSGGAARTPGAPSRRANVCRLRLTVPPESPVPEQCE...  C3714758   \n",
       "\n",
       "                                                      X2     Y  \\\n",
       "0       Hepatomegaly: Abnormal enlargement of the liver.  0.30   \n",
       "1      Schizophrenia: Schizophrenia is highly heritab...  0.30   \n",
       "2      Alzheimer's Disease: Alzheimer disease is the ...  0.50   \n",
       "3      Malignant tumor of colon: A primary or metasta...  0.31   \n",
       "4      Colonic Neoplasms: A benign or malignant neopl...  0.30   \n",
       "...                                                  ...   ...   \n",
       "52471  Oral Submucous Fibrosis: Irreversible FIBROSIS...  0.31   \n",
       "52472  Liver carcinoma: Hepatocellular carcinoma is t...  0.40   \n",
       "52473  Juvenile-Onset Still Disease: An inflammatory ...  0.30   \n",
       "52474  Juvenile arthritis: Juvenile arthritis (JUVAR)...  0.30   \n",
       "52475  Juvenile psoriatic arthritis: Childhood arthri...  0.30   \n",
       "\n",
       "                 pair_idx  \n",
       "0              1-C0019209  \n",
       "1              1-C0036341  \n",
       "2              2-C0002395  \n",
       "3              2-C0007102  \n",
       "4              2-C0009375  \n",
       "...                   ...  \n",
       "52471  100507436-C0029172  \n",
       "52472  100507436-C2239176  \n",
       "52473  100820829-C0087031  \n",
       "52474  100820829-C3495559  \n",
       "52475  100820829-C3714758  \n",
       "\n",
       "[52476 rows x 7 columns]"
      ]
     },
     "execution_count": 32,
     "metadata": {},
     "output_type": "execute_result"
    }
   ],
   "source": [
    "df"
   ]
  },
  {
   "cell_type": "code",
   "execution_count": 33,
   "id": "962a4437-e3dd-4a86-a36a-78481e828c4e",
   "metadata": {},
   "outputs": [
    {
     "data": {
      "text/plain": [
       "Index(['Unnamed: 0', 'Unnamed: 0.1', 'geneId', 'geneSymbol', 'DSI', 'DPI',\n",
       "       'score', 'diseaseId', 'diseaseName', 'diseaseDes', 'proteinSeq',\n",
       "       'pair_idx'],\n",
       "      dtype='object')"
      ]
     },
     "execution_count": 33,
     "metadata": {},
     "output_type": "execute_result"
    }
   ],
   "source": [
    "df_full.columns"
   ]
  },
  {
   "cell_type": "code",
   "execution_count": 38,
   "id": "067db99d-75c1-496f-8ec9-65db73a35fe9",
   "metadata": {},
   "outputs": [],
   "source": [
    "pair_idx = df.pair_idx.to_numpy()\n",
    "df_full = df_full[~df_full.pair_idx.isin(pair_idx)][['geneId', 'geneSymbol', 'DSI', 'DPI',\n",
    "       'score', 'diseaseId', 'diseaseName', 'diseaseDes', 'proteinSeq']]"
   ]
  },
  {
   "cell_type": "code",
   "execution_count": 39,
   "id": "f1a4d89f-84bb-4e80-a080-83204bf701ea",
   "metadata": {},
   "outputs": [],
   "source": [
    "df_full.to_csv(\"disgenet_all.csv\",index=None)"
   ]
  },
  {
   "cell_type": "code",
   "execution_count": 7,
   "id": "c01387f1-5892-497a-8d09-9c0502fde2a8",
   "metadata": {},
   "outputs": [
    {
     "name": "stdout",
     "output_type": "stream",
     "text": [
      "/nfs/protbert/notebooks/data_processing\n"
     ]
    }
   ],
   "source": [
    "!pwd"
   ]
  },
  {
   "cell_type": "code",
   "execution_count": 14,
   "id": "99a0d6ee-faf6-4451-aefa-78f9b3a2406f",
   "metadata": {},
   "outputs": [
    {
     "data": {
      "text/html": [
       "<div>\n",
       "<style scoped>\n",
       "    .dataframe tbody tr th:only-of-type {\n",
       "        vertical-align: middle;\n",
       "    }\n",
       "\n",
       "    .dataframe tbody tr th {\n",
       "        vertical-align: top;\n",
       "    }\n",
       "\n",
       "    .dataframe thead th {\n",
       "        text-align: right;\n",
       "    }\n",
       "</style>\n",
       "<table border=\"1\" class=\"dataframe\">\n",
       "  <thead>\n",
       "    <tr style=\"text-align: right;\">\n",
       "      <th></th>\n",
       "      <th>geneId</th>\n",
       "      <th>geneSymbol</th>\n",
       "      <th>DSI</th>\n",
       "      <th>DPI</th>\n",
       "      <th>score</th>\n",
       "      <th>diseaseId</th>\n",
       "      <th>diseaseName</th>\n",
       "      <th>diseaseDes</th>\n",
       "      <th>proteinSeq</th>\n",
       "    </tr>\n",
       "  </thead>\n",
       "  <tbody>\n",
       "    <tr>\n",
       "      <th>0</th>\n",
       "      <td>1</td>\n",
       "      <td>A1BG</td>\n",
       "      <td>0.700</td>\n",
       "      <td>0.538</td>\n",
       "      <td>0.01</td>\n",
       "      <td>C0001418</td>\n",
       "      <td>Adenocarcinoma</td>\n",
       "      <td>A common cancer characterized by the presence ...</td>\n",
       "      <td>MSMLVVFLLLWGVTWGPVTEAAIFYETQPSLWAESESLLKPLANVT...</td>\n",
       "    </tr>\n",
       "    <tr>\n",
       "      <th>1</th>\n",
       "      <td>1</td>\n",
       "      <td>A1BG</td>\n",
       "      <td>0.700</td>\n",
       "      <td>0.538</td>\n",
       "      <td>0.01</td>\n",
       "      <td>C0002736</td>\n",
       "      <td>Amyotrophic Lateral Sclerosis</td>\n",
       "      <td>A neurodegenerative disease characterized by p...</td>\n",
       "      <td>MSMLVVFLLLWGVTWGPVTEAAIFYETQPSLWAESESLLKPLANVT...</td>\n",
       "    </tr>\n",
       "    <tr>\n",
       "      <th>2</th>\n",
       "      <td>1</td>\n",
       "      <td>A1BG</td>\n",
       "      <td>0.700</td>\n",
       "      <td>0.538</td>\n",
       "      <td>0.01</td>\n",
       "      <td>C0003578</td>\n",
       "      <td>Apnea</td>\n",
       "      <td>Lack of breathing with no movement of the resp...</td>\n",
       "      <td>MSMLVVFLLLWGVTWGPVTEAAIFYETQPSLWAESESLLKPLANVT...</td>\n",
       "    </tr>\n",
       "    <tr>\n",
       "      <th>3</th>\n",
       "      <td>1</td>\n",
       "      <td>A1BG</td>\n",
       "      <td>0.700</td>\n",
       "      <td>0.538</td>\n",
       "      <td>0.01</td>\n",
       "      <td>C0003864</td>\n",
       "      <td>Arthritis</td>\n",
       "      <td>Inflammation of a joint.</td>\n",
       "      <td>MSMLVVFLLLWGVTWGPVTEAAIFYETQPSLWAESESLLKPLANVT...</td>\n",
       "    </tr>\n",
       "    <tr>\n",
       "      <th>4</th>\n",
       "      <td>1</td>\n",
       "      <td>A1BG</td>\n",
       "      <td>0.700</td>\n",
       "      <td>0.538</td>\n",
       "      <td>0.01</td>\n",
       "      <td>C0008373</td>\n",
       "      <td>Cholesteatoma</td>\n",
       "      <td>Cholesteatoma is a benign but potentially dest...</td>\n",
       "      <td>MSMLVVFLLLWGVTWGPVTEAAIFYETQPSLWAESESLLKPLANVT...</td>\n",
       "    </tr>\n",
       "    <tr>\n",
       "      <th>...</th>\n",
       "      <td>...</td>\n",
       "      <td>...</td>\n",
       "      <td>...</td>\n",
       "      <td>...</td>\n",
       "      <td>...</td>\n",
       "      <td>...</td>\n",
       "      <td>...</td>\n",
       "      <td>...</td>\n",
       "      <td>...</td>\n",
       "    </tr>\n",
       "    <tr>\n",
       "      <th>966876</th>\n",
       "      <td>115072896</td>\n",
       "      <td>SLCO1B3-SLCO1B7</td>\n",
       "      <td>0.839</td>\n",
       "      <td>0.077</td>\n",
       "      <td>0.10</td>\n",
       "      <td>C0344395</td>\n",
       "      <td>Bilirubin measurement</td>\n",
       "      <td>Bilirubin measurement</td>\n",
       "      <td>MDQHQHLNKTAESASSEKKKTRRCNGFKMFLAALSFSYIAKALGGI...</td>\n",
       "    </tr>\n",
       "    <tr>\n",
       "      <th>966877</th>\n",
       "      <td>115072896</td>\n",
       "      <td>SLCO1B3-SLCO1B7</td>\n",
       "      <td>0.839</td>\n",
       "      <td>0.077</td>\n",
       "      <td>0.10</td>\n",
       "      <td>C0410702</td>\n",
       "      <td>Adolescent idiopathic scoliosis</td>\n",
       "      <td>A scoliosis with no known cause arising in ado...</td>\n",
       "      <td>MDQHQHLNKTAESASSEKKKTRRCNGFKMFLAALSFSYIAKALGGI...</td>\n",
       "    </tr>\n",
       "    <tr>\n",
       "      <th>966878</th>\n",
       "      <td>115072896</td>\n",
       "      <td>SLCO1B3-SLCO1B7</td>\n",
       "      <td>0.839</td>\n",
       "      <td>0.077</td>\n",
       "      <td>0.10</td>\n",
       "      <td>C0489786</td>\n",
       "      <td>Height</td>\n",
       "      <td>Height</td>\n",
       "      <td>MDQHQHLNKTAESASSEKKKTRRCNGFKMFLAALSFSYIAKALGGI...</td>\n",
       "    </tr>\n",
       "    <tr>\n",
       "      <th>966879</th>\n",
       "      <td>115072896</td>\n",
       "      <td>SLCO1B3-SLCO1B7</td>\n",
       "      <td>0.839</td>\n",
       "      <td>0.077</td>\n",
       "      <td>0.10</td>\n",
       "      <td>C1287365</td>\n",
       "      <td>Bilirubin level result</td>\n",
       "      <td>Bilirubin level result</td>\n",
       "      <td>MDQHQHLNKTAESASSEKKKTRRCNGFKMFLAALSFSYIAKALGGI...</td>\n",
       "    </tr>\n",
       "    <tr>\n",
       "      <th>966880</th>\n",
       "      <td>115072896</td>\n",
       "      <td>SLCO1B3-SLCO1B7</td>\n",
       "      <td>0.839</td>\n",
       "      <td>0.077</td>\n",
       "      <td>0.10</td>\n",
       "      <td>C1837461</td>\n",
       "      <td>SCOLIOSIS, ISOLATED, SUSCEPTIBILITY TO, 3</td>\n",
       "      <td>Idiopathic scoliosis, an abnormality of the ve...</td>\n",
       "      <td>MDQHQHLNKTAESASSEKKKTRRCNGFKMFLAALSFSYIAKALGGI...</td>\n",
       "    </tr>\n",
       "  </tbody>\n",
       "</table>\n",
       "<p>966881 rows × 9 columns</p>\n",
       "</div>"
      ],
      "text/plain": [
       "           geneId       geneSymbol    DSI    DPI  score diseaseId  \\\n",
       "0               1             A1BG  0.700  0.538   0.01  C0001418   \n",
       "1               1             A1BG  0.700  0.538   0.01  C0002736   \n",
       "2               1             A1BG  0.700  0.538   0.01  C0003578   \n",
       "3               1             A1BG  0.700  0.538   0.01  C0003864   \n",
       "4               1             A1BG  0.700  0.538   0.01  C0008373   \n",
       "...           ...              ...    ...    ...    ...       ...   \n",
       "966876  115072896  SLCO1B3-SLCO1B7  0.839  0.077   0.10  C0344395   \n",
       "966877  115072896  SLCO1B3-SLCO1B7  0.839  0.077   0.10  C0410702   \n",
       "966878  115072896  SLCO1B3-SLCO1B7  0.839  0.077   0.10  C0489786   \n",
       "966879  115072896  SLCO1B3-SLCO1B7  0.839  0.077   0.10  C1287365   \n",
       "966880  115072896  SLCO1B3-SLCO1B7  0.839  0.077   0.10  C1837461   \n",
       "\n",
       "                                      diseaseName  \\\n",
       "0                                  Adenocarcinoma   \n",
       "1                   Amyotrophic Lateral Sclerosis   \n",
       "2                                           Apnea   \n",
       "3                                       Arthritis   \n",
       "4                                   Cholesteatoma   \n",
       "...                                           ...   \n",
       "966876                      Bilirubin measurement   \n",
       "966877            Adolescent idiopathic scoliosis   \n",
       "966878                                     Height   \n",
       "966879                     Bilirubin level result   \n",
       "966880  SCOLIOSIS, ISOLATED, SUSCEPTIBILITY TO, 3   \n",
       "\n",
       "                                               diseaseDes  \\\n",
       "0       A common cancer characterized by the presence ...   \n",
       "1       A neurodegenerative disease characterized by p...   \n",
       "2       Lack of breathing with no movement of the resp...   \n",
       "3                                Inflammation of a joint.   \n",
       "4       Cholesteatoma is a benign but potentially dest...   \n",
       "...                                                   ...   \n",
       "966876                              Bilirubin measurement   \n",
       "966877  A scoliosis with no known cause arising in ado...   \n",
       "966878                                             Height   \n",
       "966879                             Bilirubin level result   \n",
       "966880  Idiopathic scoliosis, an abnormality of the ve...   \n",
       "\n",
       "                                               proteinSeq  \n",
       "0       MSMLVVFLLLWGVTWGPVTEAAIFYETQPSLWAESESLLKPLANVT...  \n",
       "1       MSMLVVFLLLWGVTWGPVTEAAIFYETQPSLWAESESLLKPLANVT...  \n",
       "2       MSMLVVFLLLWGVTWGPVTEAAIFYETQPSLWAESESLLKPLANVT...  \n",
       "3       MSMLVVFLLLWGVTWGPVTEAAIFYETQPSLWAESESLLKPLANVT...  \n",
       "4       MSMLVVFLLLWGVTWGPVTEAAIFYETQPSLWAESESLLKPLANVT...  \n",
       "...                                                   ...  \n",
       "966876  MDQHQHLNKTAESASSEKKKTRRCNGFKMFLAALSFSYIAKALGGI...  \n",
       "966877  MDQHQHLNKTAESASSEKKKTRRCNGFKMFLAALSFSYIAKALGGI...  \n",
       "966878  MDQHQHLNKTAESASSEKKKTRRCNGFKMFLAALSFSYIAKALGGI...  \n",
       "966879  MDQHQHLNKTAESASSEKKKTRRCNGFKMFLAALSFSYIAKALGGI...  \n",
       "966880  MDQHQHLNKTAESASSEKKKTRRCNGFKMFLAALSFSYIAKALGGI...  \n",
       "\n",
       "[966881 rows x 9 columns]"
      ]
     },
     "execution_count": 14,
     "metadata": {},
     "output_type": "execute_result"
    }
   ],
   "source": [
    "import pandas as pd\n",
    "df_full = pd.read_csv(\"../../data/pretrain/disgenet_gda.csv\")\n",
    "df_full"
   ]
  },
  {
   "cell_type": "code",
   "execution_count": 15,
   "id": "e893b37b-7d6b-4aa4-b53a-613cc32bb1e2",
   "metadata": {},
   "outputs": [
    {
     "name": "stderr",
     "output_type": "stream",
     "text": [
      "/root/anaconda3/lib/python3.9/site-packages/seaborn/distributions.py:2619: FutureWarning: `distplot` is a deprecated function and will be removed in a future version. Please adapt your code to use either `displot` (a figure-level function with similar flexibility) or `histplot` (an axes-level function for histograms).\n",
      "  warnings.warn(msg, FutureWarning)\n"
     ]
    },
    {
     "data": {
      "image/png": "[encoded data removed]",
      "text/plain": [
       "<Figure size 432x288 with 1 Axes>"
      ]
     },
     "metadata": {
      "needs_background": "light"
     },
     "output_type": "display_data"
    }
   ],
   "source": [
    "import seaborn as sns, numpy as np\n",
    "ax = sns.distplot(df_full[\"score\"])"
   ]
  },
  {
   "cell_type": "code",
   "execution_count": null,
   "id": "19fe48da-33b4-45dd-95cf-16ed40156b99",
   "metadata": {},
   "outputs": [],
   "source": []
  }
 ],
 "metadata": {
  "kernelspec": {
   "display_name": "Python 3 (ipykernel)",
   "language": "python",
   "name": "python3"
  },
  "language_info": {
   "codemirror_mode": {
    "name": "ipython",
    "version": 3
   },
   "file_extension": ".py",
   "mimetype": "text/x-python",
   "name": "python",
   "nbconvert_exporter": "python",
   "pygments_lexer": "ipython3",
   "version": "3.8.10"
  }
 },
 "nbformat": 4,
 "nbformat_minor": 5
}
